{
 "cells": [
  {
   "cell_type": "code",
   "execution_count": null,
   "metadata": {},
   "outputs": [],
   "source": []
  },
  {
   "cell_type": "markdown",
   "metadata": {},
   "source": [
    "# K-th occurence of item in BST"
   ]
  },
  {
   "cell_type": "code",
   "execution_count": 33,
   "metadata": {},
   "outputs": [],
   "source": [
    "arr = [2, 4, 10, 10, 10, 18, 20]\n",
    "\n",
    "def _search(arr, data, low, high):\n",
    "    result = -1\n",
    "    while low <= high:\n",
    "        mid = (low + high) // 2\n",
    "        if arr[mid] == data:\n",
    "            result = mid\n",
    "            low = mid + 1\n",
    "#             high = mid - 1\n",
    "        elif data < arr[mid]:\n",
    "            high = mid - 1\n",
    "        elif data > arr[mid]:\n",
    "            low = mid + 1\n",
    "            \n",
    "    return result\n",
    "\n",
    "def search(arr, data):\n",
    "    return _search(arr, data, 0, len(arr)-1)\n",
    "        "
   ]
  },
  {
   "cell_type": "code",
   "execution_count": 34,
   "metadata": {},
   "outputs": [
    {
     "data": {
      "text/plain": [
       "(0, 1, -1, 4, -1, 6)"
      ]
     },
     "execution_count": 34,
     "metadata": {},
     "output_type": "execute_result"
    }
   ],
   "source": [
    "search(arr, 2), search(arr, 4), search(arr, 5), search(arr, 10), search(arr, 19), search(arr, 20)"
   ]
  },
  {
   "cell_type": "code",
   "execution_count": 35,
   "metadata": {},
   "outputs": [
    {
     "data": {
      "text/plain": [
       "4"
      ]
     },
     "execution_count": 35,
     "metadata": {},
     "output_type": "execute_result"
    }
   ],
   "source": [
    "search(arr, 10)"
   ]
  },
  {
   "cell_type": "code",
   "execution_count": null,
   "metadata": {},
   "outputs": [],
   "source": []
  },
  {
   "cell_type": "markdown",
   "metadata": {},
   "source": [
    "# Find count of an element in a sorted list"
   ]
  },
  {
   "cell_type": "code",
   "execution_count": 51,
   "metadata": {},
   "outputs": [],
   "source": [
    "def _search(arr, data, low, high, occurence='last'):\n",
    "    result = -1\n",
    "    while low <= high:\n",
    "        mid = (low + high) // 2\n",
    "        if arr[mid] == data:\n",
    "            result = mid\n",
    "            if occurence == 'last':\n",
    "                low = mid + 1\n",
    "            else:\n",
    "                high = mid - 1\n",
    "        elif data < arr[mid]:\n",
    "            high = mid - 1\n",
    "        elif data > arr[mid]:\n",
    "            low = mid + 1\n",
    "            \n",
    "    return result\n",
    "\n",
    "def count_occurrences(arr, data):\n",
    "    first = _search(arr, data, 0, len(arr)-1, occurence='first')\n",
    "    if first == -1:\n",
    "        return -1\n",
    "    else:\n",
    "        last = _search(arr, data, 0, len(arr)-1, occurence='last')\n",
    "    return last - first + 1"
   ]
  },
  {
   "cell_type": "code",
   "execution_count": 52,
   "metadata": {},
   "outputs": [
    {
     "data": {
      "text/plain": [
       "(5, 2, 2, 1)"
      ]
     },
     "execution_count": 52,
     "metadata": {},
     "output_type": "execute_result"
    }
   ],
   "source": [
    "arr = [1, 1, 3, 3, 5, 5, 5, 5, 5, 9, 9, 11]\n",
    "\n",
    "count_occurrences(arr, 5), count_occurrences(arr, 1), count_occurrences(arr, 3), count_occurrences(arr, 11)"
   ]
  },
  {
   "cell_type": "code",
   "execution_count": 53,
   "metadata": {},
   "outputs": [
    {
     "data": {
      "text/plain": [
       "-1"
      ]
     },
     "execution_count": 53,
     "metadata": {},
     "output_type": "execute_result"
    }
   ],
   "source": [
    "count_occurrences(arr, 0)"
   ]
  },
  {
   "cell_type": "code",
   "execution_count": null,
   "metadata": {},
   "outputs": [],
   "source": []
  },
  {
   "cell_type": "markdown",
   "metadata": {},
   "source": [
    "# How many times is a sorted array rotated?"
   ]
  },
  {
   "cell_type": "markdown",
   "metadata": {},
   "source": [
    "#TODO: not done"
   ]
  },
  {
   "cell_type": "code",
   "execution_count": 113,
   "metadata": {},
   "outputs": [],
   "source": [
    "def rotation_count(arr):\n",
    "    n = len(arr)\n",
    "    low = 0\n",
    "    high = n - 1\n",
    "    while low <= high:\n",
    "        if arr[low] <= arr[high]:\n",
    "            return low\n",
    "        \n",
    "        mid = (low + high) // 2\n",
    "        next_ = (mid + 1) % n\n",
    "        prev = (mid - 1 + n) % n\n",
    "        if arr[mid] <= arr[next_] and arr[mid] <= arr[prev]:\n",
    "            return mid\n",
    "        \n",
    "        if arr[mid] <= arr[high]:\n",
    "            high = mid - 1\n",
    "        elif arr[mid] >= arr[low]:\n",
    "            low = mid + 1\n",
    "    return -1"
   ]
  },
  {
   "cell_type": "code",
   "execution_count": 116,
   "metadata": {},
   "outputs": [
    {
     "data": {
      "text/plain": [
       "2"
      ]
     },
     "execution_count": 116,
     "metadata": {},
     "output_type": "execute_result"
    }
   ],
   "source": [
    "arr = [11, 12, 15, 18, 2, 5, 6, 8]\n",
    "# arr = [15, 22, 23, 28, 31, 38, 5, 6, 8, 10, 12]\n",
    "# arr = [1, 2, 3, 4]\n",
    "arr = [17, 18, 2, 5, 6, 8]\n",
    "\n",
    "rotation_count(arr)"
   ]
  },
  {
   "cell_type": "code",
   "execution_count": null,
   "metadata": {},
   "outputs": [],
   "source": []
  },
  {
   "cell_type": "markdown",
   "metadata": {},
   "source": [
    "# Sorted array to BST"
   ]
  },
  {
   "cell_type": "code",
   "execution_count": 1,
   "metadata": {},
   "outputs": [],
   "source": [
    "class Node: \n",
    "    def __init__(self, data):\n",
    "        self.data = data\n",
    "        self.left = None\n",
    "        self.right = None\n",
    "        \n",
    "def _array_to_bst(arr, start, end):\n",
    "    if start <= end:\n",
    "        mid = (start + end) // 2\n",
    "        node = Node(arr[mid])\n",
    "        node.left = _array_to_bst(arr, start, mid - 1)\n",
    "        node.right = _array_to_bst(arr, mid + 1, end)\n",
    "        return node\n",
    "\n",
    "def array_to_bst(arr):\n",
    "    return _array_to_bst(arr, 0, len(arr) - 1)\n",
    "\n",
    "def preorder(node): \n",
    "    if not node: \n",
    "        return\n",
    "    \n",
    "    print(node.data)\n",
    "    preorder(node.left)\n",
    "    preorder(node.right)\n",
    "    \n",
    "def inorder(node): \n",
    "    if not node: \n",
    "        return\n",
    "    \n",
    "    inorder(node.left)\n",
    "    print(node.data)\n",
    "    inorder(node.right)\n",
    "    "
   ]
  },
  {
   "cell_type": "code",
   "execution_count": 100,
   "metadata": {},
   "outputs": [
    {
     "data": {
      "text/plain": [
       "<__main__.Node at 0x182fd7a42b0>"
      ]
     },
     "execution_count": 100,
     "metadata": {},
     "output_type": "execute_result"
    }
   ],
   "source": [
    "arr = [1, 2, 3, 4, 5]\n",
    "\n",
    "head = array_to_bst(arr)\n",
    "head"
   ]
  },
  {
   "cell_type": "code",
   "execution_count": 101,
   "metadata": {},
   "outputs": [
    {
     "name": "stdout",
     "output_type": "stream",
     "text": [
      "3\n",
      "1\n",
      "2\n",
      "4\n",
      "5\n"
     ]
    }
   ],
   "source": [
    "preorder(head)"
   ]
  },
  {
   "cell_type": "code",
   "execution_count": 106,
   "metadata": {},
   "outputs": [
    {
     "data": {
      "text/plain": [
       "<__main__.Node at 0x182fd79d1d0>"
      ]
     },
     "execution_count": 106,
     "metadata": {},
     "output_type": "execute_result"
    }
   ],
   "source": [
    "arr = sorted([6, 2, 3, 4, 5, 2, 1])\n",
    "\n",
    "head = array_to_bst(arr)\n",
    "head"
   ]
  },
  {
   "cell_type": "code",
   "execution_count": 107,
   "metadata": {},
   "outputs": [
    {
     "name": "stdout",
     "output_type": "stream",
     "text": [
      "1\n",
      "2\n",
      "2\n",
      "3\n",
      "4\n",
      "5\n",
      "6\n"
     ]
    }
   ],
   "source": [
    "inorder(head)"
   ]
  },
  {
   "cell_type": "code",
   "execution_count": null,
   "metadata": {},
   "outputs": [],
   "source": []
  },
  {
   "cell_type": "markdown",
   "metadata": {},
   "source": [
    "# Sorted Linked List to BST"
   ]
  },
  {
   "cell_type": "code",
   "execution_count": 8,
   "metadata": {},
   "outputs": [],
   "source": [
    "class TNode: \n",
    "    def __init__(self, data):\n",
    "        self.data = data\n",
    "        self.left = None\n",
    "        self.right = None\n",
    "        \n",
    "class LNode:\n",
    "    def __init__(self, data):\n",
    "        self.data = data\n",
    "        self.next = None\n",
    "        \n",
    "def lpush(head, data):\n",
    "    node = LNode(data)\n",
    "    node.next = head\n",
    "    head = node\n",
    "    return head\n",
    "\n",
    "def ltraverse(head):\n",
    "    current = head\n",
    "    while current:\n",
    "        print(current.data)\n",
    "        current = current.next\n",
    "\n",
    "def lcount(head):\n",
    "    current = head\n",
    "    cnt = 0\n",
    "    while current:\n",
    "        cnt += 1\n",
    "        current = current.next\n",
    "    return cnt\n",
    "\n",
    "def inorder(node): \n",
    "    if not node: \n",
    "        return\n",
    "    \n",
    "    inorder(node.left)\n",
    "    print(node.data)\n",
    "    inorder(node.right)"
   ]
  },
  {
   "cell_type": "code",
   "execution_count": 60,
   "metadata": {},
   "outputs": [
    {
     "name": "stdout",
     "output_type": "stream",
     "text": [
      "1\n",
      "2\n",
      "3\n",
      "4\n",
      "5\n"
     ]
    },
    {
     "data": {
      "text/plain": [
       "5"
      ]
     },
     "execution_count": 60,
     "metadata": {},
     "output_type": "execute_result"
    }
   ],
   "source": [
    "head = None\n",
    "\n",
    "head = lpush(head, 5)\n",
    "head = lpush(head, 4)\n",
    "head = lpush(head, 3)\n",
    "head = lpush(head, 2)\n",
    "head = lpush(head, 1)\n",
    "\n",
    "ltraverse(head)\n",
    "\n",
    "n = lcount(head)\n",
    "n"
   ]
  },
  {
   "cell_type": "code",
   "execution_count": 71,
   "metadata": {},
   "outputs": [],
   "source": [
    "def ll_to_bst(head, start, end):\n",
    "    def _ll_to_bst(start, end):\n",
    "        nonlocal head\n",
    "        if start <= end:\n",
    "            mid = start + (end - start) // 2\n",
    "            left = _ll_to_bst(start, mid - 1)\n",
    "            print('data', head.data, 'start', start, 'end', end, 'mid', mid)\n",
    "            node = TNode(head.data)\n",
    "            node.left = left\n",
    "            head = head.next\n",
    "            node.right = _ll_to_bst(mid + 1, end)\n",
    "            return node\n",
    "    return _ll_to_bst(start, end)\n",
    "    "
   ]
  },
  {
   "cell_type": "code",
   "execution_count": 72,
   "metadata": {},
   "outputs": [
    {
     "name": "stdout",
     "output_type": "stream",
     "text": [
      "data 1 start 0 end 1 mid 0\n",
      "data 2 start 1 end 1 mid 1\n",
      "data 3 start 0 end 4 mid 2\n",
      "data 4 start 3 end 4 mid 3\n",
      "data 5 start 4 end 4 mid 4\n"
     ]
    }
   ],
   "source": [
    "h = ll_to_bst(head, 0, n-1)"
   ]
  },
  {
   "cell_type": "code",
   "execution_count": 70,
   "metadata": {},
   "outputs": [
    {
     "name": "stdout",
     "output_type": "stream",
     "text": [
      "1\n",
      "2\n",
      "3\n",
      "4\n",
      "5\n"
     ]
    }
   ],
   "source": [
    "inorder(h)"
   ]
  },
  {
   "cell_type": "code",
   "execution_count": 26,
   "metadata": {},
   "outputs": [
    {
     "data": {
      "text/plain": [
       "1"
      ]
     },
     "execution_count": 26,
     "metadata": {},
     "output_type": "execute_result"
    }
   ],
   "source": [
    "h.left.data"
   ]
  },
  {
   "cell_type": "code",
   "execution_count": 21,
   "metadata": {},
   "outputs": [],
   "source": [
    "ltraverse(head)"
   ]
  },
  {
   "cell_type": "code",
   "execution_count": null,
   "metadata": {},
   "outputs": [],
   "source": []
  },
  {
   "cell_type": "markdown",
   "metadata": {},
   "source": [
    "# Merge two sorted linked lists into one"
   ]
  },
  {
   "cell_type": "code",
   "execution_count": 120,
   "metadata": {},
   "outputs": [],
   "source": [
    "class Node:\n",
    "    def __init__(self, data, next_):\n",
    "        self.data = data\n",
    "        self.next = next_\n",
    "        \n",
    "a = b = None\n",
    "\n",
    "for i in reversed(range(1, 8, 2)):\n",
    "    a = Node(i, a)\n",
    "    \n",
    "for i in reversed(range(2, 7, 2)):\n",
    "    b = Node(i, b)"
   ]
  },
  {
   "cell_type": "code",
   "execution_count": 124,
   "metadata": {},
   "outputs": [
    {
     "name": "stdout",
     "output_type": "stream",
     "text": [
      "1\n",
      "3\n",
      "5\n",
      "7\n"
     ]
    }
   ],
   "source": [
    "ltraverse(a)"
   ]
  },
  {
   "cell_type": "code",
   "execution_count": 125,
   "metadata": {},
   "outputs": [
    {
     "name": "stdout",
     "output_type": "stream",
     "text": [
      "2\n",
      "4\n",
      "6\n"
     ]
    }
   ],
   "source": [
    "ltraverse(b)"
   ]
  },
  {
   "cell_type": "code",
   "execution_count": 123,
   "metadata": {},
   "outputs": [],
   "source": [
    "def merge(a, b):\n",
    "    \n",
    "    tail = None\n",
    "    a_ = a\n",
    "    b_ = b\n",
    "    \n",
    "    while True:\n",
    "        if a_ is None:\n",
    "            tail.next = b\n",
    "            break\n",
    "        elif b_ is None:\n",
    "            tail.next = a\n",
    "            break\n",
    "        \n",
    "        if a_.data <= b_.data:\n",
    "            min_node = a_\n",
    "            a_ = a_.next\n",
    "        else:\n",
    "            min_node = b_\n",
    "            b_ = b_.next\n",
    "        \n",
    "        if tail:\n",
    "            tail.next = min_node\n",
    "        \n",
    "        \n",
    "        tail = min_node"
   ]
  },
  {
   "cell_type": "code",
   "execution_count": null,
   "metadata": {},
   "outputs": [],
   "source": []
  },
  {
   "cell_type": "code",
   "execution_count": null,
   "metadata": {},
   "outputs": [],
   "source": []
  },
  {
   "cell_type": "code",
   "execution_count": null,
   "metadata": {},
   "outputs": [],
   "source": []
  },
  {
   "cell_type": "code",
   "execution_count": null,
   "metadata": {},
   "outputs": [],
   "source": []
  },
  {
   "cell_type": "markdown",
   "metadata": {},
   "source": [
    "# Efficiently merge K sorted linked list"
   ]
  },
  {
   "cell_type": "markdown",
   "metadata": {},
   "source": [
    "https://www.techiedelight.com/efficiently-merge-k-sorted-linked-lists/"
   ]
  },
  {
   "cell_type": "code",
   "execution_count": null,
   "metadata": {},
   "outputs": [],
   "source": []
  }
 ],
 "metadata": {
  "kernelspec": {
   "display_name": "Python [default]",
   "language": "python",
   "name": "python3"
  },
  "language_info": {
   "codemirror_mode": {
    "name": "ipython",
    "version": 3
   },
   "file_extension": ".py",
   "mimetype": "text/x-python",
   "name": "python",
   "nbconvert_exporter": "python",
   "pygments_lexer": "ipython3",
   "version": "3.6.5"
  }
 },
 "nbformat": 4,
 "nbformat_minor": 2
}
