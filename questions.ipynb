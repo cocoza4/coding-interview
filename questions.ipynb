{
 "cells": [
  {
   "cell_type": "code",
   "execution_count": 9,
   "metadata": {},
   "outputs": [],
   "source": [
    "import heapq\n",
    "import numpy as np\n",
    "from collections import deque, Counter"
   ]
  },
  {
   "cell_type": "code",
   "execution_count": null,
   "metadata": {},
   "outputs": [],
   "source": []
  },
  {
   "cell_type": "markdown",
   "metadata": {},
   "source": [
    "## Knapsack Problem"
   ]
  },
  {
   "cell_type": "code",
   "execution_count": 64,
   "metadata": {},
   "outputs": [],
   "source": [
    "def knapsack_bottomup(weights, values, capacity):\n",
    "    n = len(weights)\n",
    "    V = [[0 for _ in range(capacity+1)] for _ in range(n+1)]\n",
    "    for i in range(1, n+1):\n",
    "        for j in range(1, capacity+1):\n",
    "            if weights[i-1] <= j:\n",
    "                V[i][j] = max(V[i-1][j], values[i-1] + V[i-1][j-weights[i-1]])\n",
    "            else:\n",
    "                V[i][j] = V[i-1][j]\n",
    "                \n",
    "    print(np.array(V))\n",
    "#     print()\n",
    "#     print('weights:', end=' ')\n",
    "#     result = V[n][capacity]\n",
    "#     w = capacity\n",
    "#     i = n\n",
    "#     while i > 0 and result > 0:\n",
    "#         if result != V[i-1][w]:\n",
    "#             print(weights[i-1], end=' ')\n",
    "            \n",
    "#             result -= values[i-1]\n",
    "#             w = w - weights[i-1]\n",
    "#         i -= 1\n",
    "    \n",
    "    return V[n][capacity]\n",
    "            "
   ]
  },
  {
   "cell_type": "code",
   "execution_count": 65,
   "metadata": {},
   "outputs": [
    {
     "name": "stdout",
     "output_type": "stream",
     "text": [
      "[[ 0  0  0  0  0  0  0  0  0  0  0]\n",
      " [ 0  5  5  5  5  5  5  5  5  5  5]\n",
      " [ 0  5  5  8  8  8  8  8  8  8  8]\n",
      " [ 0  5  5  8  8 10 10 13 13 13 13]\n",
      " [ 0  5  5  8  8 11 11 13 13 16 16]\n",
      " [ 0  5  5  8  8 11 11 13 13 16 16]]\n"
     ]
    },
    {
     "data": {
      "text/plain": [
       "16"
      ]
     },
     "execution_count": 65,
     "metadata": {},
     "output_type": "execute_result"
    }
   ],
   "source": [
    "weights = [1, 2, 4, 2, 5]\n",
    "values = [5, 3, 5, 3, 2]\n",
    "\n",
    "knapsack_bottomup(weights, values, capacity=10)"
   ]
  },
  {
   "cell_type": "code",
   "execution_count": null,
   "metadata": {},
   "outputs": [],
   "source": []
  },
  {
   "cell_type": "code",
   "execution_count": null,
   "metadata": {},
   "outputs": [],
   "source": []
  },
  {
   "cell_type": "code",
   "execution_count": 40,
   "metadata": {},
   "outputs": [],
   "source": [
    "cache = dict()\n",
    "def knapsack_n(weights, values, idx, capacity, path=[]):\n",
    "    key = (idx, capacity)\n",
    "    if key in cache:\n",
    "        return cache[key]\n",
    "    \n",
    "    if idx < 0 or capacity == 0:\n",
    "        result = 0\n",
    "    elif weights[idx] > capacity:\n",
    "        result = knapsack_n(weights, values, idx - 1, capacity, path)\n",
    "    else:\n",
    "        a = knapsack_n(weights, values, idx - 1, capacity)\n",
    "        b = values[idx] + knapsack_n(weights, values, idx - 1, capacity - weights[idx], path)\n",
    "        result = max(a, b)\n",
    "    \n",
    "    cache[key] = result\n",
    "    \n",
    "    return result"
   ]
  },
  {
   "cell_type": "code",
   "execution_count": 41,
   "metadata": {},
   "outputs": [
    {
     "data": {
      "text/plain": [
       "16"
      ]
     },
     "execution_count": 41,
     "metadata": {},
     "output_type": "execute_result"
    }
   ],
   "source": [
    "weights = [1, 2, 4, 2, 5]\n",
    "values = [5, 3, 5, 3, 2]\n",
    "path = []\n",
    "\n",
    "knapsack_n(weights, values, len(weights)-1, 10, path)"
   ]
  },
  {
   "cell_type": "code",
   "execution_count": null,
   "metadata": {},
   "outputs": [],
   "source": []
  },
  {
   "cell_type": "code",
   "execution_count": 47,
   "metadata": {},
   "outputs": [],
   "source": [
    "def knapsack(weights):\n",
    "    w_sum = sum(weights)\n",
    "    possible = {i: 0 for i in range(w_sum)}\n",
    "    possible[0] = 1\n",
    "    \n",
    "    for k in weights:\n",
    "        for x in reversed(range(w_sum)):\n",
    "            if possible[x]:\n",
    "                possible[x + k] = 1\n",
    "                \n",
    "    return possible"
   ]
  },
  {
   "cell_type": "code",
   "execution_count": 48,
   "metadata": {},
   "outputs": [
    {
     "data": {
      "text/plain": [
       "{0: 1,\n",
       " 1: 1,\n",
       " 2: 0,\n",
       " 3: 1,\n",
       " 4: 1,\n",
       " 5: 1,\n",
       " 6: 1,\n",
       " 7: 1,\n",
       " 8: 1,\n",
       " 9: 1,\n",
       " 10: 0,\n",
       " 11: 1,\n",
       " 12: 1}"
      ]
     },
     "execution_count": 48,
     "metadata": {},
     "output_type": "execute_result"
    }
   ],
   "source": [
    "weights = [1, 3, 3, 5]\n",
    "\n",
    "knapsack(weights)"
   ]
  },
  {
   "cell_type": "code",
   "execution_count": 49,
   "metadata": {},
   "outputs": [
    {
     "data": {
      "text/plain": [
       "{0: 1, 1: 0, 2: 0, 3: 0, 4: 0, 5: 0, 6: 0, 7: 0, 8: 0, 9: 0, 10: 0, 11: 0}"
      ]
     },
     "execution_count": 49,
     "metadata": {},
     "output_type": "execute_result"
    }
   ],
   "source": [
    "weights = [1, 3, 3, 5]\n",
    "possible = {i: 0 for i in range(sum(weights))}\n",
    "possible[0] = 1\n",
    "possible"
   ]
  },
  {
   "cell_type": "code",
   "execution_count": 12,
   "metadata": {},
   "outputs": [
    {
     "data": {
      "text/plain": [
       "12"
      ]
     },
     "execution_count": 12,
     "metadata": {},
     "output_type": "execute_result"
    }
   ],
   "source": [
    "sum(weights)"
   ]
  },
  {
   "cell_type": "code",
   "execution_count": 13,
   "metadata": {},
   "outputs": [
    {
     "data": {
      "text/plain": [
       "[11, 10, 9, 8, 7, 6, 5, 4, 3, 2, 1, 0]"
      ]
     },
     "execution_count": 13,
     "metadata": {},
     "output_type": "execute_result"
    }
   ],
   "source": [
    "list(reversed(range(sum(weights))))"
   ]
  },
  {
   "cell_type": "code",
   "execution_count": 14,
   "metadata": {},
   "outputs": [
    {
     "data": {
      "text/plain": [
       "{0: 1,\n",
       " 1: 1,\n",
       " 2: 0,\n",
       " 3: 1,\n",
       " 4: 1,\n",
       " 5: 1,\n",
       " 6: 1,\n",
       " 7: 1,\n",
       " 8: 1,\n",
       " 9: 1,\n",
       " 10: 0,\n",
       " 11: 1,\n",
       " 12: 1}"
      ]
     },
     "execution_count": 14,
     "metadata": {},
     "output_type": "execute_result"
    }
   ],
   "source": [
    "for k in weights:\n",
    "    for x in reversed(range(sum(weights))):\n",
    "        if possible[x]:\n",
    "            possible[x + k] = 1\n",
    "possible"
   ]
  },
  {
   "cell_type": "code",
   "execution_count": null,
   "metadata": {},
   "outputs": [],
   "source": [
    "0, 1, 3, 4, 5, 6, 7, 8, 9, 11, 12"
   ]
  },
  {
   "cell_type": "code",
   "execution_count": null,
   "metadata": {},
   "outputs": [],
   "source": [
    "1, 4, 6, 7, 9, 12"
   ]
  },
  {
   "cell_type": "code",
   "execution_count": null,
   "metadata": {},
   "outputs": [],
   "source": []
  },
  {
   "cell_type": "code",
   "execution_count": null,
   "metadata": {},
   "outputs": [],
   "source": []
  },
  {
   "cell_type": "code",
   "execution_count": 4,
   "metadata": {},
   "outputs": [],
   "source": [
    "#backtrack solution to solving n queens on an nxn chessboard\n",
    "n = 4\n",
    "count = [0]\n",
    "column = [0 for _ in range(n)]\n",
    "diag1 = [0 for _ in range(2*n-1)]\n",
    "diag2 = [0 for _ in range(2*n-1)]\n",
    "\n",
    "def q_search(y):\n",
    "    if y == n:\n",
    "        count[0] += 1\n",
    "        return\n",
    "    for x in range(n):\n",
    "        if column[x] or diag1[x+y] or diag2[x-y+n-1]: continue\n",
    "        column[x] = diag1[x+y] = diag2[x-y+n-1] = 1\n",
    "        q_search(y+1)\n",
    "        column[x] = diag1[x+y] = diag2[x-y+n-1] = 0"
   ]
  },
  {
   "cell_type": "code",
   "execution_count": 5,
   "metadata": {},
   "outputs": [
    {
     "name": "stdout",
     "output_type": "stream",
     "text": [
      "2\n"
     ]
    }
   ],
   "source": [
    "q_search(0)\n",
    "print(count[0])"
   ]
  },
  {
   "cell_type": "code",
   "execution_count": 8,
   "metadata": {},
   "outputs": [
    {
     "name": "stdout",
     "output_type": "stream",
     "text": [
      "3\n",
      "2\n",
      "1\n",
      "0\n",
      "4\n",
      "3\n",
      "2\n",
      "1\n",
      "5\n",
      "4\n",
      "3\n",
      "2\n",
      "6\n",
      "5\n",
      "4\n",
      "3\n"
     ]
    }
   ],
   "source": [
    "for i in range(n):\n",
    "    for j in range(n):\n",
    "        print(i-j+n-1)"
   ]
  },
  {
   "cell_type": "code",
   "execution_count": null,
   "metadata": {},
   "outputs": [],
   "source": []
  },
  {
   "cell_type": "code",
   "execution_count": 7,
   "metadata": {},
   "outputs": [],
   "source": [
    "def valid(xs):\n",
    "    cnt = 0\n",
    "    for x in xs:\n",
    "        if x == '(':\n",
    "            cnt += 1\n",
    "        else:\n",
    "            cnt -=1\n",
    "            if cnt < 0:\n",
    "                return False\n",
    "            \n",
    "    return cnt == 0"
   ]
  },
  {
   "cell_type": "code",
   "execution_count": 8,
   "metadata": {},
   "outputs": [
    {
     "data": {
      "text/plain": [
       "False"
      ]
     },
     "execution_count": 8,
     "metadata": {},
     "output_type": "execute_result"
    }
   ],
   "source": [
    "xs = '((()))'\n",
    "xs = '(()())'\n",
    "xs = '()())'\n",
    "xs = '))(('\n",
    "\n",
    "valid(xs)"
   ]
  },
  {
   "cell_type": "code",
   "execution_count": 9,
   "metadata": {},
   "outputs": [
    {
     "data": {
      "text/plain": [
       "(3, 1)"
      ]
     },
     "execution_count": 9,
     "metadata": {},
     "output_type": "execute_result"
    }
   ],
   "source": [
    "width, remainder = divmod(10, 3)\n",
    "width, remainder"
   ]
  },
  {
   "cell_type": "code",
   "execution_count": 12,
   "metadata": {},
   "outputs": [
    {
     "data": {
      "text/plain": [
       "4"
      ]
     },
     "execution_count": 12,
     "metadata": {},
     "output_type": "execute_result"
    }
   ],
   "source": [
    "width + (0 < remainder)"
   ]
  },
  {
   "cell_type": "code",
   "execution_count": null,
   "metadata": {},
   "outputs": [],
   "source": []
  },
  {
   "cell_type": "code",
   "execution_count": 21,
   "metadata": {},
   "outputs": [
    {
     "data": {
      "text/plain": [
       "Counter({1: 3, 2: 3, 3: 2, 4: 1, 5: 4})"
      ]
     },
     "execution_count": 21,
     "metadata": {},
     "output_type": "execute_result"
    }
   ],
   "source": [
    "h = []\n",
    "nums = [1, 1, 1, 2, 2, 2, 3, 3, 4, 5, 5, 5, 5]\n",
    "\n",
    "counts = Counter(nums)\n",
    "counts"
   ]
  },
  {
   "cell_type": "code",
   "execution_count": 22,
   "metadata": {},
   "outputs": [],
   "source": [
    "for n in nums:\n",
    "    heapq.heappush(h, n)"
   ]
  },
  {
   "cell_type": "code",
   "execution_count": 23,
   "metadata": {},
   "outputs": [
    {
     "data": {
      "text/plain": [
       "[1, 1, 1, 2, 2, 2, 3, 3, 4, 5, 5, 5, 5]"
      ]
     },
     "execution_count": 23,
     "metadata": {},
     "output_type": "execute_result"
    }
   ],
   "source": [
    "h"
   ]
  },
  {
   "cell_type": "code",
   "execution_count": 20,
   "metadata": {},
   "outputs": [
    {
     "data": {
      "text/plain": [
       "[2, 2, 3, 3, 5, 5, 5, 5, 4]"
      ]
     },
     "execution_count": 20,
     "metadata": {},
     "output_type": "execute_result"
    }
   ],
   "source": [
    "h"
   ]
  },
  {
   "cell_type": "code",
   "execution_count": 19,
   "metadata": {},
   "outputs": [
    {
     "data": {
      "text/plain": [
       "2"
      ]
     },
     "execution_count": 19,
     "metadata": {},
     "output_type": "execute_result"
    }
   ],
   "source": [
    "heapq.heappop(h)"
   ]
  },
  {
   "cell_type": "code",
   "execution_count": 4,
   "metadata": {},
   "outputs": [
    {
     "data": {
      "text/plain": [
       "[['.', '.', '.', '.', '.'],\n",
       " ['.', '.', '.', '.', '.'],\n",
       " ['.', '.', '.', '.', '.'],\n",
       " ['.', '.', '.', '.', '.'],\n",
       " ['.', '.', '.', '.', '.']]"
      ]
     },
     "execution_count": 4,
     "metadata": {},
     "output_type": "execute_result"
    }
   ],
   "source": [
    "n = 5\n",
    "board = [['.'] * n for _ in range(n)]\n",
    "\n",
    "board"
   ]
  },
  {
   "cell_type": "code",
   "execution_count": 8,
   "metadata": {},
   "outputs": [
    {
     "name": "stdout",
     "output_type": "stream",
     "text": [
      "..Q.\n",
      "Q...\n",
      "...Q\n",
      ".Q..\n"
     ]
    }
   ],
   "source": [
    "board = np.array([['.', '.', 'Q', '.'], ['Q', '.', '.', '.'], ['.', '.', '.', 'Q'], ['.', 'Q', '.', '.']])\n",
    "\n",
    "for o in board:\n",
    "    print(''.join(o))"
   ]
  },
  {
   "cell_type": "code",
   "execution_count": 4,
   "metadata": {},
   "outputs": [
    {
     "name": "stdout",
     "output_type": "stream",
     "text": [
      "3\n",
      "deque([2, 4])\n",
      "deque([5, 6, 2, 4])\n"
     ]
    }
   ],
   "source": [
    "q = deque([3, 2, 4])\n",
    "\n",
    "print(q.popleft())\n",
    "\n",
    "print(q)\n",
    "q.extendleft(reversed([5, 6]))\n",
    "\n",
    "print(q)"
   ]
  },
  {
   "cell_type": "code",
   "execution_count": 6,
   "metadata": {},
   "outputs": [
    {
     "data": {
      "text/plain": [
       "[5, 6, 2, 4]"
      ]
     },
     "execution_count": 6,
     "metadata": {},
     "output_type": "execute_result"
    }
   ],
   "source": [
    "list(q)"
   ]
  },
  {
   "cell_type": "code",
   "execution_count": 3,
   "metadata": {},
   "outputs": [
    {
     "data": {
      "text/plain": [
       "deque([[3]])"
      ]
     },
     "execution_count": 3,
     "metadata": {},
     "output_type": "execute_result"
    }
   ],
   "source": [
    "q = deque([[3]])\n",
    "q"
   ]
  },
  {
   "cell_type": "code",
   "execution_count": 9,
   "metadata": {},
   "outputs": [
    {
     "data": {
      "text/plain": [
       "[3]"
      ]
     },
     "execution_count": 9,
     "metadata": {},
     "output_type": "execute_result"
    }
   ],
   "source": [
    "q.popleft()"
   ]
  },
  {
   "cell_type": "code",
   "execution_count": 10,
   "metadata": {},
   "outputs": [
    {
     "data": {
      "text/plain": [
       "deque([])"
      ]
     },
     "execution_count": 10,
     "metadata": {},
     "output_type": "execute_result"
    }
   ],
   "source": [
    "q"
   ]
  },
  {
   "cell_type": "code",
   "execution_count": 7,
   "metadata": {},
   "outputs": [
    {
     "data": {
      "text/plain": [
       "([1, 2], [3, 4, 5])"
      ]
     },
     "execution_count": 7,
     "metadata": {},
     "output_type": "execute_result"
    }
   ],
   "source": [
    "xs = [1, 2, 3, 4, 5]\n",
    "xs[:2], xs[2:]"
   ]
  },
  {
   "cell_type": "code",
   "execution_count": null,
   "metadata": {},
   "outputs": [],
   "source": []
  },
  {
   "cell_type": "markdown",
   "metadata": {},
   "source": [
    "# Top K Largest"
   ]
  },
  {
   "cell_type": "code",
   "execution_count": 1,
   "metadata": {},
   "outputs": [],
   "source": [
    "def partition(nums, left, right):\n",
    "    pivot = nums[right]\n",
    "    idx = left\n",
    "    for i in range(left, right):\n",
    "        if nums[i] <= pivot:\n",
    "            nums[i], nums[idx] = nums[idx], nums[i]\n",
    "            idx += 1\n",
    "\n",
    "    nums[idx], nums[right] = nums[right], nums[idx]\n",
    "    \n",
    "    return idx\n",
    "    \n",
    "def find_k_largest(nums, k):\n",
    "    n = len(nums)\n",
    "    left = 0\n",
    "    right = n - 1\n",
    "    \n",
    "    while left <= right:\n",
    "        pivot_idx = partition(nums, left, right)\n",
    "        print('pivot idx', pivot_idx, 'left', left, 'right', right)\n",
    "        \n",
    "        if pivot_idx == n - k:\n",
    "            return nums[pivot_idx]\n",
    "        elif pivot_idx > n - k:\n",
    "            right = pivot_idx - 1\n",
    "        else:\n",
    "            left = pivot_idx + 1 \n",
    "            \n",
    "    return -1"
   ]
  },
  {
   "cell_type": "code",
   "execution_count": 2,
   "metadata": {},
   "outputs": [
    {
     "name": "stdout",
     "output_type": "stream",
     "text": [
      "pivot idx 0 left 0 right 6\n",
      "pivot idx 5 left 1 right 6\n",
      "pivot idx 1 left 1 right 4\n",
      "pivot idx 2 left 2 right 4\n"
     ]
    },
    {
     "data": {
      "text/plain": [
       "2"
      ]
     },
     "execution_count": 2,
     "metadata": {},
     "output_type": "execute_result"
    }
   ],
   "source": [
    "# nums = [5, 7, 2, 3, 4, 1, 6]\n",
    "nums = [5, 7, 2, 3, 4, 1, 0]\n",
    "\n",
    "find_k_largest(nums, 5)"
   ]
  },
  {
   "cell_type": "code",
   "execution_count": null,
   "metadata": {},
   "outputs": [],
   "source": []
  },
  {
   "cell_type": "code",
   "execution_count": null,
   "metadata": {},
   "outputs": [],
   "source": []
  },
  {
   "cell_type": "code",
   "execution_count": null,
   "metadata": {},
   "outputs": [],
   "source": []
  },
  {
   "cell_type": "markdown",
   "metadata": {},
   "source": [
    "# Flatten a binary tree to a doubly linked list in-place"
   ]
  },
  {
   "cell_type": "markdown",
   "metadata": {},
   "source": [
    "                1\n",
    "        2                3\n",
    "    4        5        6        7\n",
    "\n",
    "`return 4 <-> 2 <-> 5 <-> 1 <-> 6 <-> 3 <-> 7`"
   ]
  },
  {
   "cell_type": "code",
   "execution_count": 10,
   "metadata": {},
   "outputs": [],
   "source": [
    "class Node:\n",
    "    \n",
    "    def __init__(self, val):\n",
    "        self.val = val\n",
    "        self.left = None\n",
    "        self.right = None\n",
    "        self.prev = None\n",
    "        self.next = None\n",
    "        \n",
    "        \n",
    "def traverse(node):\n",
    "    curr = node\n",
    "    while curr:\n",
    "        print(curr.val)\n",
    "        curr = curr.next"
   ]
  },
  {
   "cell_type": "code",
   "execution_count": 19,
   "metadata": {},
   "outputs": [],
   "source": [
    "root = Node(1)\n",
    "root.left = Node(2)\n",
    "root.left.left = Node(4)\n",
    "root.left.right = Node(5)\n",
    "root.right = Node(3)\n",
    "root.right.left = Node(6)\n",
    "root.right.right = Node(7)"
   ]
  },
  {
   "cell_type": "code",
   "execution_count": 20,
   "metadata": {},
   "outputs": [],
   "source": [
    "def convert_to_dll(node):\n",
    "    if node is None: return\n",
    "    \n",
    "    global prev, head\n",
    "    \n",
    "    convert_to_dll(node.left)\n",
    "    \n",
    "    if prev is None:\n",
    "        head = node\n",
    "    else:\n",
    "        node.prev = prev\n",
    "        prev.next = node\n",
    "    \n",
    "    prev = node\n",
    "    \n",
    "    convert_to_dll(node.right)\n",
    "    "
   ]
  },
  {
   "cell_type": "code",
   "execution_count": 21,
   "metadata": {
    "scrolled": true
   },
   "outputs": [
    {
     "data": {
      "text/plain": [
       "4"
      ]
     },
     "execution_count": 21,
     "metadata": {},
     "output_type": "execute_result"
    }
   ],
   "source": [
    "prev = None\n",
    "head = None\n",
    "\n",
    "convert_to_dll(root)\n",
    "head.val"
   ]
  },
  {
   "cell_type": "code",
   "execution_count": 22,
   "metadata": {},
   "outputs": [
    {
     "data": {
      "text/plain": [
       "<__main__.Node at 0x7fda066b7e48>"
      ]
     },
     "execution_count": 22,
     "metadata": {},
     "output_type": "execute_result"
    }
   ],
   "source": [
    "head"
   ]
  },
  {
   "cell_type": "code",
   "execution_count": 23,
   "metadata": {},
   "outputs": [
    {
     "name": "stdout",
     "output_type": "stream",
     "text": [
      "4\n",
      "2\n",
      "5\n",
      "1\n",
      "6\n",
      "3\n",
      "7\n"
     ]
    }
   ],
   "source": [
    "traverse(head)"
   ]
  },
  {
   "cell_type": "code",
   "execution_count": null,
   "metadata": {},
   "outputs": [],
   "source": []
  },
  {
   "cell_type": "markdown",
   "metadata": {},
   "source": [
    "# Duplicate String"
   ]
  },
  {
   "cell_type": "code",
   "execution_count": 17,
   "metadata": {},
   "outputs": [
    {
     "data": {
      "text/plain": [
       "{'J': 1, 'a': 2, 'v': 1}"
      ]
     },
     "execution_count": 17,
     "metadata": {},
     "output_type": "execute_result"
    }
   ],
   "source": [
    "s = 'Java'\n",
    "\n",
    "counts = dict()\n",
    "for c in s:\n",
    "    counts[c] = counts.get(c, 0) + 1\n",
    "    \n",
    "counts"
   ]
  },
  {
   "cell_type": "code",
   "execution_count": 18,
   "metadata": {},
   "outputs": [],
   "source": [
    "max_count = -1\n",
    "for k, v in counts.items():\n",
    "    if v > max_count and v > 1:\n",
    "        max_count = v\n",
    "        char = k"
   ]
  },
  {
   "cell_type": "code",
   "execution_count": 19,
   "metadata": {},
   "outputs": [
    {
     "data": {
      "text/plain": [
       "('a', 2)"
      ]
     },
     "execution_count": 19,
     "metadata": {},
     "output_type": "execute_result"
    }
   ],
   "source": [
    "char, max_count"
   ]
  },
  {
   "cell_type": "code",
   "execution_count": null,
   "metadata": {},
   "outputs": [],
   "source": []
  },
  {
   "cell_type": "markdown",
   "metadata": {},
   "source": [
    "# Check Parindrome"
   ]
  },
  {
   "cell_type": "code",
   "execution_count": 20,
   "metadata": {},
   "outputs": [],
   "source": [
    "\n",
    "def parindrom(s):\n",
    "    n = len(s)\n",
    "    for i in range(n // 2):\n",
    "        if s[i] != s[n-i-1]:\n",
    "            return False\n",
    "        \n",
    "    return True\n",
    "        "
   ]
  },
  {
   "cell_type": "code",
   "execution_count": 21,
   "metadata": {},
   "outputs": [
    {
     "data": {
      "text/plain": [
       "True"
      ]
     },
     "execution_count": 21,
     "metadata": {},
     "output_type": "execute_result"
    }
   ],
   "source": [
    "s1 = 'abba'\n",
    "s2 = 'abbc'\n",
    "\n",
    "parindrom(s1)"
   ]
  },
  {
   "cell_type": "code",
   "execution_count": 22,
   "metadata": {},
   "outputs": [
    {
     "data": {
      "text/plain": [
       "False"
      ]
     },
     "execution_count": 22,
     "metadata": {},
     "output_type": "execute_result"
    }
   ],
   "source": [
    "parindrom(s2)"
   ]
  },
  {
   "cell_type": "code",
   "execution_count": 23,
   "metadata": {},
   "outputs": [
    {
     "data": {
      "text/plain": [
       "True"
      ]
     },
     "execution_count": 23,
     "metadata": {},
     "output_type": "execute_result"
    }
   ],
   "source": [
    "parindrom('radar')"
   ]
  },
  {
   "cell_type": "code",
   "execution_count": 24,
   "metadata": {},
   "outputs": [
    {
     "data": {
      "text/plain": [
       "True"
      ]
     },
     "execution_count": 24,
     "metadata": {},
     "output_type": "execute_result"
    }
   ],
   "source": [
    "parindrom('a')"
   ]
  },
  {
   "cell_type": "code",
   "execution_count": null,
   "metadata": {},
   "outputs": [],
   "source": []
  },
  {
   "cell_type": "markdown",
   "metadata": {},
   "source": [
    "# print first non repeated character from String"
   ]
  },
  {
   "cell_type": "code",
   "execution_count": 25,
   "metadata": {},
   "outputs": [],
   "source": [
    "def first_non_repeat(s):\n",
    "    counts = dict()\n",
    "    for c in s:\n",
    "        counts[c] = counts.get(c, 0) + 1\n",
    "        \n",
    "    for c in s:\n",
    "        count = counts[c]\n",
    "        if count == 1:\n",
    "            print(c)\n",
    "            break\n",
    "        "
   ]
  },
  {
   "cell_type": "code",
   "execution_count": 26,
   "metadata": {},
   "outputs": [
    {
     "name": "stdout",
     "output_type": "stream",
     "text": [
      "M\n"
     ]
    }
   ],
   "source": [
    "first_non_repeat('Morning')"
   ]
  },
  {
   "cell_type": "code",
   "execution_count": null,
   "metadata": {},
   "outputs": [],
   "source": []
  },
  {
   "cell_type": "markdown",
   "metadata": {},
   "source": [
    "# Reverse String"
   ]
  },
  {
   "cell_type": "code",
   "execution_count": 36,
   "metadata": {},
   "outputs": [],
   "source": [
    "def reverse(s):\n",
    "    if s == '':\n",
    "        return ''\n",
    "    return reverse(s[1:]) + s[0]\n",
    "\n",
    "def reverse_iter(s):\n",
    "    n = len(s)\n",
    "    xs = list(s)\n",
    "    for i in range(n//2):\n",
    "        xs[i], xs[n-i-1] = xs[n-i-1], xs[i]\n",
    "        \n",
    "    return ''.join(xs)\n",
    "        "
   ]
  },
  {
   "cell_type": "code",
   "execution_count": 37,
   "metadata": {},
   "outputs": [
    {
     "data": {
      "text/plain": [
       "'gnirts'"
      ]
     },
     "execution_count": 37,
     "metadata": {},
     "output_type": "execute_result"
    }
   ],
   "source": [
    "reverse('string')"
   ]
  },
  {
   "cell_type": "code",
   "execution_count": 38,
   "metadata": {},
   "outputs": [
    {
     "data": {
      "text/plain": [
       "'gnirts'"
      ]
     },
     "execution_count": 38,
     "metadata": {},
     "output_type": "execute_result"
    }
   ],
   "source": [
    "reverse_iter('string')"
   ]
  },
  {
   "cell_type": "code",
   "execution_count": null,
   "metadata": {},
   "outputs": [],
   "source": []
  },
  {
   "cell_type": "markdown",
   "metadata": {},
   "source": [
    "21) How to find the length of the longest substring with K distinct characters?\n",
    "Write a program to find out the length of the longest substring in it with no more than K distinct characters.\n",
    "Input: String=\"araaci\", K=2\n",
    "Output: 4\n",
    "Explanation: The longest substring with no more than '2' distinct characters is \"araa\".\n",
    "\n",
    "Tip: You can solve this problem using a sliding window pattern as discussed in the Smallest Subarray with a given sum. You can also use a HashMap to remember the frequency of each character we have processed.  If you are not familiar with the sliding window pattern then I also suggest you check out Grokking the Coding Interview: Patterns for Coding Questions course on Educative.\n",
    "\n",
    "It's an interactive and one of its kind courses to learn about essential coding interview patterns like Sliding Window, Merge Interval, Fast and Slow pointer, etc which you can use to solve hundreds fo coding problems on an interview.\n",
    "\n",
    "Read more: https://javarevisited.blogspot.com/2015/01/top-20-string-coding-interview-question-programming-interview.html#ixzz6RyeauWLi"
   ]
  },
  {
   "cell_type": "code",
   "execution_count": null,
   "metadata": {},
   "outputs": [],
   "source": []
  },
  {
   "cell_type": "code",
   "execution_count": null,
   "metadata": {},
   "outputs": [],
   "source": []
  },
  {
   "cell_type": "markdown",
   "metadata": {},
   "source": [
    "# All Substrings"
   ]
  },
  {
   "cell_type": "code",
   "execution_count": 39,
   "metadata": {},
   "outputs": [],
   "source": [
    "def allsubstr(x):\n",
    "    n = len(x)\n",
    "    for i in range(n):  \n",
    "        for j in range(i, n):  \n",
    "            print(x[i:j+1])"
   ]
  },
  {
   "cell_type": "code",
   "execution_count": 40,
   "metadata": {},
   "outputs": [
    {
     "name": "stdout",
     "output_type": "stream",
     "text": [
      "a\n",
      "ab\n",
      "abc\n",
      "b\n",
      "bc\n",
      "c\n"
     ]
    }
   ],
   "source": [
    "allsubstr('abc')"
   ]
  },
  {
   "cell_type": "code",
   "execution_count": null,
   "metadata": {},
   "outputs": [],
   "source": []
  },
  {
   "cell_type": "code",
   "execution_count": 59,
   "metadata": {},
   "outputs": [],
   "source": [
    "def subsets(idx, xs, curr):\n",
    "    print(curr)\n",
    "    for i in range(idx, len(xs)):\n",
    "        curr.append(xs[i])\n",
    "        subsets(i+1, xs, curr)\n",
    "        curr.pop()"
   ]
  },
  {
   "cell_type": "code",
   "execution_count": 60,
   "metadata": {},
   "outputs": [
    {
     "data": {
      "text/plain": [
       "['a', 'b', 'c']"
      ]
     },
     "execution_count": 60,
     "metadata": {},
     "output_type": "execute_result"
    }
   ],
   "source": [
    "s = list('abc')\n",
    "s"
   ]
  },
  {
   "cell_type": "code",
   "execution_count": 61,
   "metadata": {},
   "outputs": [
    {
     "name": "stdout",
     "output_type": "stream",
     "text": [
      "[]\n",
      "['a']\n",
      "['a', 'b']\n",
      "['a', 'b', 'c']\n",
      "['a', 'c']\n",
      "['b']\n",
      "['b', 'c']\n",
      "['c']\n"
     ]
    }
   ],
   "source": [
    "subsets(0, s, [])"
   ]
  },
  {
   "cell_type": "code",
   "execution_count": null,
   "metadata": {},
   "outputs": [],
   "source": []
  },
  {
   "cell_type": "markdown",
   "metadata": {},
   "source": [
    "# All Permutations"
   ]
  },
  {
   "cell_type": "code",
   "execution_count": 4,
   "metadata": {},
   "outputs": [],
   "source": [
    "def permute(perm, xs, chosen):\n",
    "    n = len(xs)\n",
    "    if n == len(perm):\n",
    "        print(perm)\n",
    "    else:\n",
    "        for i in range(n):\n",
    "            if chosen[i]: continue\n",
    "            perm.append(xs[i])\n",
    "            chosen[i] = True\n",
    "            permute(perm, xs, chosen)\n",
    "            chosen[i] = False\n",
    "            perm.pop()"
   ]
  },
  {
   "cell_type": "code",
   "execution_count": 7,
   "metadata": {},
   "outputs": [
    {
     "name": "stdout",
     "output_type": "stream",
     "text": [
      "['a', 'b', 'c']\n",
      "['a', 'c', 'b']\n",
      "['b', 'a', 'c']\n",
      "['b', 'c', 'a']\n",
      "['c', 'a', 'b']\n",
      "['c', 'b', 'a']\n"
     ]
    }
   ],
   "source": [
    "permute([], 'abc', [False, False, False])"
   ]
  },
  {
   "cell_type": "code",
   "execution_count": null,
   "metadata": {},
   "outputs": [],
   "source": []
  },
  {
   "cell_type": "code",
   "execution_count": 1,
   "metadata": {},
   "outputs": [],
   "source": [
    "def _permute(perm, x):\n",
    "    if x:\n",
    "        n = len(x)\n",
    "        for i in range(n):\n",
    "            _permute(perm + x[i], x[0:i] + x[i+1:n])\n",
    "    else:\n",
    "        print(perm)\n",
    "\n",
    "def permute(x):\n",
    "    _permute(\"\", x)\n",
    "        "
   ]
  },
  {
   "cell_type": "code",
   "execution_count": 2,
   "metadata": {},
   "outputs": [
    {
     "name": "stdout",
     "output_type": "stream",
     "text": [
      "abc\n",
      "acb\n",
      "bac\n",
      "bca\n",
      "cab\n",
      "cba\n"
     ]
    }
   ],
   "source": [
    "permute('abc')"
   ]
  },
  {
   "cell_type": "code",
   "execution_count": 3,
   "metadata": {},
   "outputs": [
    {
     "name": "stdout",
     "output_type": "stream",
     "text": [
      "xyz\n",
      "xzy\n",
      "yxz\n",
      "yzx\n",
      "zxy\n",
      "zyx\n"
     ]
    }
   ],
   "source": [
    "permute('xyz')"
   ]
  },
  {
   "cell_type": "code",
   "execution_count": 72,
   "metadata": {},
   "outputs": [
    {
     "data": {
      "text/plain": [
       "'bc'"
      ]
     },
     "execution_count": 72,
     "metadata": {},
     "output_type": "execute_result"
    }
   ],
   "source": [
    "'abc'[1:]"
   ]
  },
  {
   "cell_type": "code",
   "execution_count": null,
   "metadata": {},
   "outputs": [],
   "source": []
  },
  {
   "cell_type": "markdown",
   "metadata": {},
   "source": [
    "# Sort LinkedList using MergeSort"
   ]
  },
  {
   "cell_type": "code",
   "execution_count": 32,
   "metadata": {},
   "outputs": [],
   "source": [
    "class Node:\n",
    "    def __init__(self, val=0, next=None):\n",
    "        self.val = val\n",
    "        self.next = next\n",
    "        \n",
    "def traverse(head):\n",
    "    curr = head\n",
    "    while curr:\n",
    "        print(curr.val, end=' ')\n",
    "        curr = curr.next\n",
    "    print()\n",
    "    \n",
    "def merge(l1, l2):\n",
    "    \n",
    "    if l1 is None: return l2\n",
    "    if l2 is None: return l1\n",
    "    \n",
    "    if l1.val <= l2.val:\n",
    "        l1.next = merge(l1.next, l2)\n",
    "        return l1\n",
    "    else:\n",
    "        l2.next = merge(l1, l2.next)\n",
    "        return l2\n",
    "\n",
    "def front_back_split(head):\n",
    "    if not head or not head.next:\n",
    "        return head\n",
    "    \n",
    "    backward = head\n",
    "    forward = head.next\n",
    "    \n",
    "    while forward:\n",
    "        forward = forward.next\n",
    "        if forward:\n",
    "            backward = backward.next\n",
    "            forward = forward.next\n",
    "    \n",
    "    tmp = backward.next\n",
    "    backward.next = None\n",
    "    backward = tmp\n",
    "    return head, backward\n",
    "\n",
    "def merge_sort(head):\n",
    "    if not head or not head.next:\n",
    "        return head\n",
    "    \n",
    "    a, b = front_back_split(head)\n",
    "    a = merge_sort(a)\n",
    "    b = merge_sort(b)\n",
    "    \n",
    "    return merge(a, b)"
   ]
  },
  {
   "cell_type": "code",
   "execution_count": 33,
   "metadata": {},
   "outputs": [
    {
     "name": "stdout",
     "output_type": "stream",
     "text": [
      "10 4 15 1 2 12 54 0 21 9 \n"
     ]
    }
   ],
   "source": [
    "arr = [10, 4, 15, 1, 2, 12, 54, 0, 21, 9]\n",
    "\n",
    "head = None\n",
    "for i in reversed(arr):\n",
    "    head = Node(i, head)\n",
    "    \n",
    "traverse(head)"
   ]
  },
  {
   "cell_type": "code",
   "execution_count": null,
   "metadata": {},
   "outputs": [],
   "source": []
  },
  {
   "cell_type": "code",
   "execution_count": 34,
   "metadata": {},
   "outputs": [
    {
     "name": "stdout",
     "output_type": "stream",
     "text": [
      "0 1 2 4 9 10 12 15 21 54 \n"
     ]
    }
   ],
   "source": [
    "l = merge_sort(head)\n",
    "traverse(l)"
   ]
  },
  {
   "cell_type": "code",
   "execution_count": null,
   "metadata": {},
   "outputs": [],
   "source": []
  },
  {
   "cell_type": "code",
   "execution_count": 47,
   "metadata": {},
   "outputs": [],
   "source": [
    "def merge_iter(a, b):\n",
    "    p = a\n",
    "    q = b\n",
    "    dummy_head = Node(0)\n",
    "    curr = dummy_head\n",
    "    \n",
    "    while True:\n",
    "        if not p:\n",
    "            curr.next = q\n",
    "            break\n",
    "        if not q:\n",
    "            curr.next = p\n",
    "            break\n",
    "            \n",
    "        if p.val <= q.val:\n",
    "            curr.next = p\n",
    "            p = p.next\n",
    "        else:\n",
    "            curr.next = q\n",
    "            q = q.next\n",
    "            \n",
    "        curr = curr.next\n",
    "        \n",
    "    return dummy_head.next"
   ]
  },
  {
   "cell_type": "code",
   "execution_count": null,
   "metadata": {},
   "outputs": [],
   "source": []
  },
  {
   "cell_type": "code",
   "execution_count": 48,
   "metadata": {},
   "outputs": [],
   "source": [
    "l1 = l2 = None\n",
    "\n",
    "for i in reversed([1, 3]):\n",
    "    l1 = Node(i, l1)\n",
    "    \n",
    "for i in reversed([2, 4]):\n",
    "    l2 = Node(i, l2)\n",
    "    "
   ]
  },
  {
   "cell_type": "code",
   "execution_count": 49,
   "metadata": {},
   "outputs": [
    {
     "name": "stdout",
     "output_type": "stream",
     "text": [
      "1 2 3 4 \n"
     ]
    }
   ],
   "source": [
    "head = merge_iter(l1, l2)\n",
    "traverse(head)"
   ]
  },
  {
   "cell_type": "code",
   "execution_count": null,
   "metadata": {},
   "outputs": [],
   "source": []
  },
  {
   "cell_type": "code",
   "execution_count": 31,
   "metadata": {},
   "outputs": [
    {
     "name": "stdout",
     "output_type": "stream",
     "text": [
      "1 2 3 4 \n"
     ]
    }
   ],
   "source": [
    "head = merge(l1, l2)\n",
    "traverse(head)"
   ]
  },
  {
   "cell_type": "code",
   "execution_count": 43,
   "metadata": {},
   "outputs": [
    {
     "name": "stdout",
     "output_type": "stream",
     "text": [
      "10 4 12 15 1 2 54 0 21 9 \n"
     ]
    }
   ],
   "source": [
    "l = merge_sort(head)\n",
    "traverse(l)"
   ]
  },
  {
   "cell_type": "code",
   "execution_count": null,
   "metadata": {},
   "outputs": [],
   "source": []
  },
  {
   "cell_type": "code",
   "execution_count": null,
   "metadata": {},
   "outputs": [],
   "source": []
  },
  {
   "cell_type": "code",
   "execution_count": 50,
   "metadata": {},
   "outputs": [],
   "source": [
    "first, second = front_back_split(head)"
   ]
  },
  {
   "cell_type": "code",
   "execution_count": 51,
   "metadata": {},
   "outputs": [
    {
     "name": "stdout",
     "output_type": "stream",
     "text": [
      "1 2 \n"
     ]
    }
   ],
   "source": [
    "traverse(first)"
   ]
  },
  {
   "cell_type": "code",
   "execution_count": 52,
   "metadata": {},
   "outputs": [
    {
     "name": "stdout",
     "output_type": "stream",
     "text": [
      "3 4 \n"
     ]
    }
   ],
   "source": [
    "traverse(second)"
   ]
  },
  {
   "cell_type": "code",
   "execution_count": null,
   "metadata": {},
   "outputs": [],
   "source": []
  },
  {
   "cell_type": "code",
   "execution_count": null,
   "metadata": {},
   "outputs": [],
   "source": []
  },
  {
   "cell_type": "markdown",
   "metadata": {},
   "source": [
    "# Maximum Sub-array Sum (MSS)"
   ]
  },
  {
   "cell_type": "code",
   "execution_count": 53,
   "metadata": {},
   "outputs": [],
   "source": [
    "def mcs(arr, l, m, h):\n",
    "    \"\"\"maximum crossing sum\"\"\"\n",
    "    right_sum = left_sum = float('-inf')\n",
    "    sum_ = 0\n",
    "    for i in range(m, l-1, -1):\n",
    "        sum_ += arr[i]\n",
    "        left_sum = max(left_sum, sum_)\n",
    "        \n",
    "    sum_ = 0\n",
    "    for i in range(m+1, h+1):\n",
    "        sum_ += arr[i]\n",
    "        right_sum = max(right_sum, sum_)\n",
    "        \n",
    "    return max(left_sum + right_sum, left_sum, right_sum)\n",
    "    \n",
    "    \n",
    "def mss(arr, l, h):\n",
    "    \"\"\"maximum sub-array\"\"\"\n",
    "    if l == h:\n",
    "        return arr[l]\n",
    "    \n",
    "    m = (l + h) // 2\n",
    "    left_mss = mss(arr, l, m)\n",
    "    right_mss = mss(arr, m+1, h)\n",
    "    crossing_mcs = mcs(arr, l, m, h)\n",
    "        \n",
    "    return max(left_mss, right_mss, crossing_mcs)"
   ]
  },
  {
   "cell_type": "code",
   "execution_count": 54,
   "metadata": {},
   "outputs": [
    {
     "data": {
      "text/plain": [
       "21"
      ]
     },
     "execution_count": 54,
     "metadata": {},
     "output_type": "execute_result"
    }
   ],
   "source": [
    "arr = [2, 3, 4, 5, 7] \n",
    "n = len(arr) \n",
    "  \n",
    "max_sum = mss(arr, 0, n-1)\n",
    "max_sum"
   ]
  },
  {
   "cell_type": "code",
   "execution_count": 55,
   "metadata": {},
   "outputs": [
    {
     "data": {
      "text/plain": [
       "6"
      ]
     },
     "execution_count": 55,
     "metadata": {},
     "output_type": "execute_result"
    }
   ],
   "source": [
    "arr = [-2, 1, -3, 4, -1, 2, 1, -5, 4]\n",
    "mss(arr, 0, len(arr)-1)"
   ]
  },
  {
   "cell_type": "code",
   "execution_count": null,
   "metadata": {},
   "outputs": [],
   "source": []
  },
  {
   "cell_type": "code",
   "execution_count": 73,
   "metadata": {},
   "outputs": [],
   "source": [
    "def factorial(a):\n",
    "    i = 1\n",
    "    res = 1\n",
    "    while i <= a:\n",
    "        res = res * i\n",
    "        i += 1\n",
    "        \n",
    "    return res"
   ]
  },
  {
   "cell_type": "code",
   "execution_count": 74,
   "metadata": {},
   "outputs": [
    {
     "data": {
      "text/plain": [
       "24"
      ]
     },
     "execution_count": 74,
     "metadata": {},
     "output_type": "execute_result"
    }
   ],
   "source": [
    "factorial(4)"
   ]
  },
  {
   "cell_type": "code",
   "execution_count": null,
   "metadata": {},
   "outputs": [],
   "source": []
  },
  {
   "cell_type": "code",
   "execution_count": 75,
   "metadata": {},
   "outputs": [],
   "source": [
    "# Return the number of pairs with  \n",
    "# equal values. \n",
    "def countPairs(arr, n): \n",
    "  \n",
    "    mp = dict() \n",
    "  \n",
    "    # Finding frequency of each number. \n",
    "    for i in range(n): \n",
    "        if arr[i] in mp.keys(): \n",
    "            mp[arr[i]] += 1\n",
    "        else: \n",
    "            mp[arr[i]] = 1\n",
    "              \n",
    "    # Calculating pairs of each value. \n",
    "    ans = 0\n",
    "    for it in mp: \n",
    "        count = mp[it]\n",
    "        ans += factorial(count) // (2 * factorial(count - 2))\n",
    "#         ans += (count * (count - 1)) // 2\n",
    "        \n",
    "    print(mp)\n",
    "    return ans"
   ]
  },
  {
   "cell_type": "code",
   "execution_count": 76,
   "metadata": {},
   "outputs": [
    {
     "name": "stdout",
     "output_type": "stream",
     "text": [
      "{1: 2, 2: 1}\n",
      "1\n"
     ]
    }
   ],
   "source": [
    "arr = [1, 1, 2] \n",
    "n = len(arr) \n",
    "print(countPairs(arr, n)) "
   ]
  },
  {
   "cell_type": "code",
   "execution_count": 77,
   "metadata": {},
   "outputs": [
    {
     "name": "stdout",
     "output_type": "stream",
     "text": [
      "{1: 5, 2: 1}\n",
      "10\n"
     ]
    }
   ],
   "source": [
    "arr = [1, 1, 1, 1, 1, 2] \n",
    "n = len(arr) \n",
    "print(countPairs(arr, n)) "
   ]
  },
  {
   "cell_type": "code",
   "execution_count": null,
   "metadata": {},
   "outputs": [],
   "source": []
  },
  {
   "cell_type": "code",
   "execution_count": 82,
   "metadata": {},
   "outputs": [],
   "source": [
    "def maxSubArray(nums):\n",
    "    \"\"\"\n",
    "    :type nums: List[int]\n",
    "    :rtype: int\n",
    "    \"\"\"\n",
    "    dp = [0 for i in range(len(nums))]\n",
    "    dp[0] = nums[0]\n",
    "    for i in range(1,len(nums)):\n",
    "        dp[i] = max(dp[i-1]+nums[i],nums[i])\n",
    "        #print(dp)\n",
    "    return max(dp)\n"
   ]
  },
  {
   "cell_type": "code",
   "execution_count": 83,
   "metadata": {},
   "outputs": [
    {
     "data": {
      "text/plain": [
       "8"
      ]
     },
     "execution_count": 83,
     "metadata": {},
     "output_type": "execute_result"
    }
   ],
   "source": [
    "nums = [-2,1,-3,7,-2,2,1,-5,4]\n",
    "\n",
    "maxSubArray(nums)"
   ]
  },
  {
   "cell_type": "code",
   "execution_count": 84,
   "metadata": {},
   "outputs": [
    {
     "data": {
      "text/plain": [
       "7"
      ]
     },
     "execution_count": 84,
     "metadata": {},
     "output_type": "execute_result"
    }
   ],
   "source": [
    "maxSubArray([-2, -3, 4, -1, -2, 1, 5, -3])"
   ]
  },
  {
   "cell_type": "code",
   "execution_count": 85,
   "metadata": {},
   "outputs": [
    {
     "data": {
      "text/plain": [
       "6"
      ]
     },
     "execution_count": 85,
     "metadata": {},
     "output_type": "execute_result"
    }
   ],
   "source": [
    "arr = [-2, 1, -3, 4, -1, 2, 1, -5, 4]\n",
    "maxSubArray(arr)"
   ]
  },
  {
   "cell_type": "code",
   "execution_count": null,
   "metadata": {},
   "outputs": [],
   "source": []
  },
  {
   "cell_type": "markdown",
   "metadata": {},
   "source": [
    "# Longest Palindromic Substring"
   ]
  },
  {
   "cell_type": "code",
   "execution_count": 86,
   "metadata": {},
   "outputs": [],
   "source": [
    "st = \"forgeeksskeegfor\"\n",
    "# st = \"abacdb\"\n",
    "# st = \"cbbd\"\n",
    "\n",
    "n = len(st)\n",
    "DP = [[0 for x in range(n)] for y in range(n)]\n",
    "\n",
    "# All substrings of length 1 are \n",
    "# palindromes \n",
    "max_len = 1\n",
    "start = 0"
   ]
  },
  {
   "cell_type": "code",
   "execution_count": 87,
   "metadata": {},
   "outputs": [
    {
     "data": {
      "text/plain": [
       "array([[1, 0, 0, 0, 0, 0, 0, 0, 0, 0, 0, 0, 0, 0, 0, 0],\n",
       "       [0, 1, 0, 0, 0, 0, 0, 0, 0, 0, 0, 0, 0, 0, 0, 0],\n",
       "       [0, 0, 1, 0, 0, 0, 0, 0, 0, 0, 0, 0, 0, 0, 0, 0],\n",
       "       [0, 0, 0, 1, 0, 0, 0, 0, 0, 0, 0, 0, 0, 0, 0, 0],\n",
       "       [0, 0, 0, 0, 1, 0, 0, 0, 0, 0, 0, 0, 0, 0, 0, 0],\n",
       "       [0, 0, 0, 0, 0, 1, 0, 0, 0, 0, 0, 0, 0, 0, 0, 0],\n",
       "       [0, 0, 0, 0, 0, 0, 1, 0, 0, 0, 0, 0, 0, 0, 0, 0],\n",
       "       [0, 0, 0, 0, 0, 0, 0, 1, 0, 0, 0, 0, 0, 0, 0, 0],\n",
       "       [0, 0, 0, 0, 0, 0, 0, 0, 1, 0, 0, 0, 0, 0, 0, 0],\n",
       "       [0, 0, 0, 0, 0, 0, 0, 0, 0, 1, 0, 0, 0, 0, 0, 0],\n",
       "       [0, 0, 0, 0, 0, 0, 0, 0, 0, 0, 1, 0, 0, 0, 0, 0],\n",
       "       [0, 0, 0, 0, 0, 0, 0, 0, 0, 0, 0, 1, 0, 0, 0, 0],\n",
       "       [0, 0, 0, 0, 0, 0, 0, 0, 0, 0, 0, 0, 1, 0, 0, 0],\n",
       "       [0, 0, 0, 0, 0, 0, 0, 0, 0, 0, 0, 0, 0, 1, 0, 0],\n",
       "       [0, 0, 0, 0, 0, 0, 0, 0, 0, 0, 0, 0, 0, 0, 1, 0],\n",
       "       [0, 0, 0, 0, 0, 0, 0, 0, 0, 0, 0, 0, 0, 0, 0, 1]])"
      ]
     },
     "execution_count": 87,
     "metadata": {},
     "output_type": "execute_result"
    }
   ],
   "source": [
    "# base case\n",
    "i = 0\n",
    "for i in range(n):\n",
    "    DP[i][i] = True\n",
    "    \n",
    "np.array(DP)"
   ]
  },
  {
   "cell_type": "code",
   "execution_count": 88,
   "metadata": {},
   "outputs": [
    {
     "name": "stdout",
     "output_type": "stream",
     "text": [
      "['f', 'o', 'r', 'g', 'e', 'e', 'k', 's', 's', 'k', 'e', 'e', 'g', 'f', 'o', 'r']\n"
     ]
    },
    {
     "data": {
      "text/plain": [
       "array([[1, 0, 0, 0, 0, 0, 0, 0, 0, 0, 0, 0, 0, 0, 0, 0],\n",
       "       [0, 1, 0, 0, 0, 0, 0, 0, 0, 0, 0, 0, 0, 0, 0, 0],\n",
       "       [0, 0, 1, 0, 0, 0, 0, 0, 0, 0, 0, 0, 0, 0, 0, 0],\n",
       "       [0, 0, 0, 1, 0, 0, 0, 0, 0, 0, 0, 0, 0, 0, 0, 0],\n",
       "       [0, 0, 0, 0, 1, 1, 0, 0, 0, 0, 0, 0, 0, 0, 0, 0],\n",
       "       [0, 0, 0, 0, 0, 1, 0, 0, 0, 0, 0, 0, 0, 0, 0, 0],\n",
       "       [0, 0, 0, 0, 0, 0, 1, 0, 0, 0, 0, 0, 0, 0, 0, 0],\n",
       "       [0, 0, 0, 0, 0, 0, 0, 1, 1, 0, 0, 0, 0, 0, 0, 0],\n",
       "       [0, 0, 0, 0, 0, 0, 0, 0, 1, 0, 0, 0, 0, 0, 0, 0],\n",
       "       [0, 0, 0, 0, 0, 0, 0, 0, 0, 1, 0, 0, 0, 0, 0, 0],\n",
       "       [0, 0, 0, 0, 0, 0, 0, 0, 0, 0, 1, 1, 0, 0, 0, 0],\n",
       "       [0, 0, 0, 0, 0, 0, 0, 0, 0, 0, 0, 1, 0, 0, 0, 0],\n",
       "       [0, 0, 0, 0, 0, 0, 0, 0, 0, 0, 0, 0, 1, 0, 0, 0],\n",
       "       [0, 0, 0, 0, 0, 0, 0, 0, 0, 0, 0, 0, 0, 1, 0, 0],\n",
       "       [0, 0, 0, 0, 0, 0, 0, 0, 0, 0, 0, 0, 0, 0, 1, 0],\n",
       "       [0, 0, 0, 0, 0, 0, 0, 0, 0, 0, 0, 0, 0, 0, 0, 1]])"
      ]
     },
     "execution_count": 88,
     "metadata": {},
     "output_type": "execute_result"
    }
   ],
   "source": [
    "# base case\n",
    "\n",
    "for i in range(n-1):\n",
    "    if st[i] == st[i+1]:\n",
    "        DP[i][i+1] = True\n",
    "        start = i\n",
    "        max_len = 2\n",
    "\n",
    "print(list(st))\n",
    "np.array(DP)"
   ]
  },
  {
   "cell_type": "code",
   "execution_count": 89,
   "metadata": {},
   "outputs": [
    {
     "data": {
      "text/plain": [
       "10"
      ]
     },
     "execution_count": 89,
     "metadata": {},
     "output_type": "execute_result"
    }
   ],
   "source": [
    "start"
   ]
  },
  {
   "cell_type": "code",
   "execution_count": 90,
   "metadata": {},
   "outputs": [
    {
     "data": {
      "text/plain": [
       "16"
      ]
     },
     "execution_count": 90,
     "metadata": {},
     "output_type": "execute_result"
    }
   ],
   "source": [
    "n"
   ]
  },
  {
   "cell_type": "code",
   "execution_count": 91,
   "metadata": {},
   "outputs": [
    {
     "name": "stdout",
     "output_type": "stream",
     "text": [
      "14\n",
      "(i, j) 0 2\n",
      "(i, j) 1 3\n",
      "(i, j) 2 4\n",
      "(i, j) 3 5\n",
      "(i, j) 4 6\n",
      "(i, j) 5 7\n",
      "(i, j) 6 8\n",
      "(i, j) 7 9\n",
      "(i, j) 8 10\n",
      "(i, j) 9 11\n",
      "(i, j) 10 12\n",
      "(i, j) 11 13\n",
      "(i, j) 12 14\n",
      "(i, j) 13 15\n",
      "13\n",
      "(i, j) 0 3\n",
      "(i, j) 1 4\n",
      "(i, j) 2 5\n",
      "(i, j) 3 6\n",
      "(i, j) 4 7\n",
      "(i, j) 5 8\n",
      "(i, j) 6 9\n",
      "(i, j) 7 10\n",
      "(i, j) 8 11\n",
      "(i, j) 9 12\n",
      "(i, j) 10 13\n",
      "(i, j) 11 14\n",
      "(i, j) 12 15\n",
      "12\n",
      "(i, j) 0 4\n",
      "(i, j) 1 5\n",
      "(i, j) 2 6\n",
      "(i, j) 3 7\n",
      "(i, j) 4 8\n",
      "(i, j) 5 9\n",
      "(i, j) 6 10\n",
      "(i, j) 7 11\n",
      "(i, j) 8 12\n",
      "(i, j) 9 13\n",
      "(i, j) 10 14\n",
      "(i, j) 11 15\n",
      "11\n",
      "(i, j) 0 5\n",
      "(i, j) 1 6\n",
      "(i, j) 2 7\n",
      "(i, j) 3 8\n",
      "(i, j) 4 9\n",
      "(i, j) 5 10\n",
      "(i, j) 6 11\n",
      "(i, j) 7 12\n",
      "(i, j) 8 13\n",
      "(i, j) 9 14\n",
      "(i, j) 10 15\n",
      "10\n",
      "(i, j) 0 6\n",
      "(i, j) 1 7\n",
      "(i, j) 2 8\n",
      "(i, j) 3 9\n",
      "(i, j) 4 10\n",
      "(i, j) 5 11\n",
      "(i, j) 6 12\n",
      "(i, j) 7 13\n",
      "(i, j) 8 14\n",
      "(i, j) 9 15\n",
      "9\n",
      "(i, j) 0 7\n",
      "(i, j) 1 8\n",
      "(i, j) 2 9\n",
      "(i, j) 3 10\n",
      "(i, j) 4 11\n",
      "(i, j) 5 12\n",
      "(i, j) 6 13\n",
      "(i, j) 7 14\n",
      "(i, j) 8 15\n",
      "8\n",
      "(i, j) 0 8\n",
      "(i, j) 1 9\n",
      "(i, j) 2 10\n",
      "(i, j) 3 11\n",
      "(i, j) 4 12\n",
      "(i, j) 5 13\n",
      "(i, j) 6 14\n",
      "(i, j) 7 15\n",
      "7\n",
      "(i, j) 0 9\n",
      "(i, j) 1 10\n",
      "(i, j) 2 11\n",
      "(i, j) 3 12\n",
      "(i, j) 4 13\n",
      "(i, j) 5 14\n",
      "(i, j) 6 15\n",
      "6\n",
      "(i, j) 0 10\n",
      "(i, j) 1 11\n",
      "(i, j) 2 12\n",
      "(i, j) 3 13\n",
      "(i, j) 4 14\n",
      "(i, j) 5 15\n",
      "5\n",
      "(i, j) 0 11\n",
      "(i, j) 1 12\n",
      "(i, j) 2 13\n",
      "(i, j) 3 14\n",
      "(i, j) 4 15\n",
      "4\n",
      "(i, j) 0 12\n",
      "(i, j) 1 13\n",
      "(i, j) 2 14\n",
      "(i, j) 3 15\n",
      "3\n",
      "(i, j) 0 13\n",
      "(i, j) 1 14\n",
      "(i, j) 2 15\n",
      "2\n",
      "(i, j) 0 14\n",
      "(i, j) 1 15\n",
      "1\n",
      "(i, j) 0 15\n"
     ]
    }
   ],
   "source": [
    "for k in range(3, n+1):\n",
    "    print(n-k+1)\n",
    "    for i in range(n-k+1):\n",
    "        j = i + k - 1\n",
    "        print('(i, j)', i, j)\n",
    "        if st[i] == st[j] and DP[i+1][j-1]:\n",
    "            DP[i][j] = True\n",
    "            \n",
    "            if k > max_len:\n",
    "                start = i\n",
    "                max_len = k\n",
    "            \n",
    "        j += 1"
   ]
  },
  {
   "cell_type": "code",
   "execution_count": 92,
   "metadata": {},
   "outputs": [
    {
     "data": {
      "text/plain": [
       "(3, 10)"
      ]
     },
     "execution_count": 92,
     "metadata": {},
     "output_type": "execute_result"
    }
   ],
   "source": [
    "start, max_len"
   ]
  },
  {
   "cell_type": "code",
   "execution_count": 93,
   "metadata": {},
   "outputs": [
    {
     "data": {
      "text/plain": [
       "'geeksskeeg'"
      ]
     },
     "execution_count": 93,
     "metadata": {},
     "output_type": "execute_result"
    }
   ],
   "source": [
    "st[start:start+max_len]"
   ]
  },
  {
   "cell_type": "code",
   "execution_count": 94,
   "metadata": {},
   "outputs": [
    {
     "data": {
      "text/plain": [
       "[[True, 0, 0, 0, 0, 0, 0, 0, 0, 0, 0, 0, 0, 0, 0, 0],\n",
       " [0, True, 0, 0, 0, 0, 0, 0, 0, 0, 0, 0, 0, 0, 0, 0],\n",
       " [0, 0, True, 0, 0, 0, 0, 0, 0, 0, 0, 0, 0, 0, 0, 0],\n",
       " [0, 0, 0, True, 0, 0, 0, 0, 0, 0, 0, 0, True, 0, 0, 0],\n",
       " [0, 0, 0, 0, True, True, 0, 0, 0, 0, 0, True, 0, 0, 0, 0],\n",
       " [0, 0, 0, 0, 0, True, 0, 0, 0, 0, True, 0, 0, 0, 0, 0],\n",
       " [0, 0, 0, 0, 0, 0, True, 0, 0, True, 0, 0, 0, 0, 0, 0],\n",
       " [0, 0, 0, 0, 0, 0, 0, True, True, 0, 0, 0, 0, 0, 0, 0],\n",
       " [0, 0, 0, 0, 0, 0, 0, 0, True, 0, 0, 0, 0, 0, 0, 0],\n",
       " [0, 0, 0, 0, 0, 0, 0, 0, 0, True, 0, 0, 0, 0, 0, 0],\n",
       " [0, 0, 0, 0, 0, 0, 0, 0, 0, 0, True, True, 0, 0, 0, 0],\n",
       " [0, 0, 0, 0, 0, 0, 0, 0, 0, 0, 0, True, 0, 0, 0, 0],\n",
       " [0, 0, 0, 0, 0, 0, 0, 0, 0, 0, 0, 0, True, 0, 0, 0],\n",
       " [0, 0, 0, 0, 0, 0, 0, 0, 0, 0, 0, 0, 0, True, 0, 0],\n",
       " [0, 0, 0, 0, 0, 0, 0, 0, 0, 0, 0, 0, 0, 0, True, 0],\n",
       " [0, 0, 0, 0, 0, 0, 0, 0, 0, 0, 0, 0, 0, 0, 0, True]]"
      ]
     },
     "execution_count": 94,
     "metadata": {},
     "output_type": "execute_result"
    }
   ],
   "source": [
    "DP"
   ]
  },
  {
   "cell_type": "code",
   "execution_count": null,
   "metadata": {},
   "outputs": [],
   "source": []
  },
  {
   "cell_type": "code",
   "execution_count": null,
   "metadata": {},
   "outputs": [],
   "source": []
  },
  {
   "cell_type": "markdown",
   "metadata": {},
   "source": [
    "# K-th occurence of item in BST"
   ]
  },
  {
   "cell_type": "code",
   "execution_count": 96,
   "metadata": {},
   "outputs": [],
   "source": [
    "arr = [2, 4, 10, 10, 10, 18, 20]\n",
    "\n",
    "def _search(arr, data, low, high):\n",
    "    result = -1\n",
    "    while low <= high:\n",
    "        mid = (low + high) // 2\n",
    "        if arr[mid] == data:\n",
    "            result = mid\n",
    "            low = mid + 1\n",
    "#             high = mid - 1\n",
    "        elif data < arr[mid]:\n",
    "            high = mid - 1\n",
    "        elif data > arr[mid]:\n",
    "            low = mid + 1\n",
    "            \n",
    "    return result\n",
    "\n",
    "def search(arr, data):\n",
    "    return _search(arr, data, 0, len(arr)-1)\n",
    "        "
   ]
  },
  {
   "cell_type": "code",
   "execution_count": 97,
   "metadata": {},
   "outputs": [
    {
     "data": {
      "text/plain": [
       "(0, 1, -1, 4, -1, 6)"
      ]
     },
     "execution_count": 97,
     "metadata": {},
     "output_type": "execute_result"
    }
   ],
   "source": [
    "search(arr, 2), search(arr, 4), search(arr, 5), search(arr, 10), search(arr, 19), search(arr, 20)"
   ]
  },
  {
   "cell_type": "code",
   "execution_count": 98,
   "metadata": {},
   "outputs": [
    {
     "data": {
      "text/plain": [
       "4"
      ]
     },
     "execution_count": 98,
     "metadata": {},
     "output_type": "execute_result"
    }
   ],
   "source": [
    "search(arr, 10)"
   ]
  },
  {
   "cell_type": "code",
   "execution_count": null,
   "metadata": {},
   "outputs": [],
   "source": []
  },
  {
   "cell_type": "code",
   "execution_count": 99,
   "metadata": {},
   "outputs": [],
   "source": [
    "class ListNode:\n",
    "    def __init__(self, val=0, next=None):\n",
    "        self.val = val\n",
    "        self.next = next\n",
    "        \n",
    "def traverse(head):\n",
    "    curr = head\n",
    "    while curr:\n",
    "        print(curr.val, end=' ')\n",
    "        curr = curr.next\n",
    "    print()\n",
    "        \n",
    "def merge_list(l1: ListNode, l2: ListNode) -> ListNode:\n",
    "    if l1 is None:\n",
    "        return l2\n",
    "    if l2 is None:\n",
    "        return l1\n",
    "\n",
    "    if l1.val < l2.val:\n",
    "        l1.next = merge_list(l1.next, l2)\n",
    "        return l1\n",
    "    else:\n",
    "        l2.next = merge_list(l1, l2.next)\n",
    "        return l2\n",
    "    \n",
    "def merge_list_loop(p, q):\n",
    "    \n",
    "    dummy_head = ListNode(0)\n",
    "    tail = dummy_head\n",
    "    \n",
    "    while True:\n",
    "        \n",
    "        if q is None:\n",
    "            tail.next = p\n",
    "            break\n",
    "        if p is None:\n",
    "            tail.next = q\n",
    "            break\n",
    "        \n",
    "        if p.val < q.val:\n",
    "            tail.next = p\n",
    "            p = p.next\n",
    "        else:\n",
    "            tail.next = q\n",
    "            q = q.next\n",
    "            \n",
    "            \n",
    "        tail = tail.next\n",
    "    \n",
    "    return dummy_head.next\n",
    "        "
   ]
  },
  {
   "cell_type": "code",
   "execution_count": 105,
   "metadata": {},
   "outputs": [
    {
     "name": "stdout",
     "output_type": "stream",
     "text": [
      "1 2 4 \n",
      "1 3 4 \n"
     ]
    },
    {
     "data": {
      "text/plain": [
       "(None, None)"
      ]
     },
     "execution_count": 105,
     "metadata": {},
     "output_type": "execute_result"
    }
   ],
   "source": [
    "l1 = None\n",
    "l2 = None\n",
    "\n",
    "for i in reversed([1, 2, 4]):\n",
    "    l1 = ListNode(i, l1)\n",
    "    \n",
    "for i in reversed([1, 3, 4]):\n",
    "    l2 = ListNode(i, l2)\n",
    "    \n",
    "traverse(l1), traverse(l2)"
   ]
  },
  {
   "cell_type": "code",
   "execution_count": 104,
   "metadata": {},
   "outputs": [
    {
     "name": "stdout",
     "output_type": "stream",
     "text": [
      "1 1 2 3 4 4 \n"
     ]
    }
   ],
   "source": [
    "head = merge_list_loop(l1, l2)\n",
    "traverse(head)"
   ]
  },
  {
   "cell_type": "code",
   "execution_count": 106,
   "metadata": {},
   "outputs": [
    {
     "name": "stdout",
     "output_type": "stream",
     "text": [
      "1 1 2 3 4 4 \n"
     ]
    }
   ],
   "source": [
    "head = merge_list(l1, l2)\n",
    "traverse(head)"
   ]
  },
  {
   "cell_type": "code",
   "execution_count": null,
   "metadata": {},
   "outputs": [],
   "source": []
  },
  {
   "cell_type": "code",
   "execution_count": 107,
   "metadata": {},
   "outputs": [],
   "source": [
    "def count_pairs(nums, K):\n",
    "    seen = {}  # seen[val] = idx\n",
    "    count = 0\n",
    "    for i, num in enumerate(nums):\n",
    "        pair = K - num\n",
    "        seen_count = seen.get(pair, 0)\n",
    "        if seen_count > 0:\n",
    "            print(num, pair, 'count=', seen_count)\n",
    "            count += seen_count\n",
    "        else:\n",
    "            seen[num] = seen.get(num, 0) + 1\n",
    "        print(seen)\n",
    "    \n",
    "    return count"
   ]
  },
  {
   "cell_type": "code",
   "execution_count": 108,
   "metadata": {},
   "outputs": [],
   "source": [
    "# count_pairs([1,1,2,3,4,6,7], 5)\n",
    "# (2, 3), (0, 4), (1, 4)"
   ]
  },
  {
   "cell_type": "code",
   "execution_count": 109,
   "metadata": {},
   "outputs": [
    {
     "name": "stdout",
     "output_type": "stream",
     "text": [
      "{1: 1}\n",
      "{1: 2}\n",
      "{1: 2, 2: 1}\n",
      "3 2 count= 1\n",
      "{1: 2, 2: 1}\n",
      "4 1 count= 2\n",
      "{1: 2, 2: 1}\n",
      "{1: 2, 2: 1, 6: 1}\n",
      "{1: 2, 2: 1, 6: 1, 7: 1}\n"
     ]
    },
    {
     "data": {
      "text/plain": [
       "3"
      ]
     },
     "execution_count": 109,
     "metadata": {},
     "output_type": "execute_result"
    }
   ],
   "source": [
    "count_pairs([1,1,2,3,4,6,7], 5)"
   ]
  },
  {
   "cell_type": "code",
   "execution_count": null,
   "metadata": {},
   "outputs": [],
   "source": []
  },
  {
   "cell_type": "code",
   "execution_count": 110,
   "metadata": {},
   "outputs": [
    {
     "name": "stdout",
     "output_type": "stream",
     "text": [
      "{7: 1}\n",
      "{7: 1, 0: 1}\n",
      "{7: 1, 0: 1, 1: 1}\n",
      "{7: 1, 0: 1, 1: 2}\n",
      "{7: 1, 0: 1, 1: 2, 2: 1}\n",
      "3 2 count= 1\n",
      "{7: 1, 0: 1, 1: 2, 2: 1}\n",
      "4 1 count= 2\n",
      "{7: 1, 0: 1, 1: 2, 2: 1}\n",
      "{7: 1, 0: 1, 1: 2, 2: 1, 6: 1}\n",
      "{7: 2, 0: 1, 1: 2, 2: 1, 6: 1}\n"
     ]
    },
    {
     "data": {
      "text/plain": [
       "3"
      ]
     },
     "execution_count": 110,
     "metadata": {},
     "output_type": "execute_result"
    }
   ],
   "source": [
    "count_pairs([7,0,1,1,2,3,4,6,7], 5)"
   ]
  },
  {
   "cell_type": "code",
   "execution_count": null,
   "metadata": {},
   "outputs": [],
   "source": []
  },
  {
   "cell_type": "markdown",
   "metadata": {},
   "source": [
    "# Find count of an element in a sorted list"
   ]
  },
  {
   "cell_type": "code",
   "execution_count": 2,
   "metadata": {},
   "outputs": [],
   "source": [
    "def _search(arr, data, low, high, occurence='last'):\n",
    "    result = -1\n",
    "    while low <= high:\n",
    "        mid = (low + high) // 2\n",
    "        if arr[mid] == data:\n",
    "            result = mid\n",
    "            if occurence == 'last':\n",
    "                low = mid + 1\n",
    "            else:\n",
    "                high = mid - 1\n",
    "        elif data < arr[mid]:\n",
    "            high = mid - 1\n",
    "        elif data > arr[mid]:\n",
    "            low = mid + 1\n",
    "            \n",
    "    return result\n",
    "\n",
    "def count_occurrences(arr, data):\n",
    "    first = _search(arr, data, 0, len(arr)-1, occurence='first')\n",
    "    if first == -1:\n",
    "        return -1\n",
    "    else:\n",
    "        last = _search(arr, data, 0, len(arr)-1, occurence='last')\n",
    "    return last - first + 1"
   ]
  },
  {
   "cell_type": "code",
   "execution_count": 3,
   "metadata": {},
   "outputs": [
    {
     "data": {
      "text/plain": [
       "(5, 2, 2, 1)"
      ]
     },
     "execution_count": 3,
     "metadata": {},
     "output_type": "execute_result"
    }
   ],
   "source": [
    "arr = [1, 1, 3, 3, 5, 5, 5, 5, 5, 9, 9, 11]\n",
    "\n",
    "count_occurrences(arr, 5), count_occurrences(arr, 1), count_occurrences(arr, 3), count_occurrences(arr, 11)"
   ]
  },
  {
   "cell_type": "code",
   "execution_count": 4,
   "metadata": {},
   "outputs": [
    {
     "data": {
      "text/plain": [
       "-1"
      ]
     },
     "execution_count": 4,
     "metadata": {},
     "output_type": "execute_result"
    }
   ],
   "source": [
    "count_occurrences(arr, 0)"
   ]
  },
  {
   "cell_type": "code",
   "execution_count": null,
   "metadata": {},
   "outputs": [],
   "source": []
  },
  {
   "cell_type": "markdown",
   "metadata": {},
   "source": [
    "# How many times is a sorted array rotated?"
   ]
  },
  {
   "cell_type": "markdown",
   "metadata": {},
   "source": [
    "#TODO: not done"
   ]
  },
  {
   "cell_type": "code",
   "execution_count": 5,
   "metadata": {},
   "outputs": [],
   "source": [
    "def rotation_count(arr):\n",
    "    n = len(arr)\n",
    "    low = 0\n",
    "    high = n - 1\n",
    "    while low <= high:\n",
    "        if arr[low] <= arr[high]:\n",
    "            return low\n",
    "        \n",
    "        mid = (low + high) // 2\n",
    "        next_ = (mid + 1) % n\n",
    "        prev = (mid - 1 + n) % n\n",
    "        if arr[mid] <= arr[next_] and arr[mid] <= arr[prev]:\n",
    "            return mid\n",
    "        \n",
    "        if arr[mid] <= arr[high]:\n",
    "            high = mid - 1\n",
    "        elif arr[mid] >= arr[low]:\n",
    "            low = mid + 1\n",
    "    return -1"
   ]
  },
  {
   "cell_type": "code",
   "execution_count": 6,
   "metadata": {},
   "outputs": [
    {
     "data": {
      "text/plain": [
       "2"
      ]
     },
     "execution_count": 6,
     "metadata": {},
     "output_type": "execute_result"
    }
   ],
   "source": [
    "arr = [11, 12, 15, 18, 2, 5, 6, 8]\n",
    "# arr = [15, 22, 23, 28, 31, 38, 5, 6, 8, 10, 12]\n",
    "# arr = [1, 2, 3, 4]\n",
    "arr = [17, 18, 2, 5, 6, 8]\n",
    "\n",
    "rotation_count(arr)"
   ]
  },
  {
   "cell_type": "code",
   "execution_count": null,
   "metadata": {},
   "outputs": [],
   "source": []
  },
  {
   "cell_type": "markdown",
   "metadata": {},
   "source": [
    "# Sorted array to BST"
   ]
  },
  {
   "cell_type": "code",
   "execution_count": 23,
   "metadata": {},
   "outputs": [],
   "source": [
    "class Node: \n",
    "    def __init__(self, data):\n",
    "        self.data = data\n",
    "        self.left = None\n",
    "        self.right = None\n",
    "        \n",
    "def _array_to_bst(arr, start, end):\n",
    "    if start <= end:\n",
    "        mid = (start + end) // 2\n",
    "        node = Node(arr[mid])\n",
    "        print(start, mid, end)\n",
    "        node.left = _array_to_bst(arr, start, mid - 1)\n",
    "        node.right = _array_to_bst(arr, mid + 1, end)\n",
    "        return node\n",
    "\n",
    "def array_to_bst(arr):\n",
    "    return _array_to_bst(arr, 0, len(arr) - 1)\n",
    "\n",
    "def preorder(node): \n",
    "    if not node: \n",
    "        return\n",
    "    \n",
    "    print(node.data)\n",
    "    preorder(node.left)\n",
    "    preorder(node.right)\n",
    "    \n",
    "def inorder(node): \n",
    "    if not node: \n",
    "        return\n",
    "    \n",
    "    inorder(node.left)\n",
    "    print(node.data)\n",
    "    inorder(node.right)\n",
    "    "
   ]
  },
  {
   "cell_type": "code",
   "execution_count": 24,
   "metadata": {},
   "outputs": [
    {
     "name": "stdout",
     "output_type": "stream",
     "text": [
      "0 2 4\n",
      "0 0 1\n",
      "1 1 1\n",
      "3 3 4\n",
      "4 4 4\n"
     ]
    },
    {
     "data": {
      "text/plain": [
       "<__main__.Node at 0x7f1f1816e7f0>"
      ]
     },
     "execution_count": 24,
     "metadata": {},
     "output_type": "execute_result"
    }
   ],
   "source": [
    "arr = [1, 2, 3, 4, 5]\n",
    "\n",
    "head = array_to_bst(arr)\n",
    "head"
   ]
  },
  {
   "cell_type": "code",
   "execution_count": 22,
   "metadata": {},
   "outputs": [
    {
     "name": "stdout",
     "output_type": "stream",
     "text": [
      "1\n",
      "2\n",
      "3\n",
      "4\n",
      "5\n"
     ]
    }
   ],
   "source": [
    "inorder(head)"
   ]
  },
  {
   "cell_type": "code",
   "execution_count": 20,
   "metadata": {},
   "outputs": [
    {
     "name": "stdout",
     "output_type": "stream",
     "text": [
      "3\n",
      "1\n",
      "2\n",
      "4\n",
      "5\n"
     ]
    }
   ],
   "source": [
    "preorder(head)"
   ]
  },
  {
   "cell_type": "code",
   "execution_count": 10,
   "metadata": {},
   "outputs": [
    {
     "data": {
      "text/plain": [
       "<__main__.Node at 0x7f9fab8b0eb8>"
      ]
     },
     "execution_count": 10,
     "metadata": {},
     "output_type": "execute_result"
    }
   ],
   "source": [
    "arr = sorted([6, 2, 3, 4, 5, 2, 1])\n",
    "\n",
    "head = array_to_bst(arr)\n",
    "head"
   ]
  },
  {
   "cell_type": "code",
   "execution_count": 11,
   "metadata": {},
   "outputs": [
    {
     "name": "stdout",
     "output_type": "stream",
     "text": [
      "1\n",
      "2\n",
      "2\n",
      "3\n",
      "4\n",
      "5\n",
      "6\n"
     ]
    }
   ],
   "source": [
    "inorder(head)"
   ]
  },
  {
   "cell_type": "code",
   "execution_count": null,
   "metadata": {},
   "outputs": [],
   "source": []
  },
  {
   "cell_type": "markdown",
   "metadata": {},
   "source": [
    "# Sorted Linked List to BST"
   ]
  },
  {
   "cell_type": "code",
   "execution_count": 12,
   "metadata": {},
   "outputs": [],
   "source": [
    "class TNode: \n",
    "    def __init__(self, data):\n",
    "        self.data = data\n",
    "        self.left = None\n",
    "        self.right = None\n",
    "        \n",
    "class LNode:\n",
    "    def __init__(self, data):\n",
    "        self.data = data\n",
    "        self.next = None\n",
    "        \n",
    "def lpush(head, data):\n",
    "    node = LNode(data)\n",
    "    node.next = head\n",
    "    head = node\n",
    "    return head\n",
    "\n",
    "def ltraverse(head):\n",
    "    current = head\n",
    "    while current:\n",
    "        print(current.data)\n",
    "        current = current.next\n",
    "\n",
    "def lcount(head):\n",
    "    current = head\n",
    "    cnt = 0\n",
    "    while current:\n",
    "        cnt += 1\n",
    "        current = current.next\n",
    "    return cnt\n",
    "\n",
    "def inorder(node): \n",
    "    if not node: \n",
    "        return\n",
    "    \n",
    "    inorder(node.left)\n",
    "    print(node.data)\n",
    "    inorder(node.right)"
   ]
  },
  {
   "cell_type": "code",
   "execution_count": 13,
   "metadata": {},
   "outputs": [
    {
     "name": "stdout",
     "output_type": "stream",
     "text": [
      "1\n",
      "2\n",
      "3\n",
      "4\n",
      "5\n"
     ]
    },
    {
     "data": {
      "text/plain": [
       "5"
      ]
     },
     "execution_count": 13,
     "metadata": {},
     "output_type": "execute_result"
    }
   ],
   "source": [
    "head = None\n",
    "\n",
    "head = lpush(head, 5)\n",
    "head = lpush(head, 4)\n",
    "head = lpush(head, 3)\n",
    "head = lpush(head, 2)\n",
    "head = lpush(head, 1)\n",
    "\n",
    "ltraverse(head)\n",
    "\n",
    "n = lcount(head)\n",
    "n"
   ]
  },
  {
   "cell_type": "code",
   "execution_count": 103,
   "metadata": {},
   "outputs": [],
   "source": [
    "def ll_to_bst(head, start, end):\n",
    "    def _ll_to_bst(start, end):\n",
    "        nonlocal head\n",
    "        if start <= end:\n",
    "            mid = start + (end - start) // 2\n",
    "            left = _ll_to_bst(start, mid - 1)\n",
    "            print('data', head.data, 'start', start, 'end', end, 'mid', mid)\n",
    "            node = TNode(head.data)\n",
    "            node.left = left\n",
    "            head = head.next\n",
    "            node.right = _ll_to_bst(mid + 1, end)\n",
    "            return node\n",
    "    return _ll_to_bst(start, end)\n",
    "    "
   ]
  },
  {
   "cell_type": "code",
   "execution_count": 104,
   "metadata": {},
   "outputs": [
    {
     "name": "stdout",
     "output_type": "stream",
     "text": [
      "data 1 start 0 end 1 mid 0\n",
      "data 2 start 1 end 1 mid 1\n",
      "data 3 start 0 end 4 mid 2\n",
      "data 4 start 3 end 4 mid 3\n",
      "data 5 start 4 end 4 mid 4\n"
     ]
    }
   ],
   "source": [
    "h = ll_to_bst(head, 0, n-1)"
   ]
  },
  {
   "cell_type": "code",
   "execution_count": 105,
   "metadata": {},
   "outputs": [
    {
     "name": "stdout",
     "output_type": "stream",
     "text": [
      "1\n",
      "2\n",
      "3\n",
      "4\n",
      "5\n"
     ]
    }
   ],
   "source": [
    "inorder(h)"
   ]
  },
  {
   "cell_type": "code",
   "execution_count": 106,
   "metadata": {},
   "outputs": [
    {
     "data": {
      "text/plain": [
       "1"
      ]
     },
     "execution_count": 106,
     "metadata": {},
     "output_type": "execute_result"
    }
   ],
   "source": [
    "h.left.data"
   ]
  },
  {
   "cell_type": "code",
   "execution_count": 107,
   "metadata": {},
   "outputs": [
    {
     "name": "stdout",
     "output_type": "stream",
     "text": [
      "1\n",
      "2\n",
      "3\n",
      "4\n",
      "5\n"
     ]
    }
   ],
   "source": [
    "ltraverse(head)"
   ]
  },
  {
   "cell_type": "code",
   "execution_count": null,
   "metadata": {},
   "outputs": [],
   "source": []
  },
  {
   "cell_type": "markdown",
   "metadata": {},
   "source": [
    "# Count the number of Islands"
   ]
  },
  {
   "cell_type": "code",
   "execution_count": 14,
   "metadata": {},
   "outputs": [
    {
     "data": {
      "text/plain": [
       "[[1, 1, 0, 0, 0],\n",
       " [0, 1, 0, 0, 1],\n",
       " [1, 0, 0, 1, 1],\n",
       " [0, 0, 0, 0, 0],\n",
       " [1, 0, 1, 0, 1]]"
      ]
     },
     "execution_count": 14,
     "metadata": {},
     "output_type": "execute_result"
    }
   ],
   "source": [
    "data = [[1, 1, 0, 0, 0],\n",
    "       [0, 1, 0, 0, 1],\n",
    "       [1, 0, 0, 1, 1],\n",
    "       [0, 0, 0, 0, 0],\n",
    "       [1, 0, 1, 0, 1]]\n",
    "\n",
    "data"
   ]
  },
  {
   "cell_type": "code",
   "execution_count": 15,
   "metadata": {},
   "outputs": [
    {
     "data": {
      "text/plain": [
       "(5, 5)"
      ]
     },
     "execution_count": 15,
     "metadata": {},
     "output_type": "execute_result"
    }
   ],
   "source": [
    "len(data), len(data[0])"
   ]
  },
  {
   "cell_type": "code",
   "execution_count": 16,
   "metadata": {},
   "outputs": [],
   "source": [
    "def _mark_island(i, j, data):\n",
    "    n_rows = len(data)\n",
    "    n_cols = len(data[0])\n",
    "    \n",
    "    if i >= 0 and i < n_rows and j >= 0 and j < n_cols and data[i][j] == 1:\n",
    "        data[i][j] = -1 # mark as visited\n",
    "        _mark_island(i+1, j, data) # right\n",
    "        _mark_island(i-1, j, data) # left\n",
    "        _mark_island(i, j-1, data) # top\n",
    "        _mark_island(i, j+1, data) # bottom\n",
    "\n",
    "def count_island(data):\n",
    "    count = 0\n",
    "    for i in range(len(data)):\n",
    "        for j in range(len(data[0])):\n",
    "            if data[i][j] == 1:\n",
    "                _mark_island(i, j, data)\n",
    "                count += 1\n",
    "                \n",
    "    return count\n",
    "                \n",
    "    "
   ]
  },
  {
   "cell_type": "code",
   "execution_count": 17,
   "metadata": {},
   "outputs": [
    {
     "data": {
      "text/plain": [
       "6"
      ]
     },
     "execution_count": 17,
     "metadata": {},
     "output_type": "execute_result"
    }
   ],
   "source": [
    "count_island(data)"
   ]
  },
  {
   "cell_type": "code",
   "execution_count": 18,
   "metadata": {},
   "outputs": [
    {
     "data": {
      "text/plain": [
       "[[-1, -1, 0, 0, 0],\n",
       " [0, -1, 0, 0, -1],\n",
       " [-1, 0, 0, -1, -1],\n",
       " [0, 0, 0, 0, 0],\n",
       " [-1, 0, -1, 0, -1]]"
      ]
     },
     "execution_count": 18,
     "metadata": {},
     "output_type": "execute_result"
    }
   ],
   "source": [
    "data"
   ]
  },
  {
   "cell_type": "code",
   "execution_count": null,
   "metadata": {},
   "outputs": [],
   "source": []
  },
  {
   "cell_type": "markdown",
   "metadata": {},
   "source": [
    "# 2Sum"
   ]
  },
  {
   "cell_type": "code",
   "execution_count": 19,
   "metadata": {},
   "outputs": [],
   "source": [
    "def two_sum(nums, x):\n",
    "    snums = sorted(nums)\n",
    "    \n",
    "    i = j = 0\n",
    "    j = len(snums) - 1\n",
    "    found = False\n",
    "    while i < j:\n",
    "        if snums[i] + snums[j] > x:\n",
    "            j -= 1\n",
    "        elif snums[i] + snums[j] < x:\n",
    "            i += 1\n",
    "        else:\n",
    "            print(snums[i], snums[j])\n",
    "            i += 1\n",
    "            found = True\n",
    "            \n",
    "    if not found:\n",
    "        print(-1)\n",
    "        "
   ]
  },
  {
   "cell_type": "code",
   "execution_count": 20,
   "metadata": {},
   "outputs": [],
   "source": [
    "nums = [0, -1, 2, -3, 1, 2]"
   ]
  },
  {
   "cell_type": "code",
   "execution_count": 21,
   "metadata": {},
   "outputs": [
    {
     "name": "stdout",
     "output_type": "stream",
     "text": [
      "-3 2\n",
      "-1 0\n"
     ]
    }
   ],
   "source": [
    "two_sum(nums, -1)"
   ]
  },
  {
   "cell_type": "code",
   "execution_count": 22,
   "metadata": {},
   "outputs": [],
   "source": [
    "nums.sort()"
   ]
  },
  {
   "cell_type": "code",
   "execution_count": 23,
   "metadata": {},
   "outputs": [
    {
     "data": {
      "text/plain": [
       "[-3, -1, 0, 1, 2, 2]"
      ]
     },
     "execution_count": 23,
     "metadata": {},
     "output_type": "execute_result"
    }
   ],
   "source": [
    "nums"
   ]
  },
  {
   "cell_type": "code",
   "execution_count": null,
   "metadata": {},
   "outputs": [],
   "source": []
  },
  {
   "cell_type": "markdown",
   "metadata": {},
   "source": [
    "# 3Sum"
   ]
  },
  {
   "cell_type": "code",
   "execution_count": 24,
   "metadata": {},
   "outputs": [],
   "source": [
    "def three_sum(nums, x):\n",
    "    snums = sorted(nums)\n",
    "    n = len(snums)\n",
    "    \n",
    "    i = 0\n",
    "    while i < n - 1:\n",
    "        l = i + 1\n",
    "        r = n - 1\n",
    "        \n",
    "        while l < r:\n",
    "            sum_ = snums[i] + snums[l] + snums[r]\n",
    "            if sum_ > x:\n",
    "                r -= 1\n",
    "            elif sum_ < x:\n",
    "                l += 1\n",
    "            else:\n",
    "                print(snums[i], snums[l], snums[r])\n",
    "                l += 1\n",
    "                r -= 1\n",
    "                \n",
    "        i += 1\n",
    "        "
   ]
  },
  {
   "cell_type": "code",
   "execution_count": 25,
   "metadata": {},
   "outputs": [
    {
     "name": "stdout",
     "output_type": "stream",
     "text": [
      "-3 1 2\n",
      "-1 0 1\n"
     ]
    }
   ],
   "source": [
    "# nums = [12, 3, 4, 1, 6, 9]\n",
    "nums = [0, -1, 2, -3, 1]\n",
    "\n",
    "three_sum(nums, 0) # 12, 3, 9"
   ]
  },
  {
   "cell_type": "code",
   "execution_count": 26,
   "metadata": {},
   "outputs": [
    {
     "data": {
      "text/plain": [
       "[-3, -1, 0, 1, 2]"
      ]
     },
     "execution_count": 26,
     "metadata": {},
     "output_type": "execute_result"
    }
   ],
   "source": [
    "sorted(nums)"
   ]
  },
  {
   "cell_type": "code",
   "execution_count": null,
   "metadata": {},
   "outputs": [],
   "source": []
  },
  {
   "cell_type": "markdown",
   "metadata": {},
   "source": [
    "# Max Profit with K Transactions"
   ]
  },
  {
   "cell_type": "code",
   "execution_count": 27,
   "metadata": {},
   "outputs": [],
   "source": [
    "def profit(prices, k):\n",
    "    \n",
    "    if not len(prices):\n",
    "        return 0\n",
    "    \n",
    "    profits = [[0 for d in range(len(prices))] for t in range(k + 1)]\n",
    "    \n",
    "    for t in range(1, k + 1):\n",
    "        max_so_far = float('-inf')\n",
    "        for d in range(1, len(prices)):\n",
    "            max_so_far = max(max_so_far, profits[t-1][d-1] - prices[d - 1])\n",
    "            profits[t][d] = max(profits[t][d-1], max_so_far + prices[d])\n",
    "            \n",
    "    return profits[-1][-1]\n",
    "            \n",
    "    \n",
    "    "
   ]
  },
  {
   "cell_type": "code",
   "execution_count": 28,
   "metadata": {},
   "outputs": [
    {
     "data": {
      "text/plain": [
       "93"
      ]
     },
     "execution_count": 28,
     "metadata": {},
     "output_type": "execute_result"
    }
   ],
   "source": [
    "prices = [5, 11, 3, 50, 60, 90]\n",
    "\n",
    "profit(prices, 2)"
   ]
  },
  {
   "cell_type": "code",
   "execution_count": null,
   "metadata": {},
   "outputs": [],
   "source": []
  },
  {
   "cell_type": "markdown",
   "metadata": {},
   "source": [
    "# Cheapest Flights Within K Stops"
   ]
  },
  {
   "cell_type": "code",
   "execution_count": 29,
   "metadata": {},
   "outputs": [],
   "source": [
    "from collections import deque, defaultdict"
   ]
  },
  {
   "cell_type": "code",
   "execution_count": 30,
   "metadata": {},
   "outputs": [],
   "source": [
    "def find_cheapest_price(n, flights, src, dst, K):\n",
    "    \n",
    "    adj_list = defaultdict(list)\n",
    "    for src, dst, price in flights:\n",
    "        adj_list[src].append((dst, price))\n",
    "        \n",
    "    visited = {src: 0} # city: minimum price to get here\n",
    "    q = deque([(src, 0, 0)])\n",
    "    # BFS start with src\n",
    "    # q : (city, curPrice, curStops)\n",
    "    \n",
    "    while q:\n",
    "        curr, price, stops = q.popleft()\n",
    "        for new_city, cost in adj_list[curr]:\n",
    "            if new_city not in visited or cost + price < visited[new_city]:\n",
    "                if stops < K:\n",
    "                    q.append((new_city, cost + price, stops + 1))\n",
    "                    \n",
    "                visited[new_city] = cost + price\n",
    "    \n",
    "    return visited.get(dst, -1)\n"
   ]
  },
  {
   "cell_type": "code",
   "execution_count": 31,
   "metadata": {},
   "outputs": [
    {
     "data": {
      "text/plain": [
       "200"
      ]
     },
     "execution_count": 31,
     "metadata": {},
     "output_type": "execute_result"
    }
   ],
   "source": [
    "n = 3\n",
    "flights = [[0, 1, 100], [1, 2, 100], [0, 2, 500]]\n",
    "src = 0\n",
    "dst = 2\n",
    "k = 1\n",
    "\n",
    "find_cheapest_price(n, flights, src, dst, k)"
   ]
  },
  {
   "cell_type": "code",
   "execution_count": 32,
   "metadata": {},
   "outputs": [
    {
     "data": {
      "text/plain": [
       "500"
      ]
     },
     "execution_count": 32,
     "metadata": {},
     "output_type": "execute_result"
    }
   ],
   "source": [
    "n = 3\n",
    "flights = [[0, 1, 100], [1, 2, 100], [0, 2, 500]]\n",
    "src = 0\n",
    "dst = 2\n",
    "k = 0\n",
    "\n",
    "find_cheapest_price(n, flights, src, dst, k)"
   ]
  },
  {
   "cell_type": "code",
   "execution_count": null,
   "metadata": {},
   "outputs": [],
   "source": []
  },
  {
   "cell_type": "code",
   "execution_count": null,
   "metadata": {},
   "outputs": [],
   "source": []
  },
  {
   "cell_type": "code",
   "execution_count": 2,
   "metadata": {},
   "outputs": [],
   "source": [
    "xs = [1, 2, 3, 4]"
   ]
  },
  {
   "cell_type": "code",
   "execution_count": 3,
   "metadata": {},
   "outputs": [
    {
     "data": {
      "text/plain": [
       "4"
      ]
     },
     "execution_count": 3,
     "metadata": {},
     "output_type": "execute_result"
    }
   ],
   "source": [
    "xs.pop()"
   ]
  },
  {
   "cell_type": "code",
   "execution_count": 4,
   "metadata": {},
   "outputs": [
    {
     "data": {
      "text/plain": [
       "[1, 2, 3]"
      ]
     },
     "execution_count": 4,
     "metadata": {},
     "output_type": "execute_result"
    }
   ],
   "source": [
    "xs"
   ]
  },
  {
   "cell_type": "code",
   "execution_count": 5,
   "metadata": {},
   "outputs": [
    {
     "data": {
      "text/plain": [
       "0"
      ]
     },
     "execution_count": 5,
     "metadata": {},
     "output_type": "execute_result"
    }
   ],
   "source": [
    "sum([])"
   ]
  },
  {
   "cell_type": "code",
   "execution_count": null,
   "metadata": {},
   "outputs": [],
   "source": []
  },
  {
   "cell_type": "code",
   "execution_count": 2,
   "metadata": {},
   "outputs": [
    {
     "data": {
      "text/plain": [
       "True"
      ]
     },
     "execution_count": 2,
     "metadata": {},
     "output_type": "execute_result"
    }
   ],
   "source": [
    "xs = [[1, 2, 3], [4, 5, 6]]\n",
    "\n",
    "[1, 2, 3] in xs"
   ]
  },
  {
   "cell_type": "code",
   "execution_count": null,
   "metadata": {},
   "outputs": [],
   "source": []
  },
  {
   "cell_type": "code",
   "execution_count": 3,
   "metadata": {},
   "outputs": [
    {
     "data": {
      "text/plain": [
       "[1, 1, 2, 5, 6, 7, 10]"
      ]
     },
     "execution_count": 3,
     "metadata": {},
     "output_type": "execute_result"
    }
   ],
   "source": [
    "sorted([10,1,2,7,6,1,5])"
   ]
  },
  {
   "cell_type": "code",
   "execution_count": null,
   "metadata": {},
   "outputs": [],
   "source": []
  },
  {
   "cell_type": "code",
   "execution_count": null,
   "metadata": {},
   "outputs": [],
   "source": []
  },
  {
   "cell_type": "code",
   "execution_count": null,
   "metadata": {},
   "outputs": [],
   "source": []
  },
  {
   "cell_type": "code",
   "execution_count": null,
   "metadata": {},
   "outputs": [],
   "source": []
  },
  {
   "cell_type": "code",
   "execution_count": null,
   "metadata": {},
   "outputs": [],
   "source": []
  },
  {
   "cell_type": "code",
   "execution_count": null,
   "metadata": {},
   "outputs": [],
   "source": []
  },
  {
   "cell_type": "code",
   "execution_count": null,
   "metadata": {},
   "outputs": [],
   "source": []
  }
 ],
 "metadata": {
  "kernelspec": {
   "display_name": "Python [default]",
   "language": "python",
   "name": "python3"
  },
  "language_info": {
   "codemirror_mode": {
    "name": "ipython",
    "version": 3
   },
   "file_extension": ".py",
   "mimetype": "text/x-python",
   "name": "python",
   "nbconvert_exporter": "python",
   "pygments_lexer": "ipython3",
   "version": "3.6.5"
  }
 },
 "nbformat": 4,
 "nbformat_minor": 2
}
