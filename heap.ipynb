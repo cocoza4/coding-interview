{
 "cells": [
  {
   "cell_type": "code",
   "execution_count": null,
   "metadata": {},
   "outputs": [],
   "source": []
  },
  {
   "cell_type": "code",
   "execution_count": null,
   "metadata": {},
   "outputs": [],
   "source": []
  },
  {
   "cell_type": "code",
   "execution_count": null,
   "metadata": {},
   "outputs": [],
   "source": []
  },
  {
   "cell_type": "code",
   "execution_count": null,
   "metadata": {},
   "outputs": [],
   "source": []
  },
  {
   "cell_type": "markdown",
   "metadata": {},
   "source": [
    "# Min Heap"
   ]
  },
  {
   "cell_type": "code",
   "execution_count": 65,
   "metadata": {},
   "outputs": [],
   "source": [
    "class MinHeap:\n",
    "    \n",
    "    def __init__(self, maxsize):\n",
    "        self.maxsize = maxsize\n",
    "        self.size = 0\n",
    "        self.heap = [-1] * (self.maxsize)\n",
    "        \n",
    "    def parent(self, i):\n",
    "        return (i - 1) // 2\n",
    "    \n",
    "    def left_child(self, i):\n",
    "        return 2 * i + 1\n",
    "    \n",
    "    def right_child(self, i):\n",
    "        return 2 * i + 2\n",
    "    \n",
    "    def swap(self, i, j):\n",
    "        self.heap[i], self.heap[j] = self.heap[j], self.heap[i]\n",
    "        \n",
    "    def insert(self, data):\n",
    "        if self.size >= self.maxsize:\n",
    "            raise Exception('Heap full')\n",
    "            \n",
    "        current = self.size\n",
    "        self.heap[self.size] = data\n",
    "        self.size += 1\n",
    "        \n",
    "        while self.heap[current] < self.heap[self.parent(current)]:\n",
    "            parent = self.parent(current)\n",
    "            self.swap(current, parent)\n",
    "            current = parent\n",
    "            \n",
    "    def delete(self):\n",
    "        if self.size <= 0:\n",
    "            raise Exception('Heap empty')\n",
    "            \n",
    "        popped = self.heap[0]\n",
    "        self.heap[0] = self.heap[self.size-1]\n",
    "        self.size -= 1\n",
    "        self.heapify(0)\n",
    "        return popped\n",
    "        \n",
    "    def has_left_child(self, i):\n",
    "        return self.left_child(i) < self.size\n",
    "    \n",
    "    def has_right_child(self, i):\n",
    "        return self.right_child(i) < self.size\n",
    "    \n",
    "    def heapify(self, i):\n",
    "        left_child = self.left_child(i)\n",
    "        right_child = self.right_child(i)\n",
    "        smaller_child = i\n",
    "        if left_child < self.size and self.heap[smaller_child] > self.heap[left_child]:\n",
    "            smaller_child = left_child\n",
    "        if right_child < self.size and self.heap[smaller_child] > self.heap[right_child]:\n",
    "            smaller_child = right_child\n",
    "        \n",
    "        if smaller_child != i:\n",
    "            self.swap(i, smaller_child)\n",
    "            self.heapify(smaller_child)\n",
    "        \n",
    "    "
   ]
  },
  {
   "cell_type": "code",
   "execution_count": null,
   "metadata": {},
   "outputs": [],
   "source": []
  },
  {
   "cell_type": "code",
   "execution_count": 66,
   "metadata": {},
   "outputs": [
    {
     "data": {
      "text/plain": [
       "0"
      ]
     },
     "execution_count": 66,
     "metadata": {},
     "output_type": "execute_result"
    }
   ],
   "source": [
    "heap = MinHeap(10)\n",
    "\n",
    "heap.size"
   ]
  },
  {
   "cell_type": "code",
   "execution_count": 67,
   "metadata": {},
   "outputs": [
    {
     "data": {
      "text/plain": [
       "4"
      ]
     },
     "execution_count": 67,
     "metadata": {},
     "output_type": "execute_result"
    }
   ],
   "source": [
    "heap.insert(1)\n",
    "heap.insert(2)\n",
    "heap.insert(7)\n",
    "heap.insert(5)\n",
    "\n",
    "heap.size"
   ]
  },
  {
   "cell_type": "code",
   "execution_count": 68,
   "metadata": {},
   "outputs": [
    {
     "data": {
      "text/plain": [
       "[1, 2, 7, 5, -1, -1, -1, -1, -1, -1]"
      ]
     },
     "execution_count": 68,
     "metadata": {},
     "output_type": "execute_result"
    }
   ],
   "source": [
    "heap.heap"
   ]
  },
  {
   "cell_type": "code",
   "execution_count": 69,
   "metadata": {},
   "outputs": [
    {
     "data": {
      "text/plain": [
       "1"
      ]
     },
     "execution_count": 69,
     "metadata": {},
     "output_type": "execute_result"
    }
   ],
   "source": [
    "heap.delete()"
   ]
  },
  {
   "cell_type": "code",
   "execution_count": 70,
   "metadata": {},
   "outputs": [
    {
     "data": {
      "text/plain": [
       "[2, 5, 7]"
      ]
     },
     "execution_count": 70,
     "metadata": {},
     "output_type": "execute_result"
    }
   ],
   "source": [
    "heap.heap[:heap.size]"
   ]
  },
  {
   "cell_type": "code",
   "execution_count": 71,
   "metadata": {},
   "outputs": [
    {
     "data": {
      "text/plain": [
       "2"
      ]
     },
     "execution_count": 71,
     "metadata": {},
     "output_type": "execute_result"
    }
   ],
   "source": [
    "heap.delete()"
   ]
  },
  {
   "cell_type": "code",
   "execution_count": 72,
   "metadata": {},
   "outputs": [
    {
     "data": {
      "text/plain": [
       "([5, 7], 2)"
      ]
     },
     "execution_count": 72,
     "metadata": {},
     "output_type": "execute_result"
    }
   ],
   "source": [
    "heap.heap[:heap.size], heap.size"
   ]
  },
  {
   "cell_type": "code",
   "execution_count": null,
   "metadata": {},
   "outputs": [],
   "source": []
  },
  {
   "cell_type": "code",
   "execution_count": 85,
   "metadata": {},
   "outputs": [
    {
     "data": {
      "text/plain": [
       "0"
      ]
     },
     "execution_count": 85,
     "metadata": {},
     "output_type": "execute_result"
    }
   ],
   "source": [
    "heap = MinHeap(10)\n",
    "\n",
    "heap.size"
   ]
  },
  {
   "cell_type": "code",
   "execution_count": 86,
   "metadata": {},
   "outputs": [
    {
     "name": "stdout",
     "output_type": "stream",
     "text": [
      "6\n",
      "2\n",
      "4\n",
      "1\n",
      "3\n",
      "6\n"
     ]
    }
   ],
   "source": [
    "array = [6, 2, 4, 1, 3, 6]\n",
    "for i in array:\n",
    "    print(i)\n",
    "    heap.insert(i)"
   ]
  },
  {
   "cell_type": "code",
   "execution_count": 87,
   "metadata": {},
   "outputs": [
    {
     "data": {
      "text/plain": [
       "6"
      ]
     },
     "execution_count": 87,
     "metadata": {},
     "output_type": "execute_result"
    }
   ],
   "source": [
    "heap.size"
   ]
  },
  {
   "cell_type": "code",
   "execution_count": 88,
   "metadata": {},
   "outputs": [
    {
     "data": {
      "text/plain": [
       "[1, 2, 4, 6, 3, 6, -1, -1, -1, -1]"
      ]
     },
     "execution_count": 88,
     "metadata": {},
     "output_type": "execute_result"
    }
   ],
   "source": [
    "heap.heap"
   ]
  },
  {
   "cell_type": "code",
   "execution_count": 89,
   "metadata": {},
   "outputs": [
    {
     "data": {
      "text/plain": [
       "[2, 3, 4, 6, 6, 6, -1, -1, -1, -1]"
      ]
     },
     "execution_count": 89,
     "metadata": {},
     "output_type": "execute_result"
    }
   ],
   "source": [
    "heap.delete()\n",
    "heap.heap"
   ]
  },
  {
   "cell_type": "code",
   "execution_count": 91,
   "metadata": {},
   "outputs": [
    {
     "data": {
      "text/plain": [
       "[3, 6, 4, 6, 6, 6, -1, -1, -1, -1]"
      ]
     },
     "execution_count": 91,
     "metadata": {},
     "output_type": "execute_result"
    }
   ],
   "source": [
    "heap.delete()\n",
    "heap.heap"
   ]
  },
  {
   "cell_type": "code",
   "execution_count": 92,
   "metadata": {},
   "outputs": [
    {
     "data": {
      "text/plain": [
       "[4, 6, 6, 6, 6, 6, -1, -1, -1, -1]"
      ]
     },
     "execution_count": 92,
     "metadata": {},
     "output_type": "execute_result"
    }
   ],
   "source": [
    "heap.delete()\n",
    "heap.heap"
   ]
  },
  {
   "cell_type": "code",
   "execution_count": 93,
   "metadata": {},
   "outputs": [
    {
     "data": {
      "text/plain": [
       "[4, 6, 6]"
      ]
     },
     "execution_count": 93,
     "metadata": {},
     "output_type": "execute_result"
    }
   ],
   "source": [
    "heap.heap[:heap.size]"
   ]
  },
  {
   "cell_type": "code",
   "execution_count": null,
   "metadata": {},
   "outputs": [],
   "source": []
  },
  {
   "cell_type": "code",
   "execution_count": 98,
   "metadata": {},
   "outputs": [],
   "source": [
    "def parent(i):\n",
    "    return (i - 1) // 2\n",
    "\n",
    "def left_child(i):\n",
    "    return 2 * i + 1\n",
    "\n",
    "def right_child(i):\n",
    "    return 2 * i + 2\n",
    "\n",
    "def heapify(array, n, i):\n",
    "    left = left_child(i)\n",
    "    right = right_child(i)\n",
    "    larger = i\n",
    "    \n",
    "    if left < n and array[larger] < array[left]:\n",
    "        larger = left\n",
    "    if right < n and array[larger] < array[right]:\n",
    "        larger = right\n",
    "\n",
    "    if larger != i:\n",
    "        array[i], array[larger] = array[larger], array[i]\n",
    "        heapify(array, n, larger)\n",
    "            \n",
    "def heap_sort(array):\n",
    "    n = len(array)\n",
    "    \n",
    "    for i in range(n // 2, -1, -1):\n",
    "        heapify(array, n, i)\n",
    "        \n",
    "    for i in range(n-1, 0, -1): \n",
    "        array[i], array[0] = array[0], array[i] # swap \n",
    "        heapify(array, i, 0)\n",
    "        "
   ]
  },
  {
   "cell_type": "code",
   "execution_count": 99,
   "metadata": {},
   "outputs": [
    {
     "data": {
      "text/plain": [
       "[1, 2, 3, 4, 6, 6]"
      ]
     },
     "execution_count": 99,
     "metadata": {},
     "output_type": "execute_result"
    }
   ],
   "source": [
    "array = [6, 2, 4, 1, 3, 6]\n",
    "heap_sort(array)\n",
    "array"
   ]
  },
  {
   "cell_type": "code",
   "execution_count": null,
   "metadata": {},
   "outputs": [],
   "source": []
  },
  {
   "cell_type": "code",
   "execution_count": null,
   "metadata": {},
   "outputs": [],
   "source": []
  },
  {
   "cell_type": "code",
   "execution_count": null,
   "metadata": {},
   "outputs": [],
   "source": []
  }
 ],
 "metadata": {
  "kernelspec": {
   "display_name": "Python [default]",
   "language": "python",
   "name": "python3"
  },
  "language_info": {
   "codemirror_mode": {
    "name": "ipython",
    "version": 3
   },
   "file_extension": ".py",
   "mimetype": "text/x-python",
   "name": "python",
   "nbconvert_exporter": "python",
   "pygments_lexer": "ipython3",
   "version": "3.6.5"
  }
 },
 "nbformat": 4,
 "nbformat_minor": 2
}
