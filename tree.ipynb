{
 "cells": [
  {
   "cell_type": "code",
   "execution_count": 4,
   "metadata": {},
   "outputs": [],
   "source": [
    "import queue"
   ]
  },
  {
   "cell_type": "code",
   "execution_count": null,
   "metadata": {},
   "outputs": [],
   "source": []
  },
  {
   "cell_type": "code",
   "execution_count": 5,
   "metadata": {},
   "outputs": [],
   "source": [
    "class Node:\n",
    "    \n",
    "    def __init__(self, data):\n",
    "        self.data = data\n",
    "        self.left = None\n",
    "        self.right = None\n",
    "        \n",
    "    def __str__(self):\n",
    "        return str(self.data)\n",
    "        \n",
    "    def __repr__(self):\n",
    "        return str(self.data)"
   ]
  },
  {
   "cell_type": "code",
   "execution_count": 66,
   "metadata": {},
   "outputs": [],
   "source": [
    "class Tree:\n",
    "    \n",
    "    def __init__(self):\n",
    "        self.root = None\n",
    "    \n",
    "    def _insert(self, node, data):\n",
    "        if node is None:\n",
    "            return Node(data)\n",
    "            \n",
    "        if data <= node.data:\n",
    "            node.left = self._insert(node.left, data)\n",
    "        else:\n",
    "            node.right = self._insert(node.right, data)\n",
    "        return node\n",
    "    \n",
    "    def insert(self, data):\n",
    "        if self.root is None:\n",
    "            self.root = Node(data)\n",
    "        else:\n",
    "            self._insert(self.root, data)\n",
    "            \n",
    "    def search(self, data):\n",
    "        def _search(node):\n",
    "            if node is None:\n",
    "                return False\n",
    "            if data == node.data:\n",
    "                return True\n",
    "            if data < node.data:\n",
    "                return _search(node.left)\n",
    "            else:\n",
    "                return _search(node.right)\n",
    "        return _search(self.root)\n",
    "        \n",
    "    def findMin(self):\n",
    "        def _findMin(node):\n",
    "            if node.left is None:\n",
    "                return node.data\n",
    "            return _findMin(node.left)\n",
    "        \n",
    "        return _findMin(self.root) if self.root is not None else None\n",
    "    \n",
    "    def findMax(self):\n",
    "        def _findMax(node):\n",
    "            if node.right is None:\n",
    "                return node.data\n",
    "            return _findMax(node.right)\n",
    "        \n",
    "        return _findMax(self.root) if self.root is not None else None\n",
    "    \n",
    "    def findHeight(self):\n",
    "        \n",
    "        def _findHeight(node):\n",
    "            if node is None:\n",
    "                return -1\n",
    "            leftHeight = _findHeight(node.left)\n",
    "            rightHeight = _findHeight(node.right)\n",
    "            \n",
    "            return max(leftHeight, rightHeight) + 1\n",
    "        \n",
    "        return _findHeight(self.root)\n",
    "    \n",
    "    def isBst(self):\n",
    "        def _isBst(node, min_val, max_val):\n",
    "            if node is None: return True\n",
    "            if min_val <= node.data <= max_val and \\\n",
    "                _isBst(node.left, min_val, node.data) and \\\n",
    "                _isBst(node.right, node.data, max_val):\n",
    "                return True\n",
    "            else:\n",
    "                return False\n",
    "        \n",
    "        return _isBst(self.root, float('-inf'), float('inf'))\n",
    "            \n",
    "    \n",
    "    def delete(self, data):\n",
    "        pass\n",
    "            \n",
    "    def traverseBreathFirst(self):\n",
    "        q = queue.Queue()\n",
    "        q.put(self.root)\n",
    "        while not q.empty():\n",
    "            node = q.get(False)\n",
    "            print(node.data)\n",
    "            if node.left is not None: q.put(node.left, False)\n",
    "            if node.right is not None: q.put(node.right, False)\n",
    "            \n",
    "    def traverseInOrder(self):\n",
    "        def _traverseInOrder(node):\n",
    "            if node is None: return\n",
    "            _traverseInOrder(node.left)\n",
    "            print(node.data)\n",
    "            _traverseInOrder(node.right)\n",
    "            \n",
    "        _traverseInOrder(self.root)\n",
    "        \n",
    "    def traversePreOrder(self):\n",
    "        def _traversePreOrder(node):\n",
    "            if node is None: return\n",
    "            print(node.data)\n",
    "            _traversePreOrder(node.left)\n",
    "            _traversePreOrder(node.right)\n",
    "            \n",
    "        _traversePreOrder(self.root)\n",
    "        \n",
    "    def traversePostOrder(self):\n",
    "        def _traversePostOrder(node):\n",
    "            if node is None: return\n",
    "            _traversePostOrder(node.left)\n",
    "            _traversePostOrder(node.right)\n",
    "            print(node.data)\n",
    "            \n",
    "        _traversePostOrder(self.root)\n",
    "            "
   ]
  },
  {
   "cell_type": "code",
   "execution_count": 67,
   "metadata": {},
   "outputs": [],
   "source": [
    "tree = Tree()\n",
    "tree.insert(5)\n",
    "tree.insert(10)\n",
    "tree.insert(10)\n",
    "tree.insert(4)\n",
    "tree.insert(3)\n",
    "tree.insert(1)\n",
    "# tree.insert(20)\n",
    "# tree.insert(30)\n",
    "# tree.insert(40)\n",
    "# tree.insert(70)\n",
    "# tree.insert(60)\n",
    "# tree.insert(80)"
   ]
  },
  {
   "cell_type": "code",
   "execution_count": 68,
   "metadata": {},
   "outputs": [
    {
     "data": {
      "text/plain": [
       "(True, True, False, True, True)"
      ]
     },
     "execution_count": 68,
     "metadata": {},
     "output_type": "execute_result"
    }
   ],
   "source": [
    "tree.search(5), tree.search(3), tree.search(20), tree.search(10), tree.search(4)"
   ]
  },
  {
   "cell_type": "code",
   "execution_count": 69,
   "metadata": {},
   "outputs": [
    {
     "data": {
      "text/plain": [
       "True"
      ]
     },
     "execution_count": 69,
     "metadata": {},
     "output_type": "execute_result"
    }
   ],
   "source": [
    "tree.isBst()"
   ]
  },
  {
   "cell_type": "code",
   "execution_count": 70,
   "metadata": {},
   "outputs": [
    {
     "data": {
      "text/plain": [
       "1"
      ]
     },
     "execution_count": 70,
     "metadata": {},
     "output_type": "execute_result"
    }
   ],
   "source": [
    "tree.findMin()"
   ]
  },
  {
   "cell_type": "code",
   "execution_count": 71,
   "metadata": {},
   "outputs": [
    {
     "data": {
      "text/plain": [
       "10"
      ]
     },
     "execution_count": 71,
     "metadata": {},
     "output_type": "execute_result"
    }
   ],
   "source": [
    "tree.findMax()"
   ]
  },
  {
   "cell_type": "code",
   "execution_count": 48,
   "metadata": {},
   "outputs": [
    {
     "data": {
      "text/plain": [
       "3"
      ]
     },
     "execution_count": 48,
     "metadata": {},
     "output_type": "execute_result"
    }
   ],
   "source": [
    "tree.findHeight()"
   ]
  },
  {
   "cell_type": "code",
   "execution_count": 49,
   "metadata": {},
   "outputs": [
    {
     "name": "stdout",
     "output_type": "stream",
     "text": [
      "5\n",
      "4\n",
      "10\n",
      "3\n",
      "10\n",
      "1\n"
     ]
    }
   ],
   "source": [
    "tree.traverseBreathFirst()"
   ]
  },
  {
   "cell_type": "code",
   "execution_count": 29,
   "metadata": {},
   "outputs": [
    {
     "name": "stdout",
     "output_type": "stream",
     "text": [
      "1\n",
      "3\n",
      "4\n",
      "5\n",
      "10\n",
      "10\n"
     ]
    }
   ],
   "source": [
    "tree.traverseInOrder()"
   ]
  },
  {
   "cell_type": "code",
   "execution_count": 30,
   "metadata": {},
   "outputs": [
    {
     "name": "stdout",
     "output_type": "stream",
     "text": [
      "5\n",
      "4\n",
      "3\n",
      "1\n",
      "10\n",
      "10\n"
     ]
    }
   ],
   "source": [
    "tree.traversePreOrder()"
   ]
  },
  {
   "cell_type": "code",
   "execution_count": 31,
   "metadata": {},
   "outputs": [
    {
     "name": "stdout",
     "output_type": "stream",
     "text": [
      "1\n",
      "3\n",
      "4\n",
      "10\n",
      "10\n",
      "5\n"
     ]
    }
   ],
   "source": [
    "tree.traversePostOrder()"
   ]
  },
  {
   "cell_type": "code",
   "execution_count": 32,
   "metadata": {},
   "outputs": [
    {
     "name": "stdout",
     "output_type": "stream",
     "text": [
      "5\n"
     ]
    }
   ],
   "source": [
    "print(tree.root)"
   ]
  },
  {
   "cell_type": "code",
   "execution_count": 12,
   "metadata": {},
   "outputs": [
    {
     "data": {
      "text/plain": [
       "4"
      ]
     },
     "execution_count": 12,
     "metadata": {},
     "output_type": "execute_result"
    }
   ],
   "source": [
    "tree.root.left"
   ]
  },
  {
   "cell_type": "code",
   "execution_count": 13,
   "metadata": {},
   "outputs": [
    {
     "data": {
      "text/plain": [
       "3"
      ]
     },
     "execution_count": 13,
     "metadata": {},
     "output_type": "execute_result"
    }
   ],
   "source": [
    "tree.root.left.left"
   ]
  },
  {
   "cell_type": "code",
   "execution_count": 14,
   "metadata": {},
   "outputs": [
    {
     "data": {
      "text/plain": [
       "10"
      ]
     },
     "execution_count": 14,
     "metadata": {},
     "output_type": "execute_result"
    }
   ],
   "source": [
    "tree.root.right"
   ]
  },
  {
   "cell_type": "code",
   "execution_count": 15,
   "metadata": {},
   "outputs": [
    {
     "data": {
      "text/plain": [
       "10"
      ]
     },
     "execution_count": 15,
     "metadata": {},
     "output_type": "execute_result"
    }
   ],
   "source": [
    "tree.root.right.left.data"
   ]
  },
  {
   "cell_type": "code",
   "execution_count": null,
   "metadata": {},
   "outputs": [],
   "source": []
  },
  {
   "cell_type": "code",
   "execution_count": 16,
   "metadata": {},
   "outputs": [
    {
     "data": {
      "text/plain": [
       "5"
      ]
     },
     "execution_count": 16,
     "metadata": {},
     "output_type": "execute_result"
    }
   ],
   "source": [
    "q = queue.Queue()\n",
    "q.put(5, False)\n",
    "q.get(False)"
   ]
  },
  {
   "cell_type": "code",
   "execution_count": null,
   "metadata": {},
   "outputs": [],
   "source": []
  },
  {
   "cell_type": "code",
   "execution_count": null,
   "metadata": {},
   "outputs": [],
   "source": []
  }
 ],
 "metadata": {
  "kernelspec": {
   "display_name": "Python [default]",
   "language": "python",
   "name": "python3"
  },
  "language_info": {
   "codemirror_mode": {
    "name": "ipython",
    "version": 3
   },
   "file_extension": ".py",
   "mimetype": "text/x-python",
   "name": "python",
   "nbconvert_exporter": "python",
   "pygments_lexer": "ipython3",
   "version": "3.6.5"
  }
 },
 "nbformat": 4,
 "nbformat_minor": 2
}
