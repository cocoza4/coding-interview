{
 "cells": [
  {
   "cell_type": "code",
   "execution_count": 1,
   "metadata": {},
   "outputs": [],
   "source": [
    "import queue"
   ]
  },
  {
   "cell_type": "code",
   "execution_count": null,
   "metadata": {},
   "outputs": [],
   "source": []
  },
  {
   "cell_type": "code",
   "execution_count": null,
   "metadata": {},
   "outputs": [],
   "source": []
  },
  {
   "cell_type": "code",
   "execution_count": 2,
   "metadata": {},
   "outputs": [],
   "source": [
    "class Node:\n",
    "    \n",
    "    def __init__(self, data):\n",
    "        self.data = data\n",
    "        self.left = None\n",
    "        self.right = None\n",
    "        \n",
    "    def __str__(self):\n",
    "        return str(self.data)\n",
    "        \n",
    "    def __repr__(self):\n",
    "        return str(self.data)"
   ]
  },
  {
   "cell_type": "code",
   "execution_count": 121,
   "metadata": {},
   "outputs": [],
   "source": [
    "class Tree:\n",
    "    \n",
    "    def __init__(self):\n",
    "        self.root = None\n",
    "    \n",
    "    def _insert(self, node, data):\n",
    "        if node is None:\n",
    "            return Node(data)\n",
    "            \n",
    "        if data <= node.data:\n",
    "            node.left = self._insert(node.left, data)\n",
    "        else:\n",
    "            node.right = self._insert(node.right, data)\n",
    "        return node\n",
    "    \n",
    "    def insert(self, data):\n",
    "        if self.root is None:\n",
    "            self.root = Node(data)\n",
    "        else:\n",
    "            self._insert(self.root, data)\n",
    "            \n",
    "    def search(self, data):\n",
    "        def _search(node):\n",
    "            if node is None:\n",
    "                return node\n",
    "            if data == node.data:\n",
    "                return node\n",
    "            if data < node.data:\n",
    "                return _search(node.left)\n",
    "            else:\n",
    "                return _search(node.right)\n",
    "        return _search(self.root)\n",
    "        \n",
    "    def find_min(self):\n",
    "        def _find_min(node):\n",
    "            if node.left is None:\n",
    "                return node\n",
    "            return _find_min(node.left)\n",
    "        \n",
    "        return _find_min(self.root) if self.root is not None else None\n",
    "    \n",
    "    def find_min_at(self, root):\n",
    "        def _find_min(node):\n",
    "            if node.left is None:\n",
    "                return node\n",
    "            return _find_min(node.left)\n",
    "        \n",
    "        return _find_min(root) if root is not None else None\n",
    "    \n",
    "    def find_max(self):\n",
    "        def _find_max(node):\n",
    "            if node.right is None:\n",
    "                return node\n",
    "            return _find_max(node.right)\n",
    "        \n",
    "        return _find_max(self.root) if self.root is not None else None\n",
    "    \n",
    "    def find_height(self):\n",
    "        \n",
    "        def _find_height(node):\n",
    "            if node is None:\n",
    "                return -1\n",
    "            left_height = _find_height(node.left)\n",
    "            right_height = _find_height(node.right)\n",
    "            \n",
    "            return max(left_height, right_height) + 1\n",
    "        \n",
    "        return _find_height(self.root)\n",
    "    \n",
    "    def is_bst(self):\n",
    "        def _is_bst(node, min_val, max_val):\n",
    "            if node is None: return True\n",
    "            if min_val <= node.data <= max_val and \\\n",
    "                _is_bst(node.left, min_val, node.data) and \\\n",
    "                _is_bst(node.right, node.data, max_val):\n",
    "                return True\n",
    "            else:\n",
    "                return False\n",
    "        \n",
    "        return _is_bst(self.root, float('-inf'), float('inf'))\n",
    "    \n",
    "    def delete(self, data):\n",
    "        def _delete(node, data):\n",
    "            if node is None:\n",
    "                return node\n",
    "            \n",
    "            if data < node.data:\n",
    "                node.left = _delete(node.left, data)\n",
    "            elif data > node.data:\n",
    "                node.right = _delete(node.right, data)\n",
    "            else: # found\n",
    "                if node.left is None and node.right is None: # no child\n",
    "                    node = None\n",
    "                elif node.left is None: # one child\n",
    "                    node = node.right\n",
    "                elif node.right is None: # one child\n",
    "                    node = node.left\n",
    "                else: # two children\n",
    "                    min_node = self.find_min_at(node.right)\n",
    "                    node.data = min_node.data\n",
    "                    node.right = _delete(node.right, min_node.data)\n",
    "            return node\n",
    "\n",
    "        return _delete(self.root, data)\n",
    "    \n",
    "    def successor(self, data):\n",
    "        node = self.search(data)\n",
    "        if node is None:\n",
    "            return node\n",
    "        if node.right is not None:\n",
    "            return self.find_min_at(node.right)\n",
    "        else:\n",
    "            ancestor = self.root\n",
    "            successor = None\n",
    "            while ancestor != node:\n",
    "                if node.data > ancestor.data:\n",
    "                    ancestor = ancestor.right\n",
    "                else:\n",
    "                    successor = ancestor\n",
    "                    ancestor = ancestor.left\n",
    "                    \n",
    "        return successor\n",
    "        \n",
    "            \n",
    "    def traverse_breath_first(self):\n",
    "        q = queue.Queue()\n",
    "        q.put(self.root)\n",
    "        while not q.empty():\n",
    "            node = q.get(False)\n",
    "            print(node.data)\n",
    "            if node.left is not None: q.put(node.left, False)\n",
    "            if node.right is not None: q.put(node.right, False)\n",
    "            \n",
    "    def traverse_in_order(self):\n",
    "        def _traverse_in_order(node):\n",
    "            if node is None: return\n",
    "            _traverse_in_order(node.left)\n",
    "            print(node.data)\n",
    "            _traverse_in_order(node.right)\n",
    "            \n",
    "        _traverse_in_order(self.root)\n",
    "        \n",
    "    def traverse_post_order(self):\n",
    "        def _traverse_post_order(node):\n",
    "            if node is None: return\n",
    "            print(node.data)\n",
    "            _traverse_post_order(node.left)\n",
    "            _traverse_post_order(node.right)\n",
    "            \n",
    "        _traverse_post_order(self.root)\n",
    "        \n",
    "    def traverse_post_order(self):\n",
    "        def _traverse_post_order(node):\n",
    "            if node is None: return\n",
    "            _traverse_post_order(node.left)\n",
    "            _traverse_post_order(node.right)\n",
    "            print(node.data)\n",
    "            \n",
    "        _traverse_post_order(self.root)\n",
    "            "
   ]
  },
  {
   "cell_type": "code",
   "execution_count": null,
   "metadata": {},
   "outputs": [],
   "source": []
  },
  {
   "cell_type": "code",
   "execution_count": 122,
   "metadata": {},
   "outputs": [],
   "source": [
    "tree = Tree()\n",
    "tree.insert(5)\n",
    "tree.insert(10)\n",
    "tree.insert(10)\n",
    "tree.insert(8)\n",
    "tree.insert(15)\n",
    "tree.insert(13)\n",
    "tree.insert(4)\n",
    "tree.insert(3)\n",
    "# tree.insert(1)\n",
    "# tree.insert(20)\n",
    "# tree.insert(30)\n",
    "# tree.insert(40)\n",
    "# tree.insert(70)\n",
    "# tree.insert(60)\n",
    "# tree.insert(80)"
   ]
  },
  {
   "cell_type": "code",
   "execution_count": 123,
   "metadata": {},
   "outputs": [
    {
     "data": {
      "text/plain": [
       "(5, 3, None, 10, 4)"
      ]
     },
     "execution_count": 123,
     "metadata": {},
     "output_type": "execute_result"
    }
   ],
   "source": [
    "tree.search(5), tree.search(3), tree.search(20), tree.search(10), tree.search(4)"
   ]
  },
  {
   "cell_type": "code",
   "execution_count": 124,
   "metadata": {},
   "outputs": [
    {
     "name": "stdout",
     "output_type": "stream",
     "text": [
      "5\n",
      "4\n",
      "10\n",
      "3\n",
      "10\n",
      "15\n",
      "8\n",
      "13\n"
     ]
    }
   ],
   "source": [
    "tree.traverse_breath_first()"
   ]
  },
  {
   "cell_type": "code",
   "execution_count": 125,
   "metadata": {},
   "outputs": [
    {
     "name": "stdout",
     "output_type": "stream",
     "text": [
      "5\n",
      "4\n",
      "13\n",
      "3\n",
      "10\n",
      "15\n",
      "8\n"
     ]
    }
   ],
   "source": [
    "tree.delete(10)\n",
    "tree.traverse_breath_first()"
   ]
  },
  {
   "cell_type": "code",
   "execution_count": 126,
   "metadata": {},
   "outputs": [
    {
     "data": {
      "text/plain": [
       "13"
      ]
     },
     "execution_count": 126,
     "metadata": {},
     "output_type": "execute_result"
    }
   ],
   "source": [
    "tree.successor(10)"
   ]
  },
  {
   "cell_type": "code",
   "execution_count": 45,
   "metadata": {},
   "outputs": [
    {
     "data": {
      "text/plain": [
       "<__main__.Tree at 0x7f35d49be080>"
      ]
     },
     "execution_count": 45,
     "metadata": {},
     "output_type": "execute_result"
    }
   ],
   "source": [
    "tree"
   ]
  },
  {
   "cell_type": "code",
   "execution_count": 6,
   "metadata": {},
   "outputs": [
    {
     "data": {
      "text/plain": [
       "True"
      ]
     },
     "execution_count": 6,
     "metadata": {},
     "output_type": "execute_result"
    }
   ],
   "source": [
    "tree.isBst()"
   ]
  },
  {
   "cell_type": "code",
   "execution_count": 80,
   "metadata": {},
   "outputs": [
    {
     "data": {
      "text/plain": [
       "1"
      ]
     },
     "execution_count": 80,
     "metadata": {},
     "output_type": "execute_result"
    }
   ],
   "source": [
    "tree.findMin()"
   ]
  },
  {
   "cell_type": "code",
   "execution_count": 81,
   "metadata": {},
   "outputs": [
    {
     "data": {
      "text/plain": [
       "11"
      ]
     },
     "execution_count": 81,
     "metadata": {},
     "output_type": "execute_result"
    }
   ],
   "source": [
    "tree.findMax()"
   ]
  },
  {
   "cell_type": "code",
   "execution_count": 82,
   "metadata": {},
   "outputs": [
    {
     "data": {
      "text/plain": [
       "3"
      ]
     },
     "execution_count": 82,
     "metadata": {},
     "output_type": "execute_result"
    }
   ],
   "source": [
    "tree.findHeight()"
   ]
  },
  {
   "cell_type": "code",
   "execution_count": 83,
   "metadata": {},
   "outputs": [
    {
     "name": "stdout",
     "output_type": "stream",
     "text": [
      "5\n",
      "4\n",
      "10\n",
      "3\n",
      "10\n",
      "11\n",
      "1\n"
     ]
    }
   ],
   "source": [
    "tree.traverseBreathFirst()"
   ]
  },
  {
   "cell_type": "code",
   "execution_count": 84,
   "metadata": {},
   "outputs": [
    {
     "name": "stdout",
     "output_type": "stream",
     "text": [
      "1\n",
      "3\n",
      "4\n",
      "5\n",
      "10\n",
      "10\n",
      "11\n"
     ]
    }
   ],
   "source": [
    "tree.traverseInOrder()"
   ]
  },
  {
   "cell_type": "code",
   "execution_count": 85,
   "metadata": {},
   "outputs": [
    {
     "name": "stdout",
     "output_type": "stream",
     "text": [
      "5\n",
      "4\n",
      "3\n",
      "1\n",
      "10\n",
      "10\n",
      "11\n"
     ]
    }
   ],
   "source": [
    "tree.traversePreOrder()"
   ]
  },
  {
   "cell_type": "code",
   "execution_count": 86,
   "metadata": {},
   "outputs": [
    {
     "name": "stdout",
     "output_type": "stream",
     "text": [
      "1\n",
      "3\n",
      "4\n",
      "10\n",
      "11\n",
      "10\n",
      "5\n"
     ]
    }
   ],
   "source": [
    "tree.traversePostOrder()"
   ]
  },
  {
   "cell_type": "code",
   "execution_count": 87,
   "metadata": {},
   "outputs": [
    {
     "name": "stdout",
     "output_type": "stream",
     "text": [
      "5\n"
     ]
    }
   ],
   "source": [
    "print(tree.root)"
   ]
  },
  {
   "cell_type": "code",
   "execution_count": 12,
   "metadata": {},
   "outputs": [
    {
     "data": {
      "text/plain": [
       "4"
      ]
     },
     "execution_count": 12,
     "metadata": {},
     "output_type": "execute_result"
    }
   ],
   "source": [
    "tree.root.left"
   ]
  },
  {
   "cell_type": "code",
   "execution_count": 13,
   "metadata": {},
   "outputs": [
    {
     "data": {
      "text/plain": [
       "3"
      ]
     },
     "execution_count": 13,
     "metadata": {},
     "output_type": "execute_result"
    }
   ],
   "source": [
    "tree.root.left.left"
   ]
  },
  {
   "cell_type": "code",
   "execution_count": 14,
   "metadata": {},
   "outputs": [
    {
     "data": {
      "text/plain": [
       "10"
      ]
     },
     "execution_count": 14,
     "metadata": {},
     "output_type": "execute_result"
    }
   ],
   "source": [
    "tree.root.right"
   ]
  },
  {
   "cell_type": "code",
   "execution_count": 15,
   "metadata": {},
   "outputs": [
    {
     "data": {
      "text/plain": [
       "10"
      ]
     },
     "execution_count": 15,
     "metadata": {},
     "output_type": "execute_result"
    }
   ],
   "source": [
    "tree.root.right.left.data"
   ]
  },
  {
   "cell_type": "code",
   "execution_count": null,
   "metadata": {},
   "outputs": [],
   "source": []
  },
  {
   "cell_type": "code",
   "execution_count": 16,
   "metadata": {},
   "outputs": [
    {
     "data": {
      "text/plain": [
       "5"
      ]
     },
     "execution_count": 16,
     "metadata": {},
     "output_type": "execute_result"
    }
   ],
   "source": [
    "q = queue.Queue()\n",
    "q.put(5, False)\n",
    "q.get(False)"
   ]
  },
  {
   "cell_type": "code",
   "execution_count": null,
   "metadata": {},
   "outputs": [],
   "source": []
  },
  {
   "cell_type": "code",
   "execution_count": null,
   "metadata": {},
   "outputs": [],
   "source": []
  }
 ],
 "metadata": {
  "kernelspec": {
   "display_name": "Python [default]",
   "language": "python",
   "name": "python3"
  },
  "language_info": {
   "codemirror_mode": {
    "name": "ipython",
    "version": 3
   },
   "file_extension": ".py",
   "mimetype": "text/x-python",
   "name": "python",
   "nbconvert_exporter": "python",
   "pygments_lexer": "ipython3",
   "version": "3.6.5"
  }
 },
 "nbformat": 4,
 "nbformat_minor": 2
}
