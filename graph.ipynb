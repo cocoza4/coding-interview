{
 "cells": [
  {
   "cell_type": "code",
   "execution_count": 200,
   "metadata": {},
   "outputs": [],
   "source": [
    "import math\n",
    "import heapq"
   ]
  },
  {
   "cell_type": "code",
   "execution_count": null,
   "metadata": {},
   "outputs": [],
   "source": []
  },
  {
   "cell_type": "markdown",
   "metadata": {},
   "source": [
    "# Graph"
   ]
  },
  {
   "cell_type": "markdown",
   "metadata": {},
   "source": [
    "### Depth First Search"
   ]
  },
  {
   "cell_type": "code",
   "execution_count": 1,
   "metadata": {},
   "outputs": [
    {
     "data": {
      "text/plain": [
       "([0, 1, 2, 3, 4], [False, False, False, False, False])"
      ]
     },
     "execution_count": 1,
     "metadata": {},
     "output_type": "execute_result"
    }
   ],
   "source": [
    "adj_list = [[1, 3], \n",
    "            [0, 2, 4], \n",
    "            [1, 4],\n",
    "            [0],\n",
    "            [1, 2]]\n",
    "n = 5\n",
    "nodes = list(range(n))\n",
    "visited = [False] * n\n",
    "nodes, visited"
   ]
  },
  {
   "cell_type": "code",
   "execution_count": 2,
   "metadata": {},
   "outputs": [],
   "source": [
    "def dfs(s):\n",
    "    global visited, adj_list\n",
    "    if visited[s]: return\n",
    "    \n",
    "    visited[s] = True\n",
    "    print(s)\n",
    "    \n",
    "    for u in adj_list[s]:\n",
    "        dfs(u)"
   ]
  },
  {
   "cell_type": "code",
   "execution_count": 3,
   "metadata": {},
   "outputs": [
    {
     "name": "stdout",
     "output_type": "stream",
     "text": [
      "0\n",
      "1\n",
      "2\n",
      "4\n",
      "3\n"
     ]
    }
   ],
   "source": [
    "dfs(0)"
   ]
  },
  {
   "cell_type": "code",
   "execution_count": null,
   "metadata": {},
   "outputs": [],
   "source": []
  },
  {
   "cell_type": "markdown",
   "metadata": {},
   "source": [
    "### Breath First Search"
   ]
  },
  {
   "cell_type": "code",
   "execution_count": 4,
   "metadata": {},
   "outputs": [],
   "source": [
    "from collections import deque"
   ]
  },
  {
   "cell_type": "code",
   "execution_count": 5,
   "metadata": {},
   "outputs": [
    {
     "data": {
      "text/plain": [
       "([0, 1, 2, 3, 4, 5], [False, False, False, False, False, False])"
      ]
     },
     "execution_count": 5,
     "metadata": {},
     "output_type": "execute_result"
    }
   ],
   "source": [
    "adj_list = [[1, 3], \n",
    "            [0, 2, 4], \n",
    "            [1, 5],\n",
    "            [0],\n",
    "            [1, 5],\n",
    "            [2, 4]]\n",
    "n = 6\n",
    "nodes = list(range(n))\n",
    "visited = [False] * n\n",
    "distances = [0] * n\n",
    "nodes, visited"
   ]
  },
  {
   "cell_type": "code",
   "execution_count": 6,
   "metadata": {},
   "outputs": [],
   "source": [
    "def bfs(s):\n",
    "    global adj_list, visited\n",
    "    q = deque([s])\n",
    "    visited[s] = True\n",
    "    while q:\n",
    "        u = q.popleft()\n",
    "\n",
    "        print(u)\n",
    "        \n",
    "        for v in adj_list[u]:\n",
    "            if not visited[v]:\n",
    "                distances[v] = distances[u] + 1\n",
    "                visited[v] = True\n",
    "                q.append(v)\n",
    "                "
   ]
  },
  {
   "cell_type": "code",
   "execution_count": 7,
   "metadata": {},
   "outputs": [
    {
     "name": "stdout",
     "output_type": "stream",
     "text": [
      "0\n",
      "1\n",
      "3\n",
      "2\n",
      "4\n",
      "5\n"
     ]
    }
   ],
   "source": [
    "bfs(0)"
   ]
  },
  {
   "cell_type": "code",
   "execution_count": 8,
   "metadata": {},
   "outputs": [
    {
     "data": {
      "text/plain": [
       "[0, 1, 2, 1, 2, 3]"
      ]
     },
     "execution_count": 8,
     "metadata": {},
     "output_type": "execute_result"
    }
   ],
   "source": [
    "distances"
   ]
  },
  {
   "cell_type": "code",
   "execution_count": null,
   "metadata": {},
   "outputs": [],
   "source": []
  },
  {
   "cell_type": "markdown",
   "metadata": {},
   "source": [
    "# Shortest Path"
   ]
  },
  {
   "cell_type": "markdown",
   "metadata": {},
   "source": [
    "### Bellman-Ford Algorithm"
   ]
  },
  {
   "cell_type": "code",
   "execution_count": 198,
   "metadata": {},
   "outputs": [
    {
     "name": "stdout",
     "output_type": "stream",
     "text": [
      "[0, 5, 3, 4, 6, inf, inf, inf, inf, inf, inf, inf, inf]\n"
     ]
    }
   ],
   "source": [
    "e_list = [[1, 2, 5], [1, 4, 7], [1, 3, 3], [2, 1, 5], [2, 4, 3], [2, 5, 2],\n",
    "          [3, 1, 3], [3, 4, 1], [4, 3, 1], [4, 1, 7], [4, 5, 2], [5, 4, 2], [5, 2, 2]]\n",
    "\n",
    "distances = [math.inf] * n\n",
    "\n",
    "def shortest(e_list, distance):\n",
    "    distance = [math.inf for _ in range(len(e_list) + 1)]\n",
    "    distance[1] = 0\n",
    "    for e in e_list:\n",
    "        a, b, w = e\n",
    "        distance[b] = min(distance[b], distance[a] + w)\n",
    "    print(distance[1:])\n",
    "\n",
    "\n",
    "shortest(e_list, distances)"
   ]
  },
  {
   "cell_type": "code",
   "execution_count": null,
   "metadata": {},
   "outputs": [],
   "source": []
  },
  {
   "cell_type": "markdown",
   "metadata": {},
   "source": [
    "### Dijkstra's Algorithm\n"
   ]
  },
  {
   "cell_type": "code",
   "execution_count": 203,
   "metadata": {},
   "outputs": [
    {
     "name": "stdout",
     "output_type": "stream",
     "text": [
      "[0, 5, inf, 3, 1]\n"
     ]
    }
   ],
   "source": [
    "def dijkstra():\n",
    "    graph = {1: [(2, 5), (4, 9), (5, 1)], 2: [(1, 5)], 4: [(1, 9), (5, 1)], 5: [(1, 1), (4, 2)]}\n",
    "    \n",
    "    distance = [math.inf for _ in range(6)]\n",
    "    distance[1] = 0\n",
    "    stack = [(0, 1)]\n",
    "    heapq.heapify(stack)\n",
    "    while stack:\n",
    "        w, n = heapq.heappop(stack)\n",
    "        for e in graph[n]:\n",
    "            if distance[n] + e[1] < distance[e[0]]:\n",
    "                distance[e[0]] = distance[n] + e[1]\n",
    "                heapq.heappush(stack, (e[1], e[0]))\n",
    "    print(distance[1:])\n",
    "\n",
    "\n",
    "dijkstra()\n"
   ]
  },
  {
   "cell_type": "code",
   "execution_count": null,
   "metadata": {},
   "outputs": [],
   "source": []
  },
  {
   "cell_type": "code",
   "execution_count": 207,
   "metadata": {},
   "outputs": [
    {
     "data": {
      "text/plain": [
       "([0, 1, 2, 3, 4], [False, False, False, False, False])"
      ]
     },
     "execution_count": 207,
     "metadata": {},
     "output_type": "execute_result"
    }
   ],
   "source": [
    "adj_list = [[(1, 5), (3, 9), (4, 1)],\n",
    "            [(0, 5), (2, 2)],\n",
    "            [(1, 2), (3, 6)],\n",
    "            [(0, 9), (4, 2), (2, 6)],\n",
    "            [(0, 1), (3, 2)]\n",
    "           ]\n",
    "n = 5\n",
    "nodes = list(range(n))\n",
    "processed = [False] * n\n",
    "distances = [float('inf')] * n\n",
    "nodes, processed"
   ]
  },
  {
   "cell_type": "code",
   "execution_count": 208,
   "metadata": {},
   "outputs": [
    {
     "data": {
      "text/plain": [
       "([(0, 0)], [0, inf, inf, inf, inf])"
      ]
     },
     "execution_count": 208,
     "metadata": {},
     "output_type": "execute_result"
    }
   ],
   "source": [
    "distances[0] = 0\n",
    "\n",
    "start = 0\n",
    "h = [(0, start)]\n",
    "h, distances"
   ]
  },
  {
   "cell_type": "code",
   "execution_count": 209,
   "metadata": {},
   "outputs": [],
   "source": [
    "while h:\n",
    "    (dist, u) = heapq.heappop(h)\n",
    "    if processed[u]:\n",
    "        continue\n",
    "        \n",
    "    processed[u] = Truex\n",
    "    for (v, v_dist) in adj_list[u]:\n",
    "        if distances[u] + v_dist < distances[v]:\n",
    "            distances[v] = distances[u] + v_dist\n",
    "            heapq.heappush(h, (distances[v], v))"
   ]
  },
  {
   "cell_type": "code",
   "execution_count": 210,
   "metadata": {},
   "outputs": [
    {
     "data": {
      "text/plain": [
       "[0, 5, 7, 3, 1]"
      ]
     },
     "execution_count": 210,
     "metadata": {},
     "output_type": "execute_result"
    }
   ],
   "source": [
    "distances"
   ]
  },
  {
   "cell_type": "code",
   "execution_count": null,
   "metadata": {},
   "outputs": [],
   "source": []
  },
  {
   "cell_type": "markdown",
   "metadata": {},
   "source": [
    "### Floyd-Warshall Algorithm"
   ]
  },
  {
   "cell_type": "code",
   "execution_count": 169,
   "metadata": {},
   "outputs": [],
   "source": [
    "inf = float('inf')\n",
    "\n",
    "adj_mat = [[0, 5, inf, 9, 1],\n",
    "         [5, 0, 2, inf, inf],\n",
    "         [inf, 2, 0, 7, inf],\n",
    "         [9, inf, 7, 0, 2],\n",
    "         [1, inf, inf, 2, 0]]\n",
    "\n",
    "n = len(adj_mat)"
   ]
  },
  {
   "cell_type": "code",
   "execution_count": 170,
   "metadata": {},
   "outputs": [],
   "source": [
    "dist = adj_mat[:]"
   ]
  },
  {
   "cell_type": "code",
   "execution_count": 171,
   "metadata": {},
   "outputs": [
    {
     "data": {
      "text/plain": [
       "[[0, 5, inf, 9, 1],\n",
       " [5, 0, 2, inf, inf],\n",
       " [inf, 2, 0, 7, inf],\n",
       " [9, inf, 7, 0, 2],\n",
       " [1, inf, inf, 2, 0]]"
      ]
     },
     "execution_count": 171,
     "metadata": {},
     "output_type": "execute_result"
    }
   ],
   "source": [
    "dist"
   ]
  },
  {
   "cell_type": "code",
   "execution_count": 172,
   "metadata": {},
   "outputs": [],
   "source": [
    "for k in range(n):\n",
    "    for i in range(n):\n",
    "        for j in range(n):\n",
    "            dist[i][j] = min(dist[i][j], dist[i][k]+dist[k][j])\n"
   ]
  },
  {
   "cell_type": "code",
   "execution_count": 174,
   "metadata": {},
   "outputs": [
    {
     "data": {
      "text/plain": [
       "[[0, 5, 7, 3, 1],\n",
       " [5, 0, 2, 8, 6],\n",
       " [7, 2, 0, 7, 8],\n",
       " [3, 8, 7, 0, 2],\n",
       " [1, 6, 8, 2, 0]]"
      ]
     },
     "execution_count": 174,
     "metadata": {},
     "output_type": "execute_result"
    }
   ],
   "source": [
    "dist"
   ]
  },
  {
   "cell_type": "code",
   "execution_count": null,
   "metadata": {},
   "outputs": [],
   "source": []
  },
  {
   "cell_type": "markdown",
   "metadata": {},
   "source": [
    "# Topological Sort"
   ]
  },
  {
   "cell_type": "code",
   "execution_count": 175,
   "metadata": {},
   "outputs": [],
   "source": [
    "from collections import defaultdict"
   ]
  },
  {
   "cell_type": "code",
   "execution_count": 185,
   "metadata": {},
   "outputs": [],
   "source": [
    "class Graph:\n",
    "    \n",
    "    def __init__(self, vertices):\n",
    "        self._graph = defaultdict(list)\n",
    "        self.V = vertices\n",
    "        \n",
    "    def add_edge(self, u, v):\n",
    "        self._graph[u].append(v)\n",
    "        \n",
    "    def _topological_sort(self, idx, visited, stack):\n",
    "        visited[idx] = True\n",
    "        \n",
    "        for v in self._graph[idx]:\n",
    "            if not visited[v]:\n",
    "                self._topological_sort(v, visited, stack)\n",
    "            \n",
    "        stack.appendleft(idx)\n",
    "        \n",
    "    def topological_sort(self):\n",
    "        visited = [False]*self.V\n",
    "        stack = deque()\n",
    "        \n",
    "        for i in range(self.V):\n",
    "            if not visited[i]:\n",
    "                self._topological_sort(i, visited, stack)\n",
    "    \n",
    "        return stack"
   ]
  },
  {
   "cell_type": "code",
   "execution_count": 186,
   "metadata": {},
   "outputs": [],
   "source": [
    "g = Graph(6) \n",
    "g.add_edge(5, 2) \n",
    "g.add_edge(5, 0)\n",
    "g.add_edge(4, 0)\n",
    "g.add_edge(4, 1)\n",
    "g.add_edge(2, 3)\n",
    "g.add_edge(3, 1)"
   ]
  },
  {
   "cell_type": "code",
   "execution_count": 187,
   "metadata": {},
   "outputs": [
    {
     "data": {
      "text/plain": [
       "deque([5, 4, 2, 3, 1, 0])"
      ]
     },
     "execution_count": 187,
     "metadata": {},
     "output_type": "execute_result"
    }
   ],
   "source": [
    "g.topological_sort()"
   ]
  },
  {
   "cell_type": "code",
   "execution_count": 189,
   "metadata": {},
   "outputs": [
    {
     "data": {
      "text/plain": [
       "inf"
      ]
     },
     "execution_count": 189,
     "metadata": {},
     "output_type": "execute_result"
    }
   ],
   "source": [
    "math.inf"
   ]
  },
  {
   "cell_type": "code",
   "execution_count": null,
   "metadata": {},
   "outputs": [],
   "source": []
  },
  {
   "cell_type": "markdown",
   "metadata": {},
   "source": [
    "# Cycle Detection"
   ]
  },
  {
   "cell_type": "code",
   "execution_count": 211,
   "metadata": {},
   "outputs": [],
   "source": [
    "class Graph:\n",
    "    \n",
    "    def __init__(self, vertices):\n",
    "        self._graph = defaultdict(list)\n",
    "        self.V = vertices\n",
    "        \n",
    "    def add_edge(self, u, v):\n",
    "        self._graph[u].append(v)\n",
    "        \n",
    "    def detect_cycle(self):\n",
    "        \n",
    "        visited = [False] * self.V\n",
    "        \n",
    "        for i in range(self.V):\n",
    "            if not visited[i]:\n",
    "                \n",
    "        "
   ]
  },
  {
   "cell_type": "code",
   "execution_count": null,
   "metadata": {},
   "outputs": [],
   "source": [
    "g = Graph(4) \n",
    "g.add_edge(0, 1) \n",
    "g.add_edge(0, 2) \n",
    "g.add_edge(1, 2) \n",
    "g.add_edge(2, 0) \n",
    "g.add_edge(2, 3) \n",
    "g.add_edge(3, 3)"
   ]
  },
  {
   "cell_type": "code",
   "execution_count": null,
   "metadata": {},
   "outputs": [],
   "source": []
  }
 ],
 "metadata": {
  "kernelspec": {
   "display_name": "Python [default]",
   "language": "python",
   "name": "python3"
  },
  "language_info": {
   "codemirror_mode": {
    "name": "ipython",
    "version": 3
   },
   "file_extension": ".py",
   "mimetype": "text/x-python",
   "name": "python",
   "nbconvert_exporter": "python",
   "pygments_lexer": "ipython3",
   "version": "3.6.5"
  }
 },
 "nbformat": 4,
 "nbformat_minor": 2
}
