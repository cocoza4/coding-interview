{
 "cells": [
  {
   "cell_type": "code",
   "execution_count": null,
   "metadata": {},
   "outputs": [],
   "source": []
  },
  {
   "cell_type": "markdown",
   "metadata": {},
   "source": [
    "# Questions"
   ]
  },
  {
   "cell_type": "markdown",
   "metadata": {},
   "source": [
    "# K-th occurence of item in BST"
   ]
  },
  {
   "cell_type": "code",
   "execution_count": 312,
   "metadata": {},
   "outputs": [],
   "source": [
    "def search_last(arr, x, start, end):\n",
    "    result = -1\n",
    "    while start <= end:\n",
    "        mid = (start + end) // 2\n",
    "        if arr[mid] == x:\n",
    "            result = mid\n",
    "#             end = mid - 1\n",
    "            start = mid + 1\n",
    "        elif x < arr[mid]:\n",
    "            end = mid - 1\n",
    "        else:\n",
    "            start = mid + 1\n",
    "            \n",
    "    return result"
   ]
  },
  {
   "cell_type": "code",
   "execution_count": 313,
   "metadata": {},
   "outputs": [
    {
     "data": {
      "text/plain": [
       "(0, 4)"
      ]
     },
     "execution_count": 313,
     "metadata": {},
     "output_type": "execute_result"
    }
   ],
   "source": [
    "arr = [2, 4, 10, 10, 10, 18, 20]\n",
    "\n",
    "search_last(arr, 2, 0, len(arr)-1), search_last(arr, 10, 0, len(arr)-1)"
   ]
  },
  {
   "cell_type": "code",
   "execution_count": null,
   "metadata": {},
   "outputs": [],
   "source": []
  },
  {
   "cell_type": "markdown",
   "metadata": {},
   "source": [
    "# Find count of an element in a sorted list"
   ]
  },
  {
   "cell_type": "code",
   "execution_count": 314,
   "metadata": {},
   "outputs": [],
   "source": [
    "def search(arr, x, start, end, last=True):\n",
    "    result = -1\n",
    "    while start <= end:\n",
    "        mid = (start + end) // 2\n",
    "        if arr[mid] == x:\n",
    "            result = mid\n",
    "            if last:\n",
    "                start = mid + 1\n",
    "            else:\n",
    "                end = mid - 1\n",
    "        elif x < arr[mid]:\n",
    "            end = mid - 1\n",
    "        else:\n",
    "            start = mid + 1\n",
    "            \n",
    "    return result\n",
    "\n",
    "def count_occurrences(arr, data):\n",
    "    first = search(arr, data, 0, len(arr)-1, last=False)\n",
    "    if first == -1:\n",
    "        return -1\n",
    "    else:\n",
    "        last = search(arr, data, 0, len(arr)-1, last=True)\n",
    "    return last - first + 1"
   ]
  },
  {
   "cell_type": "code",
   "execution_count": 315,
   "metadata": {},
   "outputs": [
    {
     "data": {
      "text/plain": [
       "(5, 2, 2, 1)"
      ]
     },
     "execution_count": 315,
     "metadata": {},
     "output_type": "execute_result"
    }
   ],
   "source": [
    "arr = [1, 1, 3, 3, 5, 5, 5, 5, 5, 9, 9, 11]\n",
    "\n",
    "count_occurrences(arr, 5), count_occurrences(arr, 1), count_occurrences(arr, 3), count_occurrences(arr, 11)"
   ]
  },
  {
   "cell_type": "code",
   "execution_count": 316,
   "metadata": {},
   "outputs": [
    {
     "data": {
      "text/plain": [
       "-1"
      ]
     },
     "execution_count": 316,
     "metadata": {},
     "output_type": "execute_result"
    }
   ],
   "source": [
    "count_occurrences(arr, 0)"
   ]
  },
  {
   "cell_type": "code",
   "execution_count": null,
   "metadata": {},
   "outputs": [],
   "source": []
  },
  {
   "cell_type": "markdown",
   "metadata": {},
   "source": [
    "# Sorted array to BST"
   ]
  },
  {
   "cell_type": "code",
   "execution_count": 334,
   "metadata": {},
   "outputs": [],
   "source": [
    "class Node: \n",
    "    def __init__(self, data):\n",
    "        self.data = data\n",
    "        self.left = None\n",
    "        self.right = None\n",
    "        \n",
    "def inorder(node):\n",
    "    if node:\n",
    "        inorder(node.left)\n",
    "        print(node.data, end=' ')\n",
    "        inorder(node.right)\n",
    "        \n",
    "def array_to_bst(array, start, end):\n",
    "    \n",
    "    if start <= end:\n",
    "        mid = (start + end) // 2\n",
    "        node = Node(array[mid])\n",
    "        node.left = array_to_bst(array, start, mid - 1)\n",
    "        node.right = array_to_bst(array, mid + 1, end)\n",
    "        return node"
   ]
  },
  {
   "cell_type": "code",
   "execution_count": 335,
   "metadata": {},
   "outputs": [
    {
     "data": {
      "text/plain": [
       "<__main__.Node at 0x7effb9c2f898>"
      ]
     },
     "execution_count": 335,
     "metadata": {},
     "output_type": "execute_result"
    }
   ],
   "source": [
    "arr = [1, 2, 3, 4, 5]\n",
    "\n",
    "head = array_to_bst(arr, 0, len(arr) - 1)\n",
    "head"
   ]
  },
  {
   "cell_type": "code",
   "execution_count": 336,
   "metadata": {},
   "outputs": [
    {
     "name": "stdout",
     "output_type": "stream",
     "text": [
      "1 2 3 4 5 "
     ]
    }
   ],
   "source": [
    "inorder(head)"
   ]
  },
  {
   "cell_type": "code",
   "execution_count": 339,
   "metadata": {},
   "outputs": [
    {
     "name": "stdout",
     "output_type": "stream",
     "text": [
      "1 2 2 3 4 5 6 "
     ]
    }
   ],
   "source": [
    "arr = sorted([6, 2, 3, 4, 5, 2, 1])\n",
    "\n",
    "head = array_to_bst(arr, 0, len(arr) - 1)\n",
    "inorder(head)"
   ]
  },
  {
   "cell_type": "code",
   "execution_count": null,
   "metadata": {},
   "outputs": [],
   "source": []
  },
  {
   "cell_type": "markdown",
   "metadata": {},
   "source": [
    "# Merge two sorted linked lists into one"
   ]
  },
  {
   "cell_type": "code",
   "execution_count": 360,
   "metadata": {},
   "outputs": [],
   "source": [
    "def traverse(head):\n",
    "    current = head\n",
    "    while current:\n",
    "        print(current.data, end=' ')\n",
    "        current = current.next\n",
    "        \n",
    "class Node:\n",
    "    def __init__(self, data, next_):\n",
    "        self.data = data\n",
    "        self.next = next_\n"
   ]
  },
  {
   "cell_type": "code",
   "execution_count": 375,
   "metadata": {},
   "outputs": [],
   "source": [
    "def merge(first, second):\n",
    "    \n",
    "    a = first\n",
    "    b = second\n",
    "    head = tail = None\n",
    "    \n",
    "    while True:\n",
    "        \n",
    "        if a is None:\n",
    "            tail.next = b\n",
    "            break\n",
    "        if b is None:\n",
    "            tail.next = a\n",
    "            break\n",
    "        \n",
    "        if a.data <= b.data:\n",
    "            min_node = a\n",
    "            a = a.next\n",
    "        else:\n",
    "            min_node = b\n",
    "            b = b.next\n",
    "            \n",
    "        if tail:\n",
    "            tail.next = min_node\n",
    "        else:\n",
    "            head = min_node\n",
    "            \n",
    "        tail = min_node\n",
    "    \n",
    "    return head\n",
    "\n",
    "def merge_recursion(a, b):\n",
    "    \n",
    "    if a is None: return b\n",
    "    if b is None: return a\n",
    "    \n",
    "    if a.data <= b.data:\n",
    "        a.next = merge_recursion(a.next, b)\n",
    "        return a\n",
    "    else:\n",
    "        b.next = merge_recursion(a, b.next)\n",
    "        return b\n",
    "        "
   ]
  },
  {
   "cell_type": "code",
   "execution_count": 376,
   "metadata": {},
   "outputs": [],
   "source": [
    "a = b = None\n",
    "\n",
    "for i in reversed(range(1, 8, 2)):\n",
    "    a = Node(i, a)\n",
    "    \n",
    "for i in reversed(range(2, 10, 2)):\n",
    "    b = Node(i, b)"
   ]
  },
  {
   "cell_type": "code",
   "execution_count": 377,
   "metadata": {},
   "outputs": [
    {
     "name": "stdout",
     "output_type": "stream",
     "text": [
      "1 3 5 7 "
     ]
    }
   ],
   "source": [
    "traverse(a)"
   ]
  },
  {
   "cell_type": "code",
   "execution_count": 378,
   "metadata": {},
   "outputs": [
    {
     "name": "stdout",
     "output_type": "stream",
     "text": [
      "2 4 6 8 "
     ]
    }
   ],
   "source": [
    "traverse(b)"
   ]
  },
  {
   "cell_type": "code",
   "execution_count": 370,
   "metadata": {},
   "outputs": [
    {
     "name": "stdout",
     "output_type": "stream",
     "text": [
      "1 2 3 4 5 6 7 8 "
     ]
    }
   ],
   "source": [
    "root = merge(a, b)\n",
    "traverse(root)"
   ]
  },
  {
   "cell_type": "code",
   "execution_count": 379,
   "metadata": {},
   "outputs": [
    {
     "name": "stdout",
     "output_type": "stream",
     "text": [
      "1 2 3 4 5 6 7 8 "
     ]
    }
   ],
   "source": [
    "root = merge_recursion(a, b)\n",
    "traverse(root)"
   ]
  },
  {
   "cell_type": "code",
   "execution_count": null,
   "metadata": {},
   "outputs": [],
   "source": []
  },
  {
   "cell_type": "code",
   "execution_count": null,
   "metadata": {},
   "outputs": [],
   "source": []
  },
  {
   "cell_type": "code",
   "execution_count": null,
   "metadata": {},
   "outputs": [],
   "source": []
  },
  {
   "cell_type": "markdown",
   "metadata": {},
   "source": [
    "# List"
   ]
  },
  {
   "cell_type": "code",
   "execution_count": 104,
   "metadata": {},
   "outputs": [],
   "source": [
    "class Node:\n",
    "    \n",
    "    def __init__(self, data):\n",
    "        self.data = data\n",
    "        self.next = None\n",
    "        \n",
    "        \n",
    "class LinkedList:\n",
    "    \n",
    "    def __init__(self):\n",
    "        self.head = None\n",
    "        \n",
    "    def insert(self, x):\n",
    "        node = Node(x)\n",
    "        node.next = self.head\n",
    "        self.head = node\n",
    "        \n",
    "    def remove(self, x):\n",
    "        \n",
    "        current = self.head\n",
    "        if current:\n",
    "            if current.data == x:\n",
    "                self.head = current.next\n",
    "            else:\n",
    "                while current.next:\n",
    "                    if current.next.data == x:\n",
    "                        tmp = current.next\n",
    "                        current.next = tmp.next\n",
    "                        break\n",
    "                    current = current.next\n",
    "                \n",
    "    def traverse(self):\n",
    "        current = self.head\n",
    "        while current:\n",
    "            print(current.data, end=' ')\n",
    "            current = current.next\n",
    "        print()\n",
    "        \n",
    "    def reverse(self):\n",
    "        current = self.head\n",
    "        prev = None\n",
    "        while current:\n",
    "            next_ = current.next\n",
    "            current.next = prev\n",
    "            prev = current\n",
    "            current = next_\n",
    "        self.head = prev\n",
    "        \n",
    "    def reverse_recursion(self):\n",
    "        \n",
    "        def _reverse(node):\n",
    "            if node.next:\n",
    "                _reverse(node.next)\n",
    "                q = node.next\n",
    "                q.next = node\n",
    "                node.next = None\n",
    "            else:\n",
    "                self.head = node\n",
    "                \n",
    "        _reverse(self.head)\n",
    "            \n",
    "    \n",
    "    def traverse_recursion(self):\n",
    "        def _traverse(node):\n",
    "            if node:\n",
    "#                 print(node.data, end=' ')\n",
    "                _traverse(node.next)\n",
    "                print(node.data, end=' ')\n",
    "                \n",
    "        _traverse(self.head)"
   ]
  },
  {
   "cell_type": "code",
   "execution_count": 105,
   "metadata": {},
   "outputs": [
    {
     "name": "stdout",
     "output_type": "stream",
     "text": [
      "\n"
     ]
    }
   ],
   "source": [
    "ll = LinkedList()\n",
    "ll.remove(5)\n",
    "ll.traverse()"
   ]
  },
  {
   "cell_type": "code",
   "execution_count": 106,
   "metadata": {},
   "outputs": [],
   "source": [
    "ll.insert(1)\n",
    "ll.insert(2)\n",
    "ll.insert(3)"
   ]
  },
  {
   "cell_type": "code",
   "execution_count": 111,
   "metadata": {},
   "outputs": [
    {
     "name": "stdout",
     "output_type": "stream",
     "text": [
      "3 2 1 \n"
     ]
    }
   ],
   "source": [
    "ll.traverse()"
   ]
  },
  {
   "cell_type": "code",
   "execution_count": 112,
   "metadata": {},
   "outputs": [],
   "source": [
    "ll.reverse_recursion()"
   ]
  },
  {
   "cell_type": "code",
   "execution_count": 110,
   "metadata": {},
   "outputs": [],
   "source": [
    "ll.reverse()"
   ]
  },
  {
   "cell_type": "code",
   "execution_count": 113,
   "metadata": {},
   "outputs": [
    {
     "name": "stdout",
     "output_type": "stream",
     "text": [
      "1 2 3 \n"
     ]
    }
   ],
   "source": [
    "ll.traverse()"
   ]
  },
  {
   "cell_type": "code",
   "execution_count": null,
   "metadata": {},
   "outputs": [],
   "source": []
  },
  {
   "cell_type": "code",
   "execution_count": 50,
   "metadata": {},
   "outputs": [
    {
     "name": "stdout",
     "output_type": "stream",
     "text": [
      "1 2 3 "
     ]
    }
   ],
   "source": [
    "ll.traverse_recursion()"
   ]
  },
  {
   "cell_type": "code",
   "execution_count": null,
   "metadata": {},
   "outputs": [],
   "source": []
  },
  {
   "cell_type": "code",
   "execution_count": 23,
   "metadata": {},
   "outputs": [
    {
     "name": "stdout",
     "output_type": "stream",
     "text": [
      "3 2 1 \n"
     ]
    }
   ],
   "source": [
    "ll.traverse()"
   ]
  },
  {
   "cell_type": "code",
   "execution_count": 24,
   "metadata": {},
   "outputs": [
    {
     "name": "stdout",
     "output_type": "stream",
     "text": [
      "3 1 \n"
     ]
    }
   ],
   "source": [
    "ll.remove(2)\n",
    "ll.traverse()"
   ]
  },
  {
   "cell_type": "code",
   "execution_count": 25,
   "metadata": {},
   "outputs": [
    {
     "name": "stdout",
     "output_type": "stream",
     "text": [
      "3 \n"
     ]
    }
   ],
   "source": [
    "ll.remove(1)\n",
    "ll.traverse()"
   ]
  },
  {
   "cell_type": "code",
   "execution_count": 26,
   "metadata": {},
   "outputs": [
    {
     "name": "stdout",
     "output_type": "stream",
     "text": [
      "3 \n"
     ]
    }
   ],
   "source": [
    "ll.remove(2)\n",
    "ll.traverse()"
   ]
  },
  {
   "cell_type": "code",
   "execution_count": 30,
   "metadata": {},
   "outputs": [],
   "source": [
    "ll.remove(3)"
   ]
  },
  {
   "cell_type": "code",
   "execution_count": 31,
   "metadata": {},
   "outputs": [
    {
     "name": "stdout",
     "output_type": "stream",
     "text": [
      "\n"
     ]
    }
   ],
   "source": [
    "ll.traverse()"
   ]
  },
  {
   "cell_type": "code",
   "execution_count": null,
   "metadata": {},
   "outputs": [],
   "source": []
  },
  {
   "cell_type": "markdown",
   "metadata": {},
   "source": [
    "# Tree"
   ]
  },
  {
   "cell_type": "code",
   "execution_count": 272,
   "metadata": {},
   "outputs": [],
   "source": [
    "class Node:\n",
    "    \n",
    "    def __init__(self, data):\n",
    "        self.data = data\n",
    "        self.left = None\n",
    "        self.right = None\n",
    "        \n",
    "    def __str__(self):\n",
    "        return str(self.data)\n",
    "        \n",
    "    def __repr__(self):\n",
    "        return str(self.data)\n",
    "    \n",
    "class BST:\n",
    "    \n",
    "    def __init__(self):\n",
    "        self.root = None\n",
    "        \n",
    "    def _insert(self, root, x):\n",
    "        if root is None:\n",
    "            return Node(x)\n",
    "        \n",
    "        if x <= root.data:\n",
    "            root.left = self._insert(root.left, x)\n",
    "        else:\n",
    "            root.right = self._insert(root.right, x)\n",
    "            \n",
    "        return root\n",
    "    \n",
    "    def search(self, x):\n",
    "        def _search(root, x):\n",
    "            if root is None: \n",
    "                return False\n",
    "            if root.data == x: \n",
    "                return True\n",
    "            if x <= root.data: \n",
    "                return _search(root.left, x)\n",
    "            else:\n",
    "                return _search(root.right, x)\n",
    "            \n",
    "        return _search(self.root, x)\n",
    "    \n",
    "    def find_min(self):\n",
    "        def _min(root):\n",
    "            if root.left:\n",
    "                return _min(root.left)\n",
    "            else:\n",
    "                return root.data\n",
    "        return _min(self.root)\n",
    "    \n",
    "    def height(self):\n",
    "        def _height(root):\n",
    "            if root is None:\n",
    "                return -1\n",
    "            \n",
    "            return max(_height(root.left), _height(root.right)) + 1\n",
    "        \n",
    "        return _height(self.root)\n",
    "    \n",
    "    def is_bst(self):\n",
    "        \n",
    "        def _is_bst(root, min_val, max_val):\n",
    "            if root is None: return True\n",
    "            if min_val <= root.data <= max_val \\\n",
    "                and _is_bst(root.left, min_val, root.data) \\\n",
    "                and _is_bst(root.right, root.data, max_val):\n",
    "                return True\n",
    "            else:\n",
    "                return False\n",
    "        \n",
    "        return _is_bst(self.root, float('-inf'), float('inf'))\n",
    "            \n",
    "        \n",
    "    def insert(self, x):\n",
    "        if self.root:\n",
    "            self._insert(self.root, x)\n",
    "        else:\n",
    "            self.root = Node(x)\n",
    "            \n",
    "    def inorder(self):\n",
    "        def _traverse(root):\n",
    "            if root:\n",
    "                _traverse(root.left)\n",
    "                print(root.data, end=' ')\n",
    "                _traverse(root.right)\n",
    "            \n",
    "        _traverse(self.root)\n",
    "            \n",
    "        "
   ]
  },
  {
   "cell_type": "code",
   "execution_count": 285,
   "metadata": {},
   "outputs": [],
   "source": [
    "tree = BST()\n",
    "tree.insert(5)\n",
    "tree.insert(10)\n",
    "tree.insert(10)\n",
    "tree.insert(8)\n",
    "tree.insert(15)\n",
    "tree.insert(13)\n",
    "tree.insert(4)\n",
    "tree.insert(3)\n",
    "tree.insert(1)"
   ]
  },
  {
   "cell_type": "code",
   "execution_count": 286,
   "metadata": {},
   "outputs": [
    {
     "name": "stdout",
     "output_type": "stream",
     "text": [
      "1 3 4 5 8 10 10 13 15 "
     ]
    }
   ],
   "source": [
    "tree.inorder()"
   ]
  },
  {
   "cell_type": "code",
   "execution_count": 287,
   "metadata": {},
   "outputs": [
    {
     "data": {
      "text/plain": [
       "(True, True, True, False)"
      ]
     },
     "execution_count": 287,
     "metadata": {},
     "output_type": "execute_result"
    }
   ],
   "source": [
    "tree.search(1), tree.search(15), tree.search(3), tree.search(6)"
   ]
  },
  {
   "cell_type": "code",
   "execution_count": 288,
   "metadata": {},
   "outputs": [
    {
     "data": {
      "text/plain": [
       "1"
      ]
     },
     "execution_count": 288,
     "metadata": {},
     "output_type": "execute_result"
    }
   ],
   "source": [
    "tree.find_min()"
   ]
  },
  {
   "cell_type": "code",
   "execution_count": 289,
   "metadata": {},
   "outputs": [
    {
     "data": {
      "text/plain": [
       "3"
      ]
     },
     "execution_count": 289,
     "metadata": {},
     "output_type": "execute_result"
    }
   ],
   "source": [
    "tree.height()"
   ]
  },
  {
   "cell_type": "code",
   "execution_count": 290,
   "metadata": {},
   "outputs": [
    {
     "data": {
      "text/plain": [
       "True"
      ]
     },
     "execution_count": 290,
     "metadata": {},
     "output_type": "execute_result"
    }
   ],
   "source": [
    "tree.is_bst()"
   ]
  },
  {
   "cell_type": "code",
   "execution_count": 302,
   "metadata": {},
   "outputs": [
    {
     "name": "stdout",
     "output_type": "stream",
     "text": [
      "0 6\n",
      "1 5\n",
      "2 4\n"
     ]
    }
   ],
   "source": [
    "x = 'string'\n",
    "x = list(x)\n",
    "\n",
    "length = len(x)\n",
    "mid = length // 2\n",
    "i = 0\n",
    "while i < mid:\n",
    "    print(i, length-i)\n",
    "    x[i], x[length-i-1] = x[length-i-1], x[i]\n",
    "    i += 1"
   ]
  },
  {
   "cell_type": "code",
   "execution_count": 303,
   "metadata": {},
   "outputs": [
    {
     "data": {
      "text/plain": [
       "['g', 'n', 'i', 'r', 't', 's']"
      ]
     },
     "execution_count": 303,
     "metadata": {},
     "output_type": "execute_result"
    }
   ],
   "source": [
    "x"
   ]
  },
  {
   "cell_type": "code",
   "execution_count": null,
   "metadata": {},
   "outputs": [],
   "source": []
  },
  {
   "cell_type": "markdown",
   "metadata": {},
   "source": [
    "# Min Heap"
   ]
  },
  {
   "cell_type": "code",
   "execution_count": null,
   "metadata": {},
   "outputs": [],
   "source": []
  },
  {
   "cell_type": "code",
   "execution_count": null,
   "metadata": {},
   "outputs": [],
   "source": []
  },
  {
   "cell_type": "code",
   "execution_count": null,
   "metadata": {},
   "outputs": [],
   "source": []
  },
  {
   "cell_type": "code",
   "execution_count": null,
   "metadata": {},
   "outputs": [],
   "source": []
  },
  {
   "cell_type": "code",
   "execution_count": null,
   "metadata": {},
   "outputs": [],
   "source": []
  }
 ],
 "metadata": {
  "kernelspec": {
   "display_name": "Python [default]",
   "language": "python",
   "name": "python3"
  },
  "language_info": {
   "codemirror_mode": {
    "name": "ipython",
    "version": 3
   },
   "file_extension": ".py",
   "mimetype": "text/x-python",
   "name": "python",
   "nbconvert_exporter": "python",
   "pygments_lexer": "ipython3",
   "version": "3.6.5"
  }
 },
 "nbformat": 4,
 "nbformat_minor": 2
}
