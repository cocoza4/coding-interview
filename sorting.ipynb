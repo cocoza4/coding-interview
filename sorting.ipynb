{
 "cells": [
  {
   "cell_type": "code",
   "execution_count": 58,
   "metadata": {},
   "outputs": [],
   "source": [
    "import random"
   ]
  },
  {
   "cell_type": "code",
   "execution_count": null,
   "metadata": {},
   "outputs": [],
   "source": []
  },
  {
   "cell_type": "markdown",
   "metadata": {},
   "source": [
    "# Selection Sort"
   ]
  },
  {
   "cell_type": "code",
   "execution_count": 17,
   "metadata": {},
   "outputs": [],
   "source": [
    "def selection_sort(array):\n",
    "    for i, _ in enumerate(array):\n",
    "        j = i + 1\n",
    "        min_i = i\n",
    "        while j < len(array) - 1:\n",
    "            if array[min_i] > array[j]:\n",
    "                min_i = j\n",
    "            j += 1\n",
    "        array[i], array[min_i] = array[min_i], array[i]"
   ]
  },
  {
   "cell_type": "code",
   "execution_count": 18,
   "metadata": {},
   "outputs": [
    {
     "data": {
      "text/plain": [
       "[1, 2, 3, 4, 6, 6]"
      ]
     },
     "execution_count": 18,
     "metadata": {},
     "output_type": "execute_result"
    }
   ],
   "source": [
    "array = [6, 2, 4, 1, 3, 6]\n",
    "selection_sort(array)\n",
    "array"
   ]
  },
  {
   "cell_type": "code",
   "execution_count": 19,
   "metadata": {},
   "outputs": [
    {
     "data": {
      "text/plain": [
       "[1, 2, 3, 4]"
      ]
     },
     "execution_count": 19,
     "metadata": {},
     "output_type": "execute_result"
    }
   ],
   "source": [
    "array = [1, 2, 3, 4]\n",
    "selection_sort(array)\n",
    "array"
   ]
  },
  {
   "cell_type": "code",
   "execution_count": null,
   "metadata": {},
   "outputs": [],
   "source": []
  },
  {
   "cell_type": "markdown",
   "metadata": {},
   "source": [
    "# Bubble Sort"
   ]
  },
  {
   "cell_type": "code",
   "execution_count": 29,
   "metadata": {},
   "outputs": [],
   "source": [
    "def bubble_sort(array):\n",
    "    length = len(array)\n",
    "    i = length - 1\n",
    "    while i >= 1:\n",
    "        j = 0\n",
    "        while j < i:\n",
    "            if array[j] > array[j+1]:\n",
    "                array[j], array[j+1] = array[j+1], array[j]\n",
    "            j += 1\n",
    "        i -= 1"
   ]
  },
  {
   "cell_type": "code",
   "execution_count": 30,
   "metadata": {},
   "outputs": [
    {
     "data": {
      "text/plain": [
       "[1, 2, 3, 4, 6, 6]"
      ]
     },
     "execution_count": 30,
     "metadata": {},
     "output_type": "execute_result"
    }
   ],
   "source": [
    "array = [6, 2, 4, 1, 3, 6]\n",
    "bubble_sort(array)\n",
    "array"
   ]
  },
  {
   "cell_type": "code",
   "execution_count": 31,
   "metadata": {},
   "outputs": [
    {
     "data": {
      "text/plain": [
       "[1, 2, 3, 4]"
      ]
     },
     "execution_count": 31,
     "metadata": {},
     "output_type": "execute_result"
    }
   ],
   "source": [
    "array = array = [1, 2, 3, 4]\n",
    "bubble_sort(array)\n",
    "array"
   ]
  },
  {
   "cell_type": "code",
   "execution_count": null,
   "metadata": {},
   "outputs": [],
   "source": []
  },
  {
   "cell_type": "markdown",
   "metadata": {},
   "source": [
    "# Merge Sort"
   ]
  },
  {
   "cell_type": "code",
   "execution_count": 45,
   "metadata": {},
   "outputs": [],
   "source": [
    "def _merge(left, right, array):\n",
    "    n_left = len(left)\n",
    "    n_right = len(right)\n",
    "    i = j = k = 0\n",
    "    \n",
    "    while i < n_left and j < n_right:\n",
    "        if left[i] <= right[j]:\n",
    "            array[k] = left[i]\n",
    "            i += 1\n",
    "        else:\n",
    "            array[k] = right[j]\n",
    "            j += 1\n",
    "        k += 1\n",
    "        \n",
    "    while i < n_left:\n",
    "        array[k] = left[i]\n",
    "        i += 1\n",
    "        k += 1\n",
    "        \n",
    "    while j < n_right:\n",
    "        array[k] = right[j]\n",
    "        j += 1\n",
    "        k += 1\n",
    "\n",
    "def merge_sort(array):\n",
    "    n = len(array)\n",
    "    if n < 2: return\n",
    "    \n",
    "    mid = n // 2\n",
    "    left = array[:mid]\n",
    "    right = array[mid:]\n",
    "    merge_sort(left)\n",
    "    merge_sort(right)\n",
    "    _merge(left, right, array)"
   ]
  },
  {
   "cell_type": "code",
   "execution_count": 46,
   "metadata": {},
   "outputs": [
    {
     "data": {
      "text/plain": [
       "[1, 1, 3, 4, 5, 6, 7, 8]"
      ]
     },
     "execution_count": 46,
     "metadata": {},
     "output_type": "execute_result"
    }
   ],
   "source": [
    "array = [1, 4, 1, 6, 8, 5, 3, 7]\n",
    "merge_sort(array)\n",
    "array"
   ]
  },
  {
   "cell_type": "code",
   "execution_count": 47,
   "metadata": {},
   "outputs": [
    {
     "data": {
      "text/plain": [
       "[1, 2, 3, 4, 6, 6]"
      ]
     },
     "execution_count": 47,
     "metadata": {},
     "output_type": "execute_result"
    }
   ],
   "source": [
    "array = [6, 2, 4, 1, 3, 6]\n",
    "merge_sort(array)\n",
    "array"
   ]
  },
  {
   "cell_type": "code",
   "execution_count": 48,
   "metadata": {},
   "outputs": [
    {
     "data": {
      "text/plain": [
       "[1, 2, 3, 4]"
      ]
     },
     "execution_count": 48,
     "metadata": {},
     "output_type": "execute_result"
    }
   ],
   "source": [
    "array = array = [1, 2, 3, 4]\n",
    "merge_sort(array)\n",
    "array"
   ]
  },
  {
   "cell_type": "code",
   "execution_count": null,
   "metadata": {},
   "outputs": [],
   "source": []
  },
  {
   "cell_type": "markdown",
   "metadata": {},
   "source": [
    "# Heap Sort"
   ]
  },
  {
   "cell_type": "code",
   "execution_count": 1,
   "metadata": {},
   "outputs": [],
   "source": [
    "def parent(i):\n",
    "    return (i - 1) // 2\n",
    "\n",
    "def left_child(i):\n",
    "    return 2 * i + 1\n",
    "\n",
    "def right_child(i):\n",
    "    return 2 * i + 2\n",
    "\n",
    "def heapify(array, n, i):\n",
    "    left = left_child(i)\n",
    "    right = right_child(i)\n",
    "    larger = i\n",
    "    \n",
    "    if left < n and array[larger] < array[left]:\n",
    "        larger = left\n",
    "    if right < n and array[larger] < array[right]:\n",
    "        larger = right\n",
    "\n",
    "    if larger != i:\n",
    "        array[i], array[larger] = array[larger], array[i]\n",
    "        heapify(array, n, larger)\n",
    "            \n",
    "def heap_sort(array):\n",
    "    n = len(array)\n",
    "    \n",
    "    for i in range(n // 2, -1, -1):\n",
    "        heapify(array, n, i)\n",
    "        \n",
    "    for i in range(n-1, 0, -1): \n",
    "        array[i], array[0] = array[0], array[i] # swap \n",
    "        heapify(array, i, 0)\n",
    "        "
   ]
  },
  {
   "cell_type": "code",
   "execution_count": 2,
   "metadata": {},
   "outputs": [
    {
     "data": {
      "text/plain": [
       "[1, 2, 3, 4, 6, 6]"
      ]
     },
     "execution_count": 2,
     "metadata": {},
     "output_type": "execute_result"
    }
   ],
   "source": [
    "array = [6, 2, 4, 1, 3, 6]\n",
    "heap_sort(array)\n",
    "array"
   ]
  },
  {
   "cell_type": "code",
   "execution_count": null,
   "metadata": {},
   "outputs": [],
   "source": []
  },
  {
   "cell_type": "markdown",
   "metadata": {},
   "source": [
    "# Quick Sort"
   ]
  },
  {
   "cell_type": "code",
   "execution_count": 82,
   "metadata": {},
   "outputs": [],
   "source": [
    "def partition(array, start, end):\n",
    "    pivot = array[end-1]\n",
    "    i = start\n",
    "    p_idx = start\n",
    "    while i < end-1:\n",
    "        if array[i] < pivot:\n",
    "            array[i], array[p_idx] = array[p_idx], array[i]\n",
    "            p_idx += 1\n",
    "        i += 1\n",
    "    array[p_idx], array[end-1] = array[end-1], array[p_idx]\n",
    "    return p_idx\n",
    "\n",
    "def randomized_partition(array, start, end):\n",
    "    random_idx = random.randint(0, len(array)-1)\n",
    "    array[end-1], array[random_idx] = array[end-1], array[random_idx]\n",
    "    return partition(array, start, end)\n",
    "        \n",
    "def _quick_sort(array, start, end):\n",
    "    if start < end:\n",
    "        p_idx = randomized_partition(array, start, end)\n",
    "        _quick_sort(array, start, p_idx)\n",
    "        _quick_sort(array, p_idx + 1, end)\n",
    "        \n",
    "def quick_sort(array):\n",
    "    _quick_sort(array, 0, len(array))"
   ]
  },
  {
   "cell_type": "code",
   "execution_count": 110,
   "metadata": {},
   "outputs": [
    {
     "data": {
      "text/plain": [
       "[1, 2, 3, 4, 6, 6]"
      ]
     },
     "execution_count": 110,
     "metadata": {},
     "output_type": "execute_result"
    }
   ],
   "source": [
    "array = [6, 2, 4, 1, 3, 6]\n",
    "quick_sort(array)\n",
    "array"
   ]
  },
  {
   "cell_type": "code",
   "execution_count": null,
   "metadata": {},
   "outputs": [],
   "source": []
  },
  {
   "cell_type": "code",
   "execution_count": null,
   "metadata": {},
   "outputs": [],
   "source": []
  },
  {
   "cell_type": "code",
   "execution_count": null,
   "metadata": {},
   "outputs": [],
   "source": []
  }
 ],
 "metadata": {
  "kernelspec": {
   "display_name": "Python [default]",
   "language": "python",
   "name": "python3"
  },
  "language_info": {
   "codemirror_mode": {
    "name": "ipython",
    "version": 3
   },
   "file_extension": ".py",
   "mimetype": "text/x-python",
   "name": "python",
   "nbconvert_exporter": "python",
   "pygments_lexer": "ipython3",
   "version": "3.6.5"
  }
 },
 "nbformat": 4,
 "nbformat_minor": 2
}
