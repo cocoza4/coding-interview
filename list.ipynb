{
 "cells": [
  {
   "cell_type": "code",
   "execution_count": null,
   "metadata": {},
   "outputs": [],
   "source": []
  },
  {
   "cell_type": "code",
   "execution_count": null,
   "metadata": {},
   "outputs": [],
   "source": []
  },
  {
   "cell_type": "code",
   "execution_count": 1,
   "metadata": {},
   "outputs": [],
   "source": [
    "class Node:\n",
    "    \n",
    "    def __init__(self, data):\n",
    "        self.data = data\n",
    "        self.next = None\n",
    "\n",
    "class LinkedList:\n",
    "    \n",
    "    def __init__(self):\n",
    "        self.head = None\n",
    "        self.tail = self.head\n",
    "        \n",
    "    def insert_first(self, data):\n",
    "        node = Node(data)\n",
    "        node.next = self.head\n",
    "        self.head = node\n",
    "        \n",
    "    def insert_last(self, data):\n",
    "        node = Node(data)\n",
    "        current = self.head\n",
    "        while current.next is not None:\n",
    "            current = current.next\n",
    "        current.next = node\n",
    "        \n",
    "    def insert(self, data, pos):\n",
    "        node = Node(data)\n",
    "        if pos == 0:\n",
    "            node.next = self.head\n",
    "            self.head = node\n",
    "        else:\n",
    "            i = 1\n",
    "            current = self.head\n",
    "            while current.next is not None:\n",
    "                if i == pos:\n",
    "                    node.next = current.next\n",
    "                    current.next = node\n",
    "                    break\n",
    "                current = current.next\n",
    "                i += 1\n",
    "\n",
    "    def remove(self, data):\n",
    "        \n",
    "        if self.head is not None and self.head.data == data:\n",
    "            self.head = self.head.next\n",
    "        else:\n",
    "            current = self.head\n",
    "            while current.next is not None:\n",
    "                if current.next.data == data:\n",
    "                    tmp = current.next\n",
    "                    current.next = tmp.next\n",
    "                    break\n",
    "                current = current.next\n",
    "                \n",
    "    def reverse(self):\n",
    "        current = self.head\n",
    "        prev = None\n",
    "        while current is not None:\n",
    "            next_ = current.next\n",
    "            current.next = prev\n",
    "            prev = current\n",
    "            current = next_\n",
    "        self.head = prev\n",
    "        \n",
    "    def reverse_recursion(self):\n",
    "        def _reverse(node):\n",
    "            if node.next is not None:\n",
    "                _reverse(node.next)\n",
    "                q = node.next\n",
    "                q.next = node\n",
    "                node.next = None\n",
    "            else:\n",
    "                self.head = node\n",
    "            \n",
    "        _reverse(self.head)\n",
    "            \n",
    "    def traverse(self):\n",
    "        current = self.head\n",
    "        while current is not None:\n",
    "            print(current.data)\n",
    "            current = current.next\n",
    "            \n",
    "    def traverse_recursion(self):\n",
    "        def _traverse(node):\n",
    "            if node is not None:\n",
    "                print(node.data)\n",
    "                _traverse(node.next)\n",
    "                \n",
    "        _traverse(self.head)\n",
    "        \n",
    "    def traverse_backward_recursion(self):\n",
    "        def _traverse(node):\n",
    "            if node is not None:\n",
    "                _traverse(node.next)\n",
    "                print(node.data)\n",
    "                \n",
    "        _traverse(self.head)\n",
    "    "
   ]
  },
  {
   "cell_type": "code",
   "execution_count": 2,
   "metadata": {},
   "outputs": [],
   "source": [
    "ll = LinkedList()\n",
    "ll.insert_first(5)\n",
    "ll.insert_first(6)\n",
    "ll.insert_first(3)\n",
    "ll.insert_first(4)\n",
    "ll.insert_first(10)"
   ]
  },
  {
   "cell_type": "code",
   "execution_count": 3,
   "metadata": {},
   "outputs": [
    {
     "name": "stdout",
     "output_type": "stream",
     "text": [
      "10\n",
      "4\n",
      "3\n",
      "6\n",
      "5\n"
     ]
    }
   ],
   "source": [
    "ll.traverse()"
   ]
  },
  {
   "cell_type": "code",
   "execution_count": 4,
   "metadata": {},
   "outputs": [
    {
     "name": "stdout",
     "output_type": "stream",
     "text": [
      "5\n",
      "6\n",
      "3\n",
      "4\n",
      "10\n"
     ]
    }
   ],
   "source": [
    "ll.reverse_recursion()\n",
    "ll.traverse()"
   ]
  },
  {
   "cell_type": "code",
   "execution_count": 5,
   "metadata": {},
   "outputs": [
    {
     "name": "stdout",
     "output_type": "stream",
     "text": [
      "5\n",
      "6\n",
      "3\n",
      "4\n",
      "10\n"
     ]
    }
   ],
   "source": [
    "ll.traverse()"
   ]
  },
  {
   "cell_type": "code",
   "execution_count": 6,
   "metadata": {},
   "outputs": [
    {
     "data": {
      "text/plain": [
       "5"
      ]
     },
     "execution_count": 6,
     "metadata": {},
     "output_type": "execute_result"
    }
   ],
   "source": [
    "ll.head.data"
   ]
  },
  {
   "cell_type": "code",
   "execution_count": null,
   "metadata": {},
   "outputs": [],
   "source": []
  },
  {
   "cell_type": "code",
   "execution_count": 7,
   "metadata": {},
   "outputs": [
    {
     "name": "stdout",
     "output_type": "stream",
     "text": [
      "10\n",
      "4\n",
      "3\n",
      "6\n",
      "5\n"
     ]
    }
   ],
   "source": [
    "ll.reverse()\n",
    "ll.traverse()"
   ]
  },
  {
   "cell_type": "code",
   "execution_count": 8,
   "metadata": {},
   "outputs": [
    {
     "name": "stdout",
     "output_type": "stream",
     "text": [
      "10\n",
      "4\n",
      "3\n",
      "6\n",
      "5\n"
     ]
    }
   ],
   "source": [
    "ll.traverse_recursion()"
   ]
  },
  {
   "cell_type": "code",
   "execution_count": 9,
   "metadata": {},
   "outputs": [
    {
     "name": "stdout",
     "output_type": "stream",
     "text": [
      "5\n",
      "6\n",
      "3\n",
      "4\n",
      "10\n"
     ]
    }
   ],
   "source": [
    "ll.traverse_backward_recursion()"
   ]
  },
  {
   "cell_type": "code",
   "execution_count": 10,
   "metadata": {},
   "outputs": [
    {
     "name": "stdout",
     "output_type": "stream",
     "text": [
      "4\n",
      "3\n",
      "6\n",
      "5\n"
     ]
    }
   ],
   "source": [
    "ll.remove(10)\n",
    "ll.traverse()"
   ]
  },
  {
   "cell_type": "code",
   "execution_count": 11,
   "metadata": {},
   "outputs": [
    {
     "name": "stdout",
     "output_type": "stream",
     "text": [
      "4\n",
      "6\n",
      "5\n"
     ]
    }
   ],
   "source": [
    "ll.remove(3)\n",
    "ll.traverse()"
   ]
  },
  {
   "cell_type": "code",
   "execution_count": 12,
   "metadata": {},
   "outputs": [
    {
     "name": "stdout",
     "output_type": "stream",
     "text": [
      "4\n",
      "6\n"
     ]
    }
   ],
   "source": [
    "ll.remove(5)\n",
    "ll.traverse()"
   ]
  },
  {
   "cell_type": "code",
   "execution_count": 13,
   "metadata": {},
   "outputs": [
    {
     "name": "stdout",
     "output_type": "stream",
     "text": [
      "4\n"
     ]
    }
   ],
   "source": [
    "ll.remove(6)\n",
    "ll.traverse()"
   ]
  },
  {
   "cell_type": "code",
   "execution_count": 14,
   "metadata": {},
   "outputs": [
    {
     "name": "stdout",
     "output_type": "stream",
     "text": [
      "4\n"
     ]
    }
   ],
   "source": [
    "ll.remove(2)\n",
    "ll.traverse()"
   ]
  },
  {
   "cell_type": "code",
   "execution_count": 15,
   "metadata": {},
   "outputs": [],
   "source": [
    "ll.remove(4)\n",
    "ll.traverse()"
   ]
  },
  {
   "cell_type": "code",
   "execution_count": null,
   "metadata": {},
   "outputs": [],
   "source": []
  },
  {
   "cell_type": "code",
   "execution_count": null,
   "metadata": {},
   "outputs": [],
   "source": []
  },
  {
   "cell_type": "code",
   "execution_count": 40,
   "metadata": {},
   "outputs": [],
   "source": [
    "class DoublyLinkedList:\n",
    "    \n",
    "    def insert_head(self, data):\n",
    "        pass\n",
    "    \n",
    "    def insert_tail(self, data):\n",
    "        pass\n",
    "    \n",
    "    def traverse(self):\n",
    "        pass\n",
    "    \n",
    "    def traverse_reverse(self):\n",
    "        pass"
   ]
  },
  {
   "cell_type": "code",
   "execution_count": null,
   "metadata": {},
   "outputs": [],
   "source": []
  },
  {
   "cell_type": "code",
   "execution_count": null,
   "metadata": {},
   "outputs": [],
   "source": []
  }
 ],
 "metadata": {
  "kernelspec": {
   "display_name": "Python [default]",
   "language": "python",
   "name": "python3"
  },
  "language_info": {
   "codemirror_mode": {
    "name": "ipython",
    "version": 3
   },
   "file_extension": ".py",
   "mimetype": "text/x-python",
   "name": "python",
   "nbconvert_exporter": "python",
   "pygments_lexer": "ipython3",
   "version": "3.6.5"
  }
 },
 "nbformat": 4,
 "nbformat_minor": 2
}
